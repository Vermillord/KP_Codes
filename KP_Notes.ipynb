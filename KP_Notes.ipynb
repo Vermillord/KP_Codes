{
 "cells": [
  {
   "cell_type": "markdown",
   "metadata": {},
   "source": [
    "# Day 1"
   ]
  },
  {
   "cell_type": "markdown",
   "metadata": {},
   "source": [
    "## Numpy Vectorization\n",
    "\n",
    "Most operations are done element-wise i.e. using for loops such as"
   ]
  },
  {
   "cell_type": "code",
   "execution_count": 3,
   "metadata": {},
   "outputs": [
    {
     "data": {
      "text/plain": [
       "[5, 7, 9]"
      ]
     },
     "execution_count": 3,
     "metadata": {},
     "output_type": "execute_result"
    }
   ],
   "source": [
    "import numpy as np\n",
    "\n",
    "a = np.array([1, 2, 3])\n",
    "b = np.array([4, 5, 6])\n",
    "\n",
    "out = []\n",
    "\n",
    "for i in range(len(a)):\n",
    "    out.append(a[i] + b[i])\n",
    "out"
   ]
  },
  {
   "cell_type": "markdown",
   "metadata": {},
   "source": [
    "The sum product of array a and b are calculated by summing each 'element' of each array, hence the term element-wise. Whereas, a vectorized operation would operate every element in the array simultaneously."
   ]
  },
  {
   "cell_type": "code",
   "execution_count": 4,
   "metadata": {},
   "outputs": [
    {
     "data": {
      "text/plain": [
       "array([5, 7, 9])"
      ]
     },
     "execution_count": 4,
     "metadata": {},
     "output_type": "execute_result"
    }
   ],
   "source": [
    "a + b"
   ]
  },
  {
   "cell_type": "markdown",
   "metadata": {},
   "source": [
    "By using vectorization, more complex arrays or other datas can be operated more effieciently thanks to **The Broadcasting Rule**. The rule states that an array can be broadcasted to another array for each missing length the first array has, but the other length of the two arrays must have the same size. An example of this is"
   ]
  },
  {
   "cell_type": "code",
   "execution_count": 5,
   "metadata": {},
   "outputs": [
    {
     "data": {
      "text/plain": [
       "array([[4, 5, 6],\n",
       "       [5, 6, 7],\n",
       "       [6, 7, 8],\n",
       "       [7, 8, 9]])"
      ]
     },
     "execution_count": 5,
     "metadata": {},
     "output_type": "execute_result"
    }
   ],
   "source": [
    "A = np.array([[0, 0, 0],\n",
    "             [1, 1, 1],\n",
    "             [2, 2, 2],\n",
    "             [3, 3, 3]])\n",
    "\n",
    "A + b"
   ]
  },
  {
   "cell_type": "markdown",
   "metadata": {},
   "source": [
    "It can be seen that array b is broadcasted to each row of array A. A vectorized operation can also be done by using a boolean opearot that can result in a boolean array. An example of this is shown as"
   ]
  },
  {
   "cell_type": "code",
   "execution_count": 6,
   "metadata": {},
   "outputs": [
    {
     "data": {
      "text/plain": [
       "array([False,  True,  True])"
      ]
     },
     "execution_count": 6,
     "metadata": {},
     "output_type": "execute_result"
    }
   ],
   "source": [
    "a > 1"
   ]
  },
  {
   "cell_type": "code",
   "execution_count": 7,
   "metadata": {},
   "outputs": [
    {
     "data": {
      "text/plain": [
       "array([[False, False, False],\n",
       "       [False, False,  True],\n",
       "       [False,  True,  True],\n",
       "       [ True,  True,  True]])"
      ]
     },
     "execution_count": 7,
     "metadata": {},
     "output_type": "execute_result"
    }
   ],
   "source": [
    "A+b > 6"
   ]
  },
  {
   "cell_type": "markdown",
   "metadata": {},
   "source": [
    "Sometimes the data used needs to be standardized first. It can be done by using the equation\n",
    "\n",
    "$$\n",
    "x' = \\frac{x-\\bar{x}}{\\sigma}\n",
    "$$"
   ]
  },
  {
   "cell_type": "code",
   "execution_count": 8,
   "metadata": {},
   "outputs": [
    {
     "data": {
      "text/plain": [
       "array([-1.46385011, -0.87831007, -0.29277002,  0.29277002,  0.87831007,\n",
       "        1.46385011])"
      ]
     },
     "execution_count": 8,
     "metadata": {},
     "output_type": "execute_result"
    }
   ],
   "source": [
    "c = np.array([1, 2, 3, 4, 5, 6])\n",
    "\n",
    "(c - c.mean())/c.std()"
   ]
  },
  {
   "cell_type": "markdown",
   "metadata": {},
   "source": [
    "## Functions"
   ]
  },
  {
   "cell_type": "markdown",
   "metadata": {},
   "source": [
    "Functions can be made in python by using the 'def' command. For each functions made there must be corresponding arguments for the function to connect a value inserted and the operation done"
   ]
  },
  {
   "cell_type": "code",
   "execution_count": 9,
   "metadata": {},
   "outputs": [
    {
     "data": {
      "text/plain": [
       "['This', 'is', 'a', 'python', 'list']"
      ]
     },
     "execution_count": 9,
     "metadata": {},
     "output_type": "execute_result"
    }
   ],
   "source": [
    "def append_list(lst, lst_val):\n",
    "    for i in range(len(lst_val)):\n",
    "        lst.append(lst_val[i])\n",
    "    return lst\n",
    "\n",
    "lst = [\"This\", \"is\"]\n",
    "add_list = [\"a\", \"python\", \"list\"]\n",
    "\n",
    "\n",
    "append_list(lst, add_list)\n",
    "lst"
   ]
  },
  {
   "cell_type": "markdown",
   "metadata": {},
   "source": [
    "There are positional arguments that can be used for functions, which are args and kwargs. args are used for taking elements from lists and kwargs are used for taking elements from a dictionary. The difference between the two of these are the operator * and ** are used for taking elements from a list and dictionary, respectively."
   ]
  },
  {
   "cell_type": "markdown",
   "metadata": {},
   "source": [
    "## Decorators"
   ]
  },
  {
   "cell_type": "markdown",
   "metadata": {},
   "source": [
    "Decorators are used to add functionality to a function that is created in python. By using decorators, it won't the function that has been created. Take this decorator function as an example."
   ]
  },
  {
   "cell_type": "code",
   "execution_count": 10,
   "metadata": {},
   "outputs": [],
   "source": [
    "def decorator_func(func):\n",
    "    def wrapper_func():\n",
    "        print('This wrapper goes before the function below')\n",
    "        return func()\n",
    "    return wrapper_func"
   ]
  },
  {
   "cell_type": "markdown",
   "metadata": {},
   "source": [
    "Next, we create a function to use the decorator with."
   ]
  },
  {
   "cell_type": "code",
   "execution_count": 11,
   "metadata": {},
   "outputs": [
    {
     "name": "stdout",
     "output_type": "stream",
     "text": [
      "This is the function\n"
     ]
    }
   ],
   "source": [
    "def some_func():\n",
    "    print('This is the function')\n",
    "\n",
    "some_func()"
   ]
  },
  {
   "cell_type": "markdown",
   "metadata": {},
   "source": [
    "By adding the decorator before the function is used, the results will be."
   ]
  },
  {
   "cell_type": "code",
   "execution_count": 12,
   "metadata": {},
   "outputs": [
    {
     "name": "stdout",
     "output_type": "stream",
     "text": [
      "This wrapper goes before the function below\n",
      "This is the function with decorator\n"
     ]
    }
   ],
   "source": [
    "@decorator_func\n",
    "def deco_func():\n",
    "    print('This is the function with decorator')\n",
    "\n",
    "deco_func()"
   ]
  },
  {
   "cell_type": "markdown",
   "metadata": {},
   "source": [
    "It is shown here that the function that we created has another functionality that can be added through the wrapper function."
   ]
  },
  {
   "cell_type": "markdown",
   "metadata": {},
   "source": [
    "## Differential Equation Analysis"
   ]
  },
  {
   "cell_type": "markdown",
   "metadata": {},
   "source": [
    "### Euler Method"
   ]
  },
  {
   "cell_type": "markdown",
   "metadata": {},
   "source": [
    "Euler's method for differential equation analysis is to approximate the value ODEs by iterating the differential function to its initial value. Consider the following equation.\n",
    "\n",
    "$$\n",
    "\\frac{dx(t)}{dt} = f(x(t),t)\n",
    "$$\n",
    "\n",
    "Assume that the function has an initial value of $x$ = $x_0$. The euler method to find the value from the equation will be iterated with the function itself multiplied by a step size of h. The function of the approximation x* is\n",
    "\n",
    "$$\n",
    "x^*(t) = x_0 + h.f(x(t),t)\n",
    "$$\n",
    "\n",
    "The smaller the value of $h$ the more accurate it gets, but there needs to be a consideration in choosing a small $h$ because the calculation time will increase as the smaller h gets."
   ]
  },
  {
   "cell_type": "markdown",
   "metadata": {},
   "source": [
    "### Runge Kutta 4th Order"
   ]
  },
  {
   "cell_type": "markdown",
   "metadata": {},
   "source": [
    "Runge Kutta approximates the value of an ODE by iterating the initial value with four values which are $k_1$, $k_2$, $k_3$, $k_4$.\n",
    "\n",
    "$$k_1 = f(x^*(t_0), t_0) \\\\\n",
    "k_2 = f(x^*(t_0) + k_1\\frac{h}{2}, t_0 + \\frac{h}{2}) \\\\\n",
    "k_3 = f(x^*(t_0) + k_2\\frac{h}{2}, t_0 + \\frac{h}{2}) \\\\\n",
    "k_4 = f(x^*(t_0) + k_3h, t_0 + h)$$\n",
    "\n",
    "The estimation value of the ODE based on the four values of k is determined by the function below.\n",
    "\n",
    "$$\n",
    "x^*(t_0 + h) = x^*(t_0) + h.\\frac{k_1 + 2k_2 + 2k_3 + k_4}{6}\n",
    "$$\n",
    "\n",
    "The method works similarly to a weighted function shown by the value that are multiplied to each $k$. "
   ]
  },
  {
   "cell_type": "code",
   "execution_count": 13,
   "metadata": {},
   "outputs": [],
   "source": [
    "# Python class for both method\n",
    "class diff_eq:\n",
    "    def __init__ (self, t0, x0, target, step):\n",
    "        self.t0 = t0\n",
    "        self.x0 = x0\n",
    "        self.target = target\n",
    "        self.h = step\n",
    "        self.xval = 0\n",
    "        print(\"Values received\")\n",
    "        \n",
    "    # Euler Method\n",
    "    def euler(self, function):\n",
    "        # Initiate the value of x\n",
    "        self.xval = self.x0\n",
    "        \n",
    "        # Iterate until the value of t reaches the target t\n",
    "        while self.t0 < self.target:\n",
    "            self.xval = self.xval + self.h*function(self.t0, self.x0)\n",
    "            self.t0 = self.t0 + self.h\n",
    "        # Returns the value of x\n",
    "        return self.xval\n",
    "        \n",
    "    # Runge Kutta 4th Order Method\n",
    "    def rk4(self, function):\n",
    "        # Number of iterations based on step size\n",
    "        self.n = int((self.target - self.t0)/self.h)\n",
    "        # Initiate the value of x\n",
    "        self.xval = self.x0\n",
    "            \n",
    "        # Iterate until the value of t reaches the target t\n",
    "        for i in range(1, self.n+1):\n",
    "            # Runge Kutta formulas for each k\n",
    "            k1 = self.h * function(self.t0, self.xval) \n",
    "            k2 = self.h * function(self.t0+0.5*self.h, self.xval+0.5*k1) \n",
    "            k3 = self.h * function(self.t0+0.5*self.h, self.xval+0.5*k2) \n",
    "            k4 = self.h * function(self.t0+self.h, self.xval+k3)\n",
    "            \n",
    "            # Update values\n",
    "            self.xval = self.xval + 1.0*(k1 + 2 * k2 + 2 * k3 + k4)/6.0\n",
    "            self.t0 = self.t0 + self.h\n",
    "        return self.xval"
   ]
  },
  {
   "cell_type": "code",
   "execution_count": 14,
   "metadata": {},
   "outputs": [
    {
     "name": "stdout",
     "output_type": "stream",
     "text": [
      "Values received\n",
      "The value by using euler method: 0.9999999999999999\n",
      "Values received\n",
      "The value by using runge kutta method: 1.1036393232374955\n"
     ]
    }
   ],
   "source": [
    "def dxdy(t, x):\n",
    "    return ((t - x)/2)\n",
    "\n",
    "# Euler method test\n",
    "euval = diff_eq(0, 1, 2, 0.2)\n",
    "print(\"The value by using euler method: \" + str(euval.euler(dxdy)))\n",
    "\n",
    "# Runge kutta method test\n",
    "rkval = diff_eq(0, 1, 2, 0.2)\n",
    "print(\"The value by using runge kutta method: \" + str(rkval.rk4(dxdy)))"
   ]
  },
  {
   "cell_type": "markdown",
   "metadata": {},
   "source": [
    "# Day 2"
   ]
  },
  {
   "cell_type": "markdown",
   "metadata": {},
   "source": [
    "## Truncation Error"
   ]
  },
  {
   "cell_type": "markdown",
   "metadata": {},
   "source": [
    "Assume that there exists an equation of x which is stated as\n",
    "\n",
    "$$\n",
    "x' = \\frac{dx}{dt} = f(x,t)\n",
    "$$\n",
    "\n",
    "When using the euler method for calculating the approximation value of x, there will be an error generated because of the approximation. The error generated is called as the **Truncation Error**. For the equation above, the truncation error by using the euler method for approximation for each step of iteration is stated as\n",
    "\n",
    "$$\n",
    "O(h^2) = \\frac{h^2}{2}x''(\\tilde{t_i})\n",
    "$$\n",
    "\n",
    "Where the value of x'' is the second order derivation of x by t, or in other form it is stated as\n",
    "\n",
    "$$\n",
    "x''(t_i) = f_t(t,x(t)) + f_x(t,x(t))f(t,x(t))\n",
    "$$\n",
    "\n",
    "$f_t$ and $f_x$ are both the partial derivation of the equation by t and x respectively. The value of $\\tilde{t_i}$ is the number between $x_i$ and $x_{i+1}$, hence\n",
    "\n",
    "$$\n",
    "\\tilde{x_i} = \\frac{x_{i+1}-x_i}{2}\n",
    "$$\n",
    "\n",
    "Seeing that $x'$ is equal to $f(x,t)$, hence the formula of $O(h^2)$ can also be written as\n",
    "\n",
    "$$\n",
    "O(h^2) = \\frac{h^2}{2}f'(x_i,t_i)\n",
    "$$"
   ]
  },
  {
   "cell_type": "markdown",
   "metadata": {},
   "source": [
    "The truncation error of the euler method is defined by $O(h^2)$. Whereas for a higher order the truncation error, say an order of $n$, it would change the truncation error equation to $O(h^{n+1})$. The formula of $O(h^n)$ is stated as\n",
    "\n",
    "$$\n",
    "O(h^n) = \\frac{h^n}{n!}f^{(n-1)}(x_i,t_i)\n",
    "$$\n",
    "\n",
    "Referring back to the RK4 method, based on its name, we can determine that it would have a truncation error of $n+1$ based on its order. Hence, the truncation error of the RK4 method would be $O(h^5)$."
   ]
  },
  {
   "cell_type": "markdown",
   "metadata": {},
   "source": [
    "## Numba Test"
   ]
  },
  {
   "cell_type": "code",
   "execution_count": 15,
   "metadata": {},
   "outputs": [
    {
     "data": {
      "text/plain": [
       "1.125"
      ]
     },
     "execution_count": 15,
     "metadata": {},
     "output_type": "execute_result"
    }
   ],
   "source": [
    "import numpy as np\n",
    "from numba import njit, jit\n",
    "\n",
    "# Euler Method\n",
    "def euler(t0, x0, target, h, function):\n",
    "    # Initiate the value of x\n",
    "    xval = x0\n",
    "    \n",
    "    # Iterate until the value of t reaches the target t\n",
    "    while t0 < target:\n",
    "        xval = xval + h*function(t0, x0)\n",
    "        t0 = t0 + h\n",
    "    # Returns the value of x\n",
    "    return xval\n",
    "\n",
    "@njit\n",
    "def eu_dec(t0, x0, target, h, function):\n",
    "    # Initiate the value of y\n",
    "    xval = x0\n",
    "        \n",
    "    # Iterate until the value of x reaches the target x\n",
    "    while t0 < target:\n",
    "        xval = xval + h*function(t0, x0)\n",
    "        t0 = t0 + h\n",
    "    # Returns the value of y\n",
    "    return xval\n",
    "\n",
    "@njit\n",
    "def func(t, x):\n",
    "    return((t-x)/2)\n",
    "\n",
    "# First compile with random inputs\n",
    "eu_dec(1, 1, 2, 0.5, func)"
   ]
  },
  {
   "cell_type": "code",
   "execution_count": 16,
   "metadata": {},
   "outputs": [
    {
     "name": "stdout",
     "output_type": "stream",
     "text": [
      "43.1 µs ± 1.74 µs per loop (mean ± std. dev. of 7 runs, 10000 loops each)\n"
     ]
    }
   ],
   "source": [
    "%timeit euler(0, 1, 7, 0.05, func)"
   ]
  },
  {
   "cell_type": "code",
   "execution_count": 17,
   "metadata": {},
   "outputs": [
    {
     "name": "stdout",
     "output_type": "stream",
     "text": [
      "10.7 µs ± 305 ns per loop (mean ± std. dev. of 7 runs, 100000 loops each)\n"
     ]
    }
   ],
   "source": [
    "%timeit eu_dec(0, 1, 7, 0.05, func)"
   ]
  },
  {
   "cell_type": "markdown",
   "metadata": {},
   "source": [
    "# Day 3"
   ]
  },
  {
   "cell_type": "markdown",
   "metadata": {},
   "source": [
    "## Transfer Function"
   ]
  },
  {
   "cell_type": "markdown",
   "metadata": {},
   "source": [
    "Consider the following transfer function.\n",
    "\n",
    "$$\n",
    "\\displaystyle{G(s) = \\frac{1}{s^3+3s^2+2s+1}}\n",
    "$$\n",
    "\n",
    "By using the control library, the transfer function will now be simulated to check the step response."
   ]
  },
  {
   "cell_type": "code",
   "execution_count": 18,
   "metadata": {},
   "outputs": [],
   "source": [
    "import numpy as np\n",
    "import matplotlib.pyplot as plt\n",
    "import scipy as sc\n",
    "import control as co\n",
    "from numba import njit, jit, prange\n",
    "%matplotlib inline"
   ]
  },
  {
   "cell_type": "code",
   "execution_count": 19,
   "metadata": {},
   "outputs": [
    {
     "data": {
      "image/png": "[encoded data removed]",
      "text/plain": [
       "<Figure size 432x288 with 1 Axes>"
      ]
     },
     "metadata": {
      "needs_background": "light"
     },
     "output_type": "display_data"
    }
   ],
   "source": [
    "# Create the transfer function\n",
    "sys = co.tf([1],[1, 3, 2, 1])\n",
    "\n",
    "# Define the time interval 0.01 s time step\n",
    "t = np.arange(int(30/0.01))*0.01\n",
    "\n",
    "# Plot the step response of the system\n",
    "T, yout = co.step_response(sys, t)\n",
    "plt.title(\"Step response of G(s)\")\n",
    "plt.plot(T, yout)\n",
    "plt.show()"
   ]
  },
  {
   "cell_type": "markdown",
   "metadata": {},
   "source": [
    "## Dynamics"
   ]
  },
  {
   "cell_type": "markdown",
   "metadata": {},
   "source": [
    "Next, the dynamics of the system will be simulated by creating a function based on the state space equation of G(s). Consider that the state space equation of the system is written as\n",
    "$$\n",
    "\\dot{\\mathbf{x}} = \\mathbf{A}\\mathbf{x} + \\mathbf{B}\\mathbf{u}\n",
    "$$\n",
    "$$\n",
    "\\mathbf{y} = \\mathbf{C}\\mathbf{x} + \\mathbf{D}\\mathbf{u}\n",
    "$$"
   ]
  },
  {
   "cell_type": "code",
   "execution_count": 20,
   "metadata": {},
   "outputs": [
    {
     "data": {
      "text/plain": [
       "A = [[-3. -2. -1.]\n",
       " [ 1.  0.  0.]\n",
       " [ 0.  1.  0.]]\n",
       "\n",
       "B = [[1.]\n",
       " [0.]\n",
       " [0.]]\n",
       "\n",
       "C = [[0. 0. 1.]]\n",
       "\n",
       "D = [[0.]]"
      ]
     },
     "execution_count": 20,
     "metadata": {},
     "output_type": "execute_result"
    }
   ],
   "source": [
    "# Change from s-domain to state space\n",
    "sys_ss = co.tf2ss(sys)\n",
    "sys_ss"
   ]
  },
  {
   "cell_type": "markdown",
   "metadata": {},
   "source": [
    "Based on the values of A, B, C, and D, the dynamics of the system can now be determined."
   ]
  },
  {
   "cell_type": "code",
   "execution_count": 21,
   "metadata": {},
   "outputs": [],
   "source": [
    "A = np.array(sys_ss.A)\n",
    "B = np.array(sys_ss.B)\n",
    "C = np.array(sys_ss.C)\n",
    "D = np.array(sys_ss.D)\n",
    "\n",
    "def dynamics(x, u):\n",
    "    # Apply the state space equation for x dot\n",
    "    x_dot = np.ravel(np.dot(A, x))+ np.ravel(np.dot(B, u))\n",
    "    \n",
    "    return x_dot\n",
    "\n",
    "# Create a jitted function of the original dynamics function\n",
    "dynamics_jitted = njit(dynamics)"
   ]
  },
  {
   "cell_type": "code",
   "execution_count": 22,
   "metadata": {},
   "outputs": [],
   "source": [
    "# Compile the jitted function\n",
    "# Use float to ensure the function will accept float as inputs\n",
    "_ = dynamics_jitted(np.arange(3)*1.0, np.array([2.0]))"
   ]
  },
  {
   "cell_type": "code",
   "execution_count": 23,
   "metadata": {},
   "outputs": [
    {
     "name": "stdout",
     "output_type": "stream",
     "text": [
      "10.4 µs ± 210 ns per loop (mean ± std. dev. of 7 runs, 100000 loops each)\n",
      "5.39 µs ± 177 ns per loop (mean ± std. dev. of 7 runs, 100000 loops each)\n"
     ]
    }
   ],
   "source": [
    "# Time test for both method\n",
    "%timeit dynamics(np.arange(3)*1.0, np.array([3.0]))\n",
    "%timeit dynamics_jitted(np.arange(3)*1.0, np.array([3.0]))"
   ]
  },
  {
   "cell_type": "markdown",
   "metadata": {},
   "source": [
    "## Euler Method"
   ]
  },
  {
   "cell_type": "markdown",
   "metadata": {},
   "source": [
    "Based on the dynamics function, now the value of $\\dot{x}$ can be approximated by using the euler method."
   ]
  },
  {
   "cell_type": "code",
   "execution_count": 24,
   "metadata": {},
   "outputs": [
    {
     "name": "stdout",
     "output_type": "stream",
     "text": [
      "(10, 3)\n",
      "(10, 1)\n"
     ]
    }
   ],
   "source": [
    "def sim_euler(t, u, x0):\n",
    "    # Initialize the output\n",
    "    x = np.empty((t.shape[0], x0.shape[0]))\n",
    "    y = np.empty((t.shape[0], C.shape[0]))\n",
    "    \n",
    "    x[0] = np.ravel(x0)\n",
    "    y[0] = np.ravel(np.dot(C, x[0])) + np.ravel(np.dot(D, u[0]))\n",
    "    \n",
    "    for i in range(t.shape[0] - 1):\n",
    "        x[i+1] = x[i] + (t[i+1]-t[i])*dynamics(x[i], u[i])\n",
    "        y[i+1] = np.ravel(np.dot(C, x[i+1])) + np.ravel(np.dot(D, u[i]))\n",
    "\n",
    "    return x, y\n",
    "\n",
    "# Test the output of the function\n",
    "a = 1.0*np.arange(10)\n",
    "b = 2.0*np.ones((10,1))\n",
    "c = 0.0*np.zeros((3,1))\n",
    "out1, out2 = sim_euler(a, b, c)\n",
    "print(out1.shape)\n",
    "print(out2.shape)"
   ]
  },
  {
   "cell_type": "code",
   "execution_count": 25,
   "metadata": {},
   "outputs": [],
   "source": [
    "# Create a jitted function based on the euler method function\n",
    "@njit\n",
    "def sim_euler_jitted(t, u, x0):\n",
    "    # Don't forget to initialize the output\n",
    "    x = np.empty((t.shape[0], x0.shape[0]))\n",
    "    y = np.empty((t.shape[0], C.shape[0]))\n",
    "\n",
    "    x[0] = np.ravel(x0)\n",
    "    y[0] = np.ravel(np.dot(C, x[0])) + np.ravel(np.dot(D, u[0]))\n",
    "\n",
    "    for i in range(t.shape[0] - 1):\n",
    "        x[i+1] = x[i] + (t[i+1]-t[i])*dynamics_jitted(x[i], u[i])\n",
    "        y[i+1] = np.ravel(np.dot(C, x[i+1])) + np.ravel(np.dot(D, u[i]))\n",
    "\n",
    "    return x, y\n",
    "\n",
    "# Compile the jitted function and use float as inputs\n",
    "_ = sim_euler_jitted(a, b, c)"
   ]
  },
  {
   "cell_type": "code",
   "execution_count": 26,
   "metadata": {},
   "outputs": [
    {
     "name": "stdout",
     "output_type": "stream",
     "text": [
      "54.2 ms ± 1.43 ms per loop (mean ± std. dev. of 7 runs, 10 loops each)\n",
      "4.63 ms ± 131 µs per loop (mean ± std. dev. of 7 runs, 100 loops each)\n"
     ]
    }
   ],
   "source": [
    "# Time test for both methods\n",
    "t = np.arange(int(30/0.01))*0.01 # 30 seconds with 0.01 s time-step\n",
    "u = np.ones((t.shape[0], 1)) # Step Input\n",
    "x0 = np.zeros((3, 1))\n",
    "\n",
    "%timeit _ = sim_euler(t, u, x0)\n",
    "%timeit _ = sim_euler_jitted(t, u, x0)"
   ]
  },
  {
   "cell_type": "code",
   "execution_count": 27,
   "metadata": {},
   "outputs": [],
   "source": [
    "_, result_euler = sim_euler(t, u, x0)\n",
    "_, result_euler_jitted = sim_euler_jitted(t, u, x0)"
   ]
  },
  {
   "cell_type": "code",
   "execution_count": 28,
   "metadata": {},
   "outputs": [
    {
     "data": {
      "image/png": "[encoded data removed]",
      "text/plain": [
       "<Figure size 432x288 with 1 Axes>"
      ]
     },
     "metadata": {
      "needs_background": "light"
     },
     "output_type": "display_data"
    }
   ],
   "source": [
    "plt.plot(t, result_euler)\n",
    "plt.title(\"Euler Method\")\n",
    "plt.show()"
   ]
  },
  {
   "cell_type": "code",
   "execution_count": 29,
   "metadata": {},
   "outputs": [
    {
     "data": {
      "image/png": "[encoded data removed]",
      "text/plain": [
       "<Figure size 432x288 with 1 Axes>"
      ]
     },
     "metadata": {
      "needs_background": "light"
     },
     "output_type": "display_data"
    }
   ],
   "source": [
    "plt.plot(t, result_euler)\n",
    "plt.title(\"Jitted Euler Method\")\n",
    "plt.show()"
   ]
  },
  {
   "cell_type": "markdown",
   "metadata": {},
   "source": [
    "## Runge Kutta 4th Order Method"
   ]
  },
  {
   "cell_type": "markdown",
   "metadata": {},
   "source": [
    "To approximate using the runge kutta method first the function will be defined below."
   ]
  },
  {
   "cell_type": "code",
   "execution_count": 30,
   "metadata": {},
   "outputs": [
    {
     "name": "stdout",
     "output_type": "stream",
     "text": [
      "(10, 3)\n",
      "(10, 1)\n"
     ]
    }
   ],
   "source": [
    "def sim_rk4(t, u, x0):\n",
    "    # Initialize the output\n",
    "    x = np.empty((t.shape[0], x0.shape[0]))\n",
    "    y = np.empty((t.shape[0], C.shape[0]))\n",
    "    \n",
    "    x[0] = np.ravel(x0)\n",
    "    y[0] = np.ravel(np.dot(C, x[0])) + np.ravel(np.dot(D, u[0]))\n",
    "    \n",
    "    for i in range(t.shape[0] - 1):\n",
    "        h = t[i+1]-t[i]\n",
    "        k1 = h*dynamics(x[i], u[i])\n",
    "        k2 = h*dynamics(x[i]+k1*h/2, u[i])\n",
    "        k3 = h*dynamics(x[i]+k2*h/2, u[i])\n",
    "        k4 = h*dynamics(x[i]+k3*h, u[i])\n",
    "        \n",
    "        x[i+1] = x[i] + 1.0*(k1 + 2*k2 + 2*k3 + k4)/6.0\n",
    "        y[i+1] = np.ravel(np.dot(C, x[i+1])) + np.ravel(np.dot(D, u[i]))\n",
    "\n",
    "    return x, y\n",
    "\n",
    "# Test the output of the function\n",
    "a = 1.0*np.arange(10)\n",
    "b = 2.0*np.ones((10,1))\n",
    "c = 0.0*np.zeros((3,1))\n",
    "out1, out2 = sim_rk4(a, b, c)\n",
    "print(out1.shape)\n",
    "print(out2.shape)"
   ]
  },
  {
   "cell_type": "code",
   "execution_count": 31,
   "metadata": {},
   "outputs": [],
   "source": [
    "@njit\n",
    "def sim_rk4_jitted(t, u, x0):\n",
    "    # Initialize the output\n",
    "    x = np.empty((t.shape[0], x0.shape[0]))\n",
    "    y = np.empty((t.shape[0], C.shape[0]))\n",
    "    \n",
    "    x[0] = np.ravel(x0)\n",
    "    y[0] = np.ravel(np.dot(C, x[0])) + np.ravel(np.dot(D, u[0]))\n",
    "    \n",
    "    for i in range(t.shape[0] - 1):\n",
    "        h = t[i+1]-t[i]\n",
    "        k1 = h*dynamics_jitted(x[i], u[i])\n",
    "        k2 = h*dynamics_jitted(x[i]+k1*h/2, u[i])\n",
    "        k3 = h*dynamics_jitted(x[i]+k2*h/2, u[i])\n",
    "        k4 = h*dynamics_jitted(x[i]+k3*h, u[i])\n",
    "        \n",
    "        x[i+1] = x[i] + 1.0*(k1 + 2*k2 + 2*k3 + k4)/6.0\n",
    "        y[i+1] = np.ravel(np.dot(C, x[i+1])) + np.ravel(np.dot(D, u[i]))\n",
    "\n",
    "    return x, y"
   ]
  },
  {
   "cell_type": "code",
   "execution_count": 32,
   "metadata": {},
   "outputs": [
    {
     "name": "stdout",
     "output_type": "stream",
     "text": [
      "188 ms ± 6.93 ms per loop (mean ± std. dev. of 7 runs, 10 loops each)\n",
      "13.7 ms ± 643 µs per loop (mean ± std. dev. of 7 runs, 1 loop each)\n"
     ]
    }
   ],
   "source": [
    "# Time test for both methods\n",
    "t = np.arange(int(30/0.01))*0.01 # 30 seconds with 0.01 s time-step\n",
    "u = np.ones((t.shape[0], 1)) # Step Input\n",
    "x0 = np.zeros((3, 1))\n",
    "\n",
    "%timeit _ = sim_rk4(t, u, x0)\n",
    "%timeit _ = sim_rk4_jitted(t, u, x0)"
   ]
  },
  {
   "cell_type": "code",
   "execution_count": 33,
   "metadata": {},
   "outputs": [
    {
     "name": "stdout",
     "output_type": "stream",
     "text": [
      "57.4 ms ± 2.11 ms per loop (mean ± std. dev. of 7 runs, 10 loops each)\n",
      "4.66 ms ± 81 µs per loop (mean ± std. dev. of 7 runs, 100 loops each)\n"
     ]
    }
   ],
   "source": [
    "%timeit _ = sim_euler(t, u, x0)\n",
    "%timeit _ = sim_euler_jitted(t, u, x0)"
   ]
  },
  {
   "cell_type": "markdown",
   "metadata": {},
   "source": [
    "It can be seen here that the RK4 method has a bit of disadvantage on the total running time, but the overall time difference between using a jitted function and the original function, the RK4 method is more efficient than the euler method."
   ]
  },
  {
   "cell_type": "code",
   "execution_count": 34,
   "metadata": {},
   "outputs": [],
   "source": [
    "_, result_rk4 = sim_euler(t, u, x0)\n",
    "_, result_rk4_jitted = sim_euler_jitted(t, u, x0)"
   ]
  },
  {
   "cell_type": "code",
   "execution_count": 35,
   "metadata": {},
   "outputs": [
    {
     "data": {
      "image/png": "[encoded data removed]",
      "text/plain": [
       "<Figure size 432x288 with 1 Axes>"
      ]
     },
     "metadata": {
      "needs_background": "light"
     },
     "output_type": "display_data"
    }
   ],
   "source": [
    "plt.plot(t, result_rk4)\n",
    "plt.title(\"RK4 Method\")\n",
    "plt.show()"
   ]
  },
  {
   "cell_type": "code",
   "execution_count": 36,
   "metadata": {},
   "outputs": [
    {
     "data": {
      "image/png": "[encoded data removed]",
      "text/plain": [
       "<Figure size 432x288 with 1 Axes>"
      ]
     },
     "metadata": {
      "needs_background": "light"
     },
     "output_type": "display_data"
    }
   ],
   "source": [
    "plt.plot(t, result_rk4_jitted)\n",
    "plt.title(\"Jitted RK4 Method\")\n",
    "plt.show()"
   ]
  },
  {
   "cell_type": "markdown",
   "metadata": {},
   "source": [
    "# Day 4"
   ]
  },
  {
   "cell_type": "markdown",
   "metadata": {},
   "source": [
    "## Multi-Sim Euler Method"
   ]
  },
  {
   "cell_type": "markdown",
   "metadata": {},
   "source": [
    "By creating a new function, the euler method can be done multiple times to simulate a change of input size. The function that will be used to iterate the euler method for a number of times is defined below."
   ]
  },
  {
   "cell_type": "code",
   "execution_count": 39,
   "metadata": {},
   "outputs": [
    {
     "name": "stdout",
     "output_type": "stream",
     "text": [
      "(10, 3000)\n",
      "(10, 3, 1)\n",
      "(10, 10, 1)\n"
     ]
    }
   ],
   "source": [
    "def multi_sim_euler(t, u, x0):\n",
    "    # Define the output with one extra dimension as the iteration of multiple simulation\n",
    "    x = np.empty((t.shape[0], t.shape[1], x0.shape[1]))\n",
    "    y = np.empty((t.shape[0], t.shape[1], 1))\n",
    "    \n",
    "    for i in prange(t.shape[0]):\n",
    "        x[i], y[i] = sim_euler_jitted(t[i], u[i], x0[i])\n",
    "    \n",
    "    return x, y\n",
    "\n",
    "# Define a random input for compiling\n",
    "t = np.tile(np.arange(int(30/0.01))*0.01,(10, 1))\n",
    "print(t.shape)\n",
    "x0 = np.tile(np.zeros((1, 1)), (10, 3, 1))\n",
    "print(x0.shape)\n",
    "u = np.tile(np.ones((t.shape[0], 1)),(10, 1, 1)) # Step Input\n",
    "print(u.shape)\n",
    "\n",
    "multi_sim_euler_jitted = njit(multi_sim_euler)\n",
    "multi_sim_euler_jitted_parallelized = njit(multi_sim_euler, parallel = True)\n",
    "\n",
    "_ = multi_sim_euler_jitted(t, u, x0) \n",
    "_ = multi_sim_euler_jitted_parallelized(t, u, x0) "
   ]
  },
  {
   "cell_type": "code",
   "execution_count": 38,
   "metadata": {},
   "outputs": [
    {
     "name": "stdout",
     "output_type": "stream",
     "text": [
      "(10, 3000)\n",
      "(10, 3, 1)\n",
      "(10, 10, 1)\n"
     ]
    }
   ],
   "source": [
    "t = np.tile(np.arange(int(30/0.01))*0.01,(10, 1))\n",
    "print(t.shape)\n",
    "x0 = np.tile(np.zeros((1, 1)), (10, 3, 1))\n",
    "print(x0.shape)\n",
    "u = np.tile(np.ones((t.shape[0], 1)),(10, 1, 1)) # Step Input\n",
    "print(u.shape)\n",
    "# Create a step input u with values  from 1 to 10\n",
    "for i in range(u.shape[0]):\n",
    "    u[i] = u[i]*i+1\n",
    "    \n",
    "%timeit multi_sim_euler_jitted(t, u, x0)\n",
    "%timeit multi_sim_euler_jitted_parallelized(t, u, x0)"
   ]
  },
  {
   "cell_type": "code",
   "execution_count": null,
   "metadata": {},
   "outputs": [],
   "source": []
  }
 ],
 "metadata": {
  "kernelspec": {
   "display_name": "Python 3",
   "language": "python",
   "name": "python3"
  },
  "language_info": {
   "codemirror_mode": {
    "name": "ipython",
    "version": 3
   },
   "file_extension": ".py",
   "mimetype": "text/x-python",
   "name": "python",
   "nbconvert_exporter": "python",
   "pygments_lexer": "ipython3",
   "version": "3.7.1"
  }
 },
 "nbformat": 4,
 "nbformat_minor": 4
}
