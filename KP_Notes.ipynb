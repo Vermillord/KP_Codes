{
 "cells": [
  {
   "cell_type": "markdown",
   "metadata": {},
   "source": [
    "# Day 1"
   ]
  },
  {
   "cell_type": "markdown",
   "metadata": {},
   "source": [
    "## Numpy Vectorization\n",
    "\n",
    "Most operations are done element-wise i.e. using for loops such as"
   ]
  },
  {
   "cell_type": "code",
   "execution_count": 3,
   "metadata": {},
   "outputs": [
    {
     "data": {
      "text/plain": [
       "[5, 7, 9]"
      ]
     },
     "execution_count": 3,
     "metadata": {},
     "output_type": "execute_result"
    }
   ],
   "source": [
    "import numpy as np\n",
    "\n",
    "a = np.array([1, 2, 3])\n",
    "b = np.array([4, 5, 6])\n",
    "\n",
    "out = []\n",
    "\n",
    "for i in range(len(a)):\n",
    "    out.append(a[i] + b[i])\n",
    "out"
   ]
  },
  {
   "cell_type": "markdown",
   "metadata": {},
   "source": [
    "The sum product of array a and b are calculated by summing each 'element' of each array, hence the term element-wise. Whereas, a vectorized operation would operate every element in the array simultaneously."
   ]
  },
  {
   "cell_type": "code",
   "execution_count": 4,
   "metadata": {},
   "outputs": [
    {
     "data": {
      "text/plain": [
       "array([5, 7, 9])"
      ]
     },
     "execution_count": 4,
     "metadata": {},
     "output_type": "execute_result"
    }
   ],
   "source": [
    "a + b"
   ]
  },
  {
   "cell_type": "markdown",
   "metadata": {},
   "source": [
    "By using vectorization, more complex arrays or other datas can be operated more effieciently thanks to **The Broadcasting Rule**. The rule states that an array can be broadcasted to another array for each missing length the first array has, but the other length of the two arrays must have the same size. An example of this is"
   ]
  },
  {
   "cell_type": "code",
   "execution_count": 5,
   "metadata": {},
   "outputs": [
    {
     "data": {
      "text/plain": [
       "array([[4, 5, 6],\n",
       "       [5, 6, 7],\n",
       "       [6, 7, 8],\n",
       "       [7, 8, 9]])"
      ]
     },
     "execution_count": 5,
     "metadata": {},
     "output_type": "execute_result"
    }
   ],
   "source": [
    "A = np.array([[0, 0, 0],\n",
    "             [1, 1, 1],\n",
    "             [2, 2, 2],\n",
    "             [3, 3, 3]])\n",
    "\n",
    "A + b"
   ]
  },
  {
   "cell_type": "markdown",
   "metadata": {},
   "source": [
    "It can be seen that array b is broadcasted to each row of array A. A vectorized operation can also be done by using a boolean opearot that can result in a boolean array. An example of this is shown as"
   ]
  },
  {
   "cell_type": "code",
   "execution_count": 6,
   "metadata": {},
   "outputs": [
    {
     "data": {
      "text/plain": [
       "array([False,  True,  True])"
      ]
     },
     "execution_count": 6,
     "metadata": {},
     "output_type": "execute_result"
    }
   ],
   "source": [
    "a > 1"
   ]
  },
  {
   "cell_type": "code",
   "execution_count": 7,
   "metadata": {},
   "outputs": [
    {
     "data": {
      "text/plain": [
       "array([[False, False, False],\n",
       "       [False, False,  True],\n",
       "       [False,  True,  True],\n",
       "       [ True,  True,  True]])"
      ]
     },
     "execution_count": 7,
     "metadata": {},
     "output_type": "execute_result"
    }
   ],
   "source": [
    "A+b > 6"
   ]
  },
  {
   "cell_type": "markdown",
   "metadata": {},
   "source": [
    "Sometimes the data used needs to be standardized first. It can be done by using the equation\n",
    "\n",
    "$$\n",
    "x' = \\frac{x-\\bar{x}}{\\sigma}\n",
    "$$"
   ]
  },
  {
   "cell_type": "code",
   "execution_count": 8,
   "metadata": {},
   "outputs": [
    {
     "data": {
      "text/plain": [
       "array([-1.46385011, -0.87831007, -0.29277002,  0.29277002,  0.87831007,\n",
       "        1.46385011])"
      ]
     },
     "execution_count": 8,
     "metadata": {},
     "output_type": "execute_result"
    }
   ],
   "source": [
    "c = np.array([1, 2, 3, 4, 5, 6])\n",
    "\n",
    "(c - c.mean())/c.std()"
   ]
  },
  {
   "cell_type": "markdown",
   "metadata": {},
   "source": [
    "## Functions"
   ]
  },
  {
   "cell_type": "markdown",
   "metadata": {},
   "source": [
    "Functions can be made in python by using the 'def' command. For each functions made there must be corresponding arguments for the function to connect a value inserted and the operation done"
   ]
  },
  {
   "cell_type": "code",
   "execution_count": 9,
   "metadata": {},
   "outputs": [
    {
     "data": {
      "text/plain": [
       "['This', 'is', 'a', 'python', 'list']"
      ]
     },
     "execution_count": 9,
     "metadata": {},
     "output_type": "execute_result"
    }
   ],
   "source": [
    "def append_list(lst, lst_val):\n",
    "    for i in range(len(lst_val)):\n",
    "        lst.append(lst_val[i])\n",
    "    return lst\n",
    "\n",
    "lst = [\"This\", \"is\"]\n",
    "add_list = [\"a\", \"python\", \"list\"]\n",
    "\n",
    "\n",
    "append_list(lst, add_list)\n",
    "lst"
   ]
  },
  {
   "cell_type": "markdown",
   "metadata": {},
   "source": [
    "There are positional arguments that can be used for functions, which are args and kwargs. args are used for taking elements from lists and kwargs are used for taking elements from a dictionary. The difference between the two of these are the operator * and ** are used for taking elements from a list and dictionary, respectively."
   ]
  },
  {
   "cell_type": "markdown",
   "metadata": {},
   "source": [
    "## Decorators"
   ]
  },
  {
   "cell_type": "markdown",
   "metadata": {},
   "source": [
    "Decorators are used to add functionality to a function that is created in python. By using decorators, it won't the function that has been created. Take this decorator function as an example."
   ]
  },
  {
   "cell_type": "code",
   "execution_count": 10,
   "metadata": {},
   "outputs": [],
   "source": [
    "def decorator_func(func):\n",
    "    def wrapper_func():\n",
    "        print('This wrapper goes before the function below')\n",
    "        return func()\n",
    "    return wrapper_func"
   ]
  },
  {
   "cell_type": "markdown",
   "metadata": {},
   "source": [
    "Next, we create a function to use the decorator with."
   ]
  },
  {
   "cell_type": "code",
   "execution_count": 11,
   "metadata": {},
   "outputs": [
    {
     "name": "stdout",
     "output_type": "stream",
     "text": [
      "This is the function\n"
     ]
    }
   ],
   "source": [
    "def some_func():\n",
    "    print('This is the function')\n",
    "\n",
    "some_func()"
   ]
  },
  {
   "cell_type": "markdown",
   "metadata": {},
   "source": [
    "By adding the decorator before the function is used, the results will be."
   ]
  },
  {
   "cell_type": "code",
   "execution_count": 12,
   "metadata": {},
   "outputs": [
    {
     "name": "stdout",
     "output_type": "stream",
     "text": [
      "This wrapper goes before the function below\n",
      "This is the function with decorator\n"
     ]
    }
   ],
   "source": [
    "@decorator_func\n",
    "def deco_func():\n",
    "    print('This is the function with decorator')\n",
    "\n",
    "deco_func()"
   ]
  },
  {
   "cell_type": "markdown",
   "metadata": {},
   "source": [
    "It is shown here that the function that we created has another functionality that can be added through the wrapper function."
   ]
  },
  {
   "cell_type": "markdown",
   "metadata": {},
   "source": [
    "## Differential Equation Analysis"
   ]
  },
  {
   "cell_type": "markdown",
   "metadata": {},
   "source": [
    "### Euler Method"
   ]
  },
  {
   "cell_type": "markdown",
   "metadata": {},
   "source": [
    "Euler's method for differential equation analysis is to approximate the value ODEs by iterating the differential function to its initial value. Consider the following equation.\n",
    "\n",
    "$$\n",
    "\\frac{dx(t)}{dt} = f(x(t),t)\n",
    "$$\n",
    "\n",
    "Assume that the function has an initial value of $x$ = $x_0$. The euler method to find the value from the equation will be iterated with the function itself multiplied by a step size of h. The function of the approximation x* is\n",
    "\n",
    "$$\n",
    "x^*(t) = x_0 + h.f(x(t),t)\n",
    "$$\n",
    "\n",
    "The smaller the value of $h$ the more accurate it gets, but there needs to be a consideration in choosing a small $h$ because the calculation time will increase as the smaller h gets."
   ]
  },
  {
   "cell_type": "markdown",
   "metadata": {},
   "source": [
    "### Runge Kutta 4th Order"
   ]
  },
  {
   "cell_type": "markdown",
   "metadata": {},
   "source": [
    "Runge Kutta approximates the value of an ODE by iterating the initial value with four values which are $k_1$, $k_2$, $k_3$, $k_4$.\n",
    "\n",
    "$$k_1 = f(x^*(t_0), t_0) \\\\\n",
    "k_2 = f(x^*(t_0) + k_1\\frac{h}{2}, t_0 + \\frac{h}{2}) \\\\\n",
    "k_3 = f(x^*(t_0) + k_2\\frac{h}{2}, t_0 + \\frac{h}{2}) \\\\\n",
    "k_4 = f(x^*(t_0) + k_3h, t_0 + h)$$\n",
    "\n",
    "The estimation value of the ODE based on the four values of k is determined by the function below.\n",
    "\n",
    "$$\n",
    "x^*(t_0 + h) = x^*(t_0) + h.\\frac{k_1 + 2k_2 + 2k_3 + k_4}{6}\n",
    "$$\n",
    "\n",
    "The method works similarly to a weighted function shown by the value that are multiplied to each $k$. "
   ]
  },
  {
   "cell_type": "code",
   "execution_count": 13,
   "metadata": {},
   "outputs": [],
   "source": [
    "# Python class for both method\n",
    "class diff_eq:\n",
    "    def __init__ (self, t0, x0, target, step):\n",
    "        self.t0 = t0\n",
    "        self.x0 = x0\n",
    "        self.target = target\n",
    "        self.h = step\n",
    "        self.xval = 0\n",
    "        print(\"Values received\")\n",
    "        \n",
    "    # Euler Method\n",
    "    def euler(self, function):\n",
    "        # Initiate the value of x\n",
    "        self.xval = self.x0\n",
    "        \n",
    "        # Iterate until the value of t reaches the target t\n",
    "        while self.t0 < self.target:\n",
    "            self.xval = self.xval + self.h*function(self.t0, self.x0)\n",
    "            self.t0 = self.t0 + self.h\n",
    "        # Returns the value of x\n",
    "        return self.xval\n",
    "        \n",
    "    # Runge Kutta 4th Order Method\n",
    "    def rk4(self, function):\n",
    "        # Number of iterations based on step size\n",
    "        self.n = int((self.target - self.t0)/self.h)\n",
    "        # Initiate the value of x\n",
    "        self.xval = self.x0\n",
    "            \n",
    "        # Iterate until the value of t reaches the target t\n",
    "        for i in range(1, self.n+1):\n",
    "            # Runge Kutta formulas for each k\n",
    "            k1 = self.h * function(self.t0, self.xval) \n",
    "            k2 = self.h * function(self.t0+0.5*self.h, self.xval+0.5*k1) \n",
    "            k3 = self.h * function(self.t0+0.5*self.h, self.xval+0.5*k2) \n",
    "            k4 = self.h * function(self.t0+self.h, self.xval+k3)\n",
    "            \n",
    "            # Update values\n",
    "            self.xval = self.xval + 1.0*(k1 + 2 * k2 + 2 * k3 + k4)/6.0\n",
    "            self.t0 = self.t0 + self.h\n",
    "        return self.xval"
   ]
  },
  {
   "cell_type": "code",
   "execution_count": 14,
   "metadata": {},
   "outputs": [
    {
     "name": "stdout",
     "output_type": "stream",
     "text": [
      "Values received\n",
      "The value by using euler method: 0.9999999999999999\n",
      "Values received\n",
      "The value by using runge kutta method: 1.1036393232374955\n"
     ]
    }
   ],
   "source": [
    "def dxdy(t, x):\n",
    "    return ((t - x)/2)\n",
    "\n",
    "# Euler method test\n",
    "euval = diff_eq(0, 1, 2, 0.2)\n",
    "print(\"The value by using euler method: \" + str(euval.euler(dxdy)))\n",
    "\n",
    "# Runge kutta method test\n",
    "rkval = diff_eq(0, 1, 2, 0.2)\n",
    "print(\"The value by using runge kutta method: \" + str(rkval.rk4(dxdy)))"
   ]
  },
  {
   "cell_type": "markdown",
   "metadata": {},
   "source": [
    "# Day 2"
   ]
  },
  {
   "cell_type": "markdown",
   "metadata": {},
   "source": [
    "## Truncation Error"
   ]
  },
  {
   "cell_type": "markdown",
   "metadata": {},
   "source": [
    "Assume that there exists an equation of x which is stated as\n",
    "\n",
    "$$\n",
    "x' = \\frac{dx}{dt} = f(x,t)\n",
    "$$\n",
    "\n",
    "When using the euler method for calculating the approximation value of x, there will be an error generated because of the approximation. The error generated is called as the **Truncation Error**. For the equation above, the truncation error by using the euler method for approximation for each step of iteration is stated as\n",
    "\n",
    "$$\n",
    "O(h^2) = \\frac{h^2}{2}x''(\\tilde{t_i})\n",
    "$$\n",
    "\n",
    "Where the value of x'' is the second order derivation of x by t, or in other form it is stated as\n",
    "\n",
    "$$\n",
    "x''(t_i) = f_t(t,x(t)) + f_x(t,x(t))f(t,x(t))\n",
    "$$\n",
    "\n",
    "$f_t$ and $f_x$ are both the partial derivation of the equation by t and x respectively. The value of $\\tilde{t_i}$ is the number between $x_i$ and $x_{i+1}$, hence\n",
    "\n",
    "$$\n",
    "\\tilde{x_i} = \\frac{x_{i+1}-x_i}{2}\n",
    "$$\n",
    "\n",
    "Seeing that $x'$ is equal to $f(x,t)$, hence the formula of $O(h^2)$ can also be written as\n",
    "\n",
    "$$\n",
    "O(h^2) = \\frac{h^2}{2}f'(x_i,t_i)\n",
    "$$"
   ]
  },
  {
   "cell_type": "markdown",
   "metadata": {},
   "source": [
    "The truncation error of the euler method is defined by $O(h^2)$. Whereas for a higher order the truncation error, say an order of $n$, it would change the truncation error equation to $O(h^{n+1})$. The formula of $O(h^n)$ is stated as\n",
    "\n",
    "$$\n",
    "O(h^n) = \\frac{h^n}{n!}f^{(n-1)}(x_i,t_i)\n",
    "$$\n",
    "\n",
    "Referring back to the RK4 method, based on its name, we can determine that it would have a truncation error of $n+1$ based on its order. Hence, the truncation error of the RK4 method would be $O(h^5)$."
   ]
  },
  {
   "cell_type": "markdown",
   "metadata": {},
   "source": [
    "## Numba Test"
   ]
  },
  {
   "cell_type": "code",
   "execution_count": 15,
   "metadata": {},
   "outputs": [
    {
     "data": {
      "text/plain": [
       "1.125"
      ]
     },
     "execution_count": 15,
     "metadata": {},
     "output_type": "execute_result"
    }
   ],
   "source": [
    "import numpy as np\n",
    "from numba import njit, jit\n",
    "\n",
    "# Euler Method\n",
    "def euler(t0, x0, target, h, function):\n",
    "    # Initiate the value of x\n",
    "    xval = x0\n",
    "    \n",
    "    # Iterate until the value of t reaches the target t\n",
    "    while t0 < target:\n",
    "        xval = xval + h*function(t0, x0)\n",
    "        t0 = t0 + h\n",
    "    # Returns the value of x\n",
    "    return xval\n",
    "\n",
    "@njit\n",
    "def eu_dec(t0, x0, target, h, function):\n",
    "    # Initiate the value of y\n",
    "    xval = x0\n",
    "        \n",
    "    # Iterate until the value of x reaches the target x\n",
    "    while t0 < target:\n",
    "        xval = xval + h*function(t0, x0)\n",
    "        t0 = t0 + h\n",
    "    # Returns the value of y\n",
    "    return xval\n",
    "\n",
    "@njit\n",
    "def func(t, x):\n",
    "    return((t-x)/2)\n",
    "\n",
    "# First compile with random inputs\n",
    "eu_dec(1, 1, 2, 0.5, func)"
   ]
  },
  {
   "cell_type": "code",
   "execution_count": 16,
   "metadata": {},
   "outputs": [
    {
     "name": "stdout",
     "output_type": "stream",
     "text": [
      "42.1 µs ± 2.87 µs per loop (mean ± std. dev. of 7 runs, 10000 loops each)\n"
     ]
    }
   ],
   "source": [
    "%timeit euler(0, 1, 7, 0.05, func)"
   ]
  },
  {
   "cell_type": "code",
   "execution_count": 17,
   "metadata": {},
   "outputs": [
    {
     "name": "stdout",
     "output_type": "stream",
     "text": [
      "10.6 µs ± 509 ns per loop (mean ± std. dev. of 7 runs, 100000 loops each)\n"
     ]
    }
   ],
   "source": [
    "%timeit eu_dec(0, 1, 7, 0.05, func)"
   ]
  },
  {
   "cell_type": "markdown",
   "metadata": {},
   "source": [
    "# Day 3"
   ]
  },
  {
   "cell_type": "markdown",
   "metadata": {},
   "source": [
    "## Transfer Function"
   ]
  },
  {
   "cell_type": "markdown",
   "metadata": {},
   "source": [
    "Consider the following transfer function.\n",
    "\n",
    "$$\n",
    "\\displaystyle{G(s) = \\frac{1}{s^3+3s^2+2s+1}}\n",
    "$$\n",
    "\n",
    "By using the control library, the transfer function will now be simulated to check the step response."
   ]
  },
  {
   "cell_type": "code",
   "execution_count": 18,
   "metadata": {},
   "outputs": [],
   "source": [
    "import numpy as np\n",
    "import matplotlib.pyplot as plt\n",
    "import scipy as sc\n",
    "import control as co\n",
    "from numba import njit, jit, prange\n",
    "%matplotlib inline"
   ]
  },
  {
   "cell_type": "code",
   "execution_count": 19,
   "metadata": {},
   "outputs": [
    {
     "data": {
      "image/png": "[encoded data removed]",
      "text/plain": [
       "<Figure size 432x288 with 1 Axes>"
      ]
     },
     "metadata": {
      "needs_background": "light"
     },
     "output_type": "display_data"
    }
   ],
   "source": [
    "# Create the transfer function\n",
    "sys = co.tf([1],[1, 3, 2, 1])\n",
    "\n",
    "# Define the time interval 0.01 s time step\n",
    "t = np.arange(int(30/0.01))*0.01\n",
    "\n",
    "# Plot the step response of the system\n",
    "T, yout = co.step_response(sys, t)\n",
    "plt.title(\"Step response of G(s)\")\n",
    "plt.plot(T, yout)\n",
    "plt.show()"
   ]
  },
  {
   "cell_type": "markdown",
   "metadata": {},
   "source": [
    "## Dynamics"
   ]
  },
  {
   "cell_type": "markdown",
   "metadata": {},
   "source": [
    "Next, the dynamics of the system will be simulated by creating a function based on the state space equation of G(s). Consider that the state space equation of the system is written as\n",
    "$$\n",
    "\\dot{\\mathbf{x}} = \\mathbf{A}\\mathbf{x} + \\mathbf{B}\\mathbf{u}\n",
    "$$\n",
    "$$\n",
    "\\mathbf{y} = \\mathbf{C}\\mathbf{x} + \\mathbf{D}\\mathbf{u}\n",
    "$$"
   ]
  },
  {
   "cell_type": "code",
   "execution_count": 20,
   "metadata": {},
   "outputs": [
    {
     "data": {
      "text/plain": [
       "A = [[-3. -2. -1.]\n",
       " [ 1.  0.  0.]\n",
       " [ 0.  1.  0.]]\n",
       "\n",
       "B = [[1.]\n",
       " [0.]\n",
       " [0.]]\n",
       "\n",
       "C = [[0. 0. 1.]]\n",
       "\n",
       "D = [[0.]]"
      ]
     },
     "execution_count": 20,
     "metadata": {},
     "output_type": "execute_result"
    }
   ],
   "source": [
    "# Change from s-domain to state space\n",
    "sys_ss = co.tf2ss(sys)\n",
    "sys_ss"
   ]
  },
  {
   "cell_type": "markdown",
   "metadata": {},
   "source": [
    "Based on the values of A, B, C, and D, the dynamics of the system can now be determined."
   ]
  },
  {
   "cell_type": "code",
   "execution_count": 21,
   "metadata": {},
   "outputs": [],
   "source": [
    "A = np.array(sys_ss.A)\n",
    "B = np.array(sys_ss.B)\n",
    "C = np.array(sys_ss.C)\n",
    "D = np.array(sys_ss.D)\n",
    "\n",
    "def dynamics(x, u):\n",
    "    # Apply the state space equation for x dot\n",
    "    x_dot = np.ravel(np.dot(A, x))+ np.ravel(np.dot(B, u))\n",
    "    \n",
    "    return x_dot\n",
    "\n",
    "# Create a jitted function of the original dynamics function\n",
    "dynamics_jitted = njit(dynamics)"
   ]
  },
  {
   "cell_type": "code",
   "execution_count": 22,
   "metadata": {},
   "outputs": [],
   "source": [
    "# Compile the jitted function\n",
    "# Use float to ensure the function will accept float as inputs\n",
    "_ = dynamics_jitted(np.arange(3)*1.0, np.array([2.0]))"
   ]
  },
  {
   "cell_type": "code",
   "execution_count": 23,
   "metadata": {},
   "outputs": [
    {
     "name": "stdout",
     "output_type": "stream",
     "text": [
      "10.2 µs ± 291 ns per loop (mean ± std. dev. of 7 runs, 100000 loops each)\n",
      "5.18 µs ± 186 ns per loop (mean ± std. dev. of 7 runs, 100000 loops each)\n"
     ]
    }
   ],
   "source": [
    "# Time test for both method\n",
    "%timeit dynamics(np.arange(3)*1.0, np.array([3.0]))\n",
    "%timeit dynamics_jitted(np.arange(3)*1.0, np.array([3.0]))"
   ]
  },
  {
   "cell_type": "markdown",
   "metadata": {},
   "source": [
    "## Euler Method"
   ]
  },
  {
   "cell_type": "markdown",
   "metadata": {},
   "source": [
    "Based on the dynamics function, now the value of $\\dot{x}$ can be approximated by using the euler method."
   ]
  },
  {
   "cell_type": "code",
   "execution_count": 24,
   "metadata": {},
   "outputs": [
    {
     "name": "stdout",
     "output_type": "stream",
     "text": [
      "(10, 3)\n",
      "(10, 1)\n"
     ]
    }
   ],
   "source": [
    "def sim_euler(t, u, x0):\n",
    "    # Initialize the output\n",
    "    x = np.empty((t.shape[0], x0.shape[0]))\n",
    "    y = np.empty((t.shape[0], C.shape[0]))\n",
    "    \n",
    "    x[0] = np.ravel(x0)\n",
    "    y[0] = np.ravel(np.dot(C, x[0])) + np.ravel(np.dot(D, u[0]))\n",
    "    \n",
    "    for i in range(t.shape[0] - 1):\n",
    "        x[i+1] = x[i] + (t[i+1]-t[i])*dynamics(x[i], u[i])\n",
    "        y[i+1] = np.ravel(np.dot(C, x[i+1])) + np.ravel(np.dot(D, u[i]))\n",
    "\n",
    "    return x, y\n",
    "\n",
    "# Test the output of the function\n",
    "a = 1.0*np.arange(10)\n",
    "b = 2.0*np.ones((10,1))\n",
    "c = 0.0*np.zeros((3,1))\n",
    "out1, out2 = sim_euler(a, b, c)\n",
    "print(out1.shape)\n",
    "print(out2.shape)"
   ]
  },
  {
   "cell_type": "code",
   "execution_count": 25,
   "metadata": {},
   "outputs": [],
   "source": [
    "# Create a jitted function based on the euler method function\n",
    "@njit\n",
    "def sim_euler_jitted(t, u, x0):\n",
    "    # Don't forget to initialize the output\n",
    "    x = np.empty((t.shape[0], x0.shape[0]))\n",
    "    y = np.empty((t.shape[0], C.shape[0]))\n",
    "\n",
    "    x[0] = np.ravel(x0)\n",
    "    y[0] = np.ravel(np.dot(C, x[0])) + np.ravel(np.dot(D, u[0]))\n",
    "\n",
    "    for i in range(t.shape[0] - 1):\n",
    "        x[i+1] = x[i] + (t[i+1]-t[i])*dynamics_jitted(x[i], u[i])\n",
    "        y[i+1] = np.ravel(np.dot(C, x[i+1])) + np.ravel(np.dot(D, u[i]))\n",
    "\n",
    "    return x, y\n",
    "\n",
    "# Compile the jitted function and use float as inputs\n",
    "_ = sim_euler_jitted(a, b, c)"
   ]
  },
  {
   "cell_type": "code",
   "execution_count": 26,
   "metadata": {},
   "outputs": [
    {
     "name": "stdout",
     "output_type": "stream",
     "text": [
      "53.2 ms ± 1.51 ms per loop (mean ± std. dev. of 7 runs, 10 loops each)\n",
      "4.77 ms ± 210 µs per loop (mean ± std. dev. of 7 runs, 100 loops each)\n"
     ]
    }
   ],
   "source": [
    "# Time test for both methods\n",
    "t = np.arange(int(30/0.01))*0.01 # 30 seconds with 0.01 s time-step\n",
    "u = np.ones((t.shape[0], 1)) # Step Input\n",
    "x0 = np.zeros((3, 1))\n",
    "\n",
    "%timeit _ = sim_euler(t, u, x0)\n",
    "%timeit _ = sim_euler_jitted(t, u, x0)"
   ]
  },
  {
   "cell_type": "code",
   "execution_count": 27,
   "metadata": {},
   "outputs": [],
   "source": [
    "_, result_euler = sim_euler(t, u, x0)\n",
    "_, result_euler_jitted = sim_euler_jitted(t, u, x0)"
   ]
  },
  {
   "cell_type": "code",
   "execution_count": 28,
   "metadata": {},
   "outputs": [
    {
     "data": {
      "image/png": "[encoded data removed]",
      "text/plain": [
       "<Figure size 432x288 with 1 Axes>"
      ]
     },
     "metadata": {
      "needs_background": "light"
     },
     "output_type": "display_data"
    }
   ],
   "source": [
    "plt.plot(t, result_euler)\n",
    "plt.title(\"Euler Method\")\n",
    "plt.show()"
   ]
  },
  {
   "cell_type": "code",
   "execution_count": 29,
   "metadata": {},
   "outputs": [
    {
     "data": {
      "image/png": "[encoded data removed]",
      "text/plain": [
       "<Figure size 432x288 with 1 Axes>"
      ]
     },
     "metadata": {
      "needs_background": "light"
     },
     "output_type": "display_data"
    }
   ],
   "source": [
    "plt.plot(t, result_euler_jitted)\n",
    "plt.title(\"Jitted Euler Method\")\n",
    "plt.show()"
   ]
  },
  {
   "cell_type": "markdown",
   "metadata": {},
   "source": [
    "## Runge Kutta 4th Order Method"
   ]
  },
  {
   "cell_type": "markdown",
   "metadata": {},
   "source": [
    "To approximate using the runge kutta method first the function will be defined below."
   ]
  },
  {
   "cell_type": "code",
   "execution_count": 30,
   "metadata": {},
   "outputs": [
    {
     "name": "stdout",
     "output_type": "stream",
     "text": [
      "(10, 3)\n",
      "(10, 1)\n"
     ]
    }
   ],
   "source": [
    "def sim_rk4(t, u, x0):\n",
    "    # Initialize the output\n",
    "    x = np.empty((t.shape[0], x0.shape[0]))\n",
    "    y = np.empty((t.shape[0], C.shape[0]))\n",
    "    \n",
    "    x[0] = np.ravel(x0)\n",
    "    y[0] = np.ravel(np.dot(C, x[0])) + np.ravel(np.dot(D, u[0]))\n",
    "    \n",
    "    for i in range(t.shape[0] - 1):\n",
    "        h = t[i+1]-t[i]\n",
    "        k1 = h*dynamics(x[i], u[i])\n",
    "        k2 = h*dynamics(x[i]+k1*h/2, u[i])\n",
    "        k3 = h*dynamics(x[i]+k2*h/2, u[i])\n",
    "        k4 = h*dynamics(x[i]+k3*h, u[i])\n",
    "        \n",
    "        x[i+1] = x[i] + 1.0*(k1 + 2*k2 + 2*k3 + k4)/6.0\n",
    "        y[i+1] = np.ravel(np.dot(C, x[i+1])) + np.ravel(np.dot(D, u[i]))\n",
    "\n",
    "    return x, y\n",
    "\n",
    "# Test the output of the function\n",
    "a = 1.0*np.arange(10)\n",
    "b = 2.0*np.ones((10,1))\n",
    "c = 0.0*np.zeros((3,1))\n",
    "out1, out2 = sim_rk4(a, b, c)\n",
    "print(out1.shape)\n",
    "print(out2.shape)"
   ]
  },
  {
   "cell_type": "code",
   "execution_count": 31,
   "metadata": {},
   "outputs": [],
   "source": [
    "@njit\n",
    "def sim_rk4_jitted(t, u, x0):\n",
    "    # Initialize the output\n",
    "    x = np.empty((t.shape[0], x0.shape[0]))\n",
    "    y = np.empty((t.shape[0], C.shape[0]))\n",
    "    \n",
    "    x[0] = np.ravel(x0)\n",
    "    y[0] = np.ravel(np.dot(C, x[0])) + np.ravel(np.dot(D, u[0]))\n",
    "    \n",
    "    for i in range(t.shape[0] - 1):\n",
    "        h = t[i+1]-t[i]\n",
    "        k1 = h*dynamics_jitted(x[i], u[i])\n",
    "        k2 = h*dynamics_jitted(x[i]+k1*h/2, u[i])\n",
    "        k3 = h*dynamics_jitted(x[i]+k2*h/2, u[i])\n",
    "        k4 = h*dynamics_jitted(x[i]+k3*h, u[i])\n",
    "        \n",
    "        x[i+1] = x[i] + 1.0*(k1 + 2*k2 + 2*k3 + k4)/6.0\n",
    "        y[i+1] = np.ravel(np.dot(C, x[i+1])) + np.ravel(np.dot(D, u[i]))\n",
    "\n",
    "    return x, y"
   ]
  },
  {
   "cell_type": "code",
   "execution_count": 32,
   "metadata": {},
   "outputs": [
    {
     "name": "stdout",
     "output_type": "stream",
     "text": [
      "196 ms ± 24 ms per loop (mean ± std. dev. of 7 runs, 1 loop each)\n",
      "12.8 ms ± 211 µs per loop (mean ± std. dev. of 7 runs, 1 loop each)\n"
     ]
    }
   ],
   "source": [
    "# Time test for both methods\n",
    "t = np.arange(int(30/0.01))*0.01 # 30 seconds with 0.01 s time-step\n",
    "u = np.ones((t.shape[0], 1)) # Step Input\n",
    "x0 = np.zeros((3, 1))\n",
    "\n",
    "%timeit _ = sim_rk4(t, u, x0)\n",
    "%timeit _ = sim_rk4_jitted(t, u, x0)"
   ]
  },
  {
   "cell_type": "code",
   "execution_count": 33,
   "metadata": {},
   "outputs": [
    {
     "name": "stdout",
     "output_type": "stream",
     "text": [
      "58.7 ms ± 6.27 ms per loop (mean ± std. dev. of 7 runs, 10 loops each)\n",
      "4.71 ms ± 156 µs per loop (mean ± std. dev. of 7 runs, 100 loops each)\n"
     ]
    }
   ],
   "source": [
    "%timeit _ = sim_euler(t, u, x0)\n",
    "%timeit _ = sim_euler_jitted(t, u, x0)"
   ]
  },
  {
   "cell_type": "markdown",
   "metadata": {},
   "source": [
    "It can be seen here that the RK4 method has a bit of disadvantage on the total running time, but the overall time difference between using a jitted function and the original function, the RK4 method is more efficient than the euler method."
   ]
  },
  {
   "cell_type": "code",
   "execution_count": 34,
   "metadata": {},
   "outputs": [],
   "source": [
    "_, result_rk4 = sim_euler(t, u, x0)\n",
    "_, result_rk4_jitted = sim_euler_jitted(t, u, x0)"
   ]
  },
  {
   "cell_type": "code",
   "execution_count": 35,
   "metadata": {},
   "outputs": [
    {
     "data": {
      "image/png": "[encoded data removed]",
      "text/plain": [
       "<Figure size 432x288 with 1 Axes>"
      ]
     },
     "metadata": {
      "needs_background": "light"
     },
     "output_type": "display_data"
    }
   ],
   "source": [
    "plt.plot(t, result_rk4)\n",
    "plt.title(\"RK4 Method\")\n",
    "plt.show()"
   ]
  },
  {
   "cell_type": "code",
   "execution_count": 36,
   "metadata": {},
   "outputs": [
    {
     "data": {
      "image/png": "[encoded data removed]",
      "text/plain": [
       "<Figure size 432x288 with 1 Axes>"
      ]
     },
     "metadata": {
      "needs_background": "light"
     },
     "output_type": "display_data"
    }
   ],
   "source": [
    "plt.plot(t, result_rk4_jitted)\n",
    "plt.title(\"Jitted RK4 Method\")\n",
    "plt.show()"
   ]
  },
  {
   "cell_type": "markdown",
   "metadata": {},
   "source": [
    "# Day 4"
   ]
  },
  {
   "cell_type": "markdown",
   "metadata": {},
   "source": [
    "## Multi-Sim Euler Method"
   ]
  },
  {
   "cell_type": "markdown",
   "metadata": {},
   "source": [
    "By creating a new function, the euler method can be done multiple times to simulate a change of input size. The function that will be used to iterate the euler method for a number of times is defined below. Another addition to the function is that the 'for' uses prange as a parameter to ensure that the jitted function can be run parallelly. By setting the jitted function to parallel, each iteration in the 'for' range will be run parallel to each other."
   ]
  },
  {
   "cell_type": "code",
   "execution_count": 37,
   "metadata": {},
   "outputs": [
    {
     "name": "stdout",
     "output_type": "stream",
     "text": [
      "(10, 3000)\n",
      "(10, 3, 1)\n",
      "(10, 3000, 1)\n"
     ]
    }
   ],
   "source": [
    "def multi_sim_euler(t, u, x0):\n",
    "    # Define the output with one extra dimension as the iteration of multiple simulation\n",
    "    x = np.empty((t.shape[0], t.shape[1], x0.shape[1]))\n",
    "    y = np.empty((t.shape[0], t.shape[1], 1))\n",
    "    \n",
    "    for i in prange(t.shape[0]):\n",
    "        x[i], y[i] = sim_euler_jitted(t[i], u[i], x0[i])\n",
    "        \n",
    "    return x, y\n",
    "\n",
    "# Define a random input for compiling\n",
    "t = np.tile(np.arange(int(30/0.01))*0.01,(10, 1))\n",
    "print(t.shape)\n",
    "x0 = np.tile(np.zeros((1, 1)), (10, 3, 1))\n",
    "print(x0.shape)\n",
    "u = np.tile(np.ones((t.shape[1], 1)),(10, 1, 1)) # Step Input\n",
    "print(u.shape)\n",
    "\n",
    "multi_sim_euler_jitted = njit(multi_sim_euler)\n",
    "multi_sim_euler_jitted_parallelized = njit(multi_sim_euler, parallel = True)\n",
    "\n",
    "_ = multi_sim_euler_jitted(t, u, x0) \n",
    "_ = multi_sim_euler_jitted_parallelized(t, u, x0) "
   ]
  },
  {
   "cell_type": "code",
   "execution_count": 38,
   "metadata": {},
   "outputs": [
    {
     "name": "stdout",
     "output_type": "stream",
     "text": [
      "(10, 30000)\n",
      "(10, 3, 1)\n",
      "(10, 30000, 1)\n",
      "472 ms ± 5.57 ms per loop (mean ± std. dev. of 7 runs, 1 loop each)\n",
      "329 ms ± 18.5 ms per loop (mean ± std. dev. of 7 runs, 1 loop each)\n"
     ]
    }
   ],
   "source": [
    "t = np.tile(np.arange(int(300/0.01))*0.01,(10, 1))\n",
    "print(t.shape)\n",
    "x0 = np.tile(np.zeros((1, 1)), (10, 3, 1))\n",
    "print(x0.shape)\n",
    "u = np.tile(np.ones((t.shape[1], 1)),(10, 1, 1)) # Step Input\n",
    "print(u.shape)\n",
    "\n",
    "# Create a step input u with values that ranges from 1 to 10\n",
    "for i in range(u.shape[0]):\n",
    "    u[i] = u[i]*i+1\n",
    "\n",
    "%timeit multi_sim_euler_jitted(t, u, x0)\n",
    "%timeit multi_sim_euler_jitted_parallelized(t, u, x0)"
   ]
  },
  {
   "cell_type": "code",
   "execution_count": 39,
   "metadata": {},
   "outputs": [],
   "source": [
    "x, y = multi_sim_euler_jitted_parallelized(t, u, x0) "
   ]
  },
  {
   "cell_type": "markdown",
   "metadata": {},
   "source": [
    "After obtaining the data by using the multi sim euler function, next the data will be plotted on one chart for comparison"
   ]
  },
  {
   "cell_type": "code",
   "execution_count": 40,
   "metadata": {},
   "outputs": [
    {
     "data": {
      "image/png": "[encoded data removed]",
      "text/plain": [
       "<Figure size 432x288 with 1 Axes>"
      ]
     },
     "metadata": {
      "needs_background": "light"
     },
     "output_type": "display_data"
    }
   ],
   "source": [
    "label = [\"1.0\", \"2.0\", \"3.0\", \"4.0\", \"5.0\", \"6.0\",\n",
    "        \"7.0\", \"8.0\", \"9.0\", \"10.0\"]\n",
    "\n",
    "plt.figure()\n",
    "plt.title(\"Multi-Sim Euler\")\n",
    "for i in range(t.shape[0]):\n",
    "    plt.plot(t[i], y[i], label = str(\"u = \") + label[i])\n",
    "plt.legend(loc='center left', bbox_to_anchor=(1, 0.5))\n",
    "plt.show()"
   ]
  },
  {
   "cell_type": "markdown",
   "metadata": {},
   "source": [
    "# Day 5"
   ]
  },
  {
   "cell_type": "code",
   "execution_count": 41,
   "metadata": {},
   "outputs": [
    {
     "data": {
      "image/png": "[encoded data removed]",
      "text/plain": [
       "<Figure size 432x288 with 1 Axes>"
      ]
     },
     "metadata": {
      "needs_background": "light"
     },
     "output_type": "display_data"
    }
   ],
   "source": [
    "plt.title('Output to Input Comparison')\n",
    "plt.plot(u[:,-1,0], y[:,-1,0])\n",
    "plt.xlabel('Input')\n",
    "plt.ylabel('Output')\n",
    "plt.show()"
   ]
  },
  {
   "cell_type": "markdown",
   "metadata": {},
   "source": [
    "Based on the plot above, the last data from the output array is plotted in comparison to the input size. It can be seen that when the input is increased linearly so does the output."
   ]
  },
  {
   "cell_type": "markdown",
   "metadata": {},
   "source": [
    "# Day 6"
   ]
  },
  {
   "cell_type": "markdown",
   "metadata": {},
   "source": [
    "## Particle Swarm Optimization"
   ]
  },
  {
   "cell_type": "markdown",
   "metadata": {},
   "source": [
    "To understand Particle Swarm Optimization (PSO), we must first understand about gradient optimization. Every function has a global minima and we can find the value of it by using a gradient descent, but when there's a local minima that are located randomly around the global minima, gradient descent would fail at obtaining the global minima. To ensure that there would be no failure in identifying the global minima, we need to create a gradient-free optimizer. Gradient-Free Optimization uses methods that mimic certain mechanisms in nature, one of which is swarming. The implementation of optimization using a swarming method is called as the PSO. PSO doesn't use gradient descent and it can solve both linear and non-linear problems. PSO uses particles as a source of information, precisely their position and velocity. Both information are used for updating the value that is searched. The formulation for the position update is"
   ]
  },
  {
   "cell_type": "markdown",
   "metadata": {},
   "source": [
    "$$\n",
    "x^{i}_{k+1} = x^{i}_{k} + v^{i}_{k+1}\\Delta t\n",
    "$$"
   ]
  },
  {
   "cell_type": "markdown",
   "metadata": {},
   "source": [
    "Whereas for the velocity the formulation for updating its value is"
   ]
  },
  {
   "cell_type": "markdown",
   "metadata": {},
   "source": [
    "$$\n",
    "v^{i}_{k+1} = wv^{i}_{k} + c_{1}r_{1}\\frac{p^{i}_{k} - x^{i}_{k}}{\\Delta t} + c_{2}r_{2}\\frac{p^{g}_{k} - x^{i}_{k}}{\\Delta t}\n",
    "$$"
   ]
  },
  {
   "cell_type": "markdown",
   "metadata": {},
   "source": [
    "* $r_1$ and $r_2$ are both random number between [0,1]\n",
    "* $p^{i}_{k}$ is the particle's best position at interval $k$ and $p^{g}_{k}$ is the swarm's best position at interval $k$\n",
    "* $c_1$ is the confidence for the particle and $c_2$ is the confidence for the swarm\n",
    "* $w$ is the inertia"
   ]
  },
  {
   "cell_type": "markdown",
   "metadata": {},
   "source": [
    "Another fact that we can observe through the equation is by subtituting the velocity update function to the position update function. By doing so, we can obtain "
   ]
  },
  {
   "cell_type": "markdown",
   "metadata": {},
   "source": [
    "$$\n",
    "x^{i}_{k+1} = x^{i}_{k} + wv^{i}_{k}\\Delta t + c_{1}r_{1}(p^{i}_{k} - x^{i}_{k}) + c_{2}r_{2}(p^{g}_{k} - x^{i}_{k})\n",
    "$$"
   ]
  },
  {
   "cell_type": "markdown",
   "metadata": {},
   "source": [
    "$$\n",
    "x^{i}_{k+1} = x^{i}_{k} + wv^{i}_{k}\\Delta t + (c_{1}r_{1} + c_{2}r_{2}) \\left(\\frac{c_{1}r_{1}p^{i}_{k} + c_{2}r_{2}p^{g}_{k}}{c_{1}r_{1} + c_{2}r_{2}} - x^{i}_{k}\\right)\n",
    "$$"
   ]
  },
  {
   "cell_type": "markdown",
   "metadata": {},
   "source": [
    "Comparing the equation above with the line-search function which is defined as\n",
    "\n",
    "$$\n",
    "x_{k+1} = x_{k} + \\alpha_{k}p_{k}\n",
    "$$\n",
    "\n",
    "We can see that the three different parts of the equation represents a part of the line-search function\n",
    "\n",
    "* $x^{i}_{k} + wv^{i}_{k}\\Delta t$ equals to $x_{k+1}$\n",
    "\n",
    "* $(c_{1}r_{1} + c_{2}r_{2})$ equals to $\\alpha_{k}$\n",
    "\n",
    "* $\\left(\\frac{c_{1}r_{1}p^{i}_{k} + c_{2}r_{2}p^{g}_{k}}{c_{1}r_{1} + c_{2}r_{2}} - x^{i}_{k}\\right)$ equals to $p_{k}$"
   ]
  },
  {
   "cell_type": "markdown",
   "metadata": {},
   "source": [
    "Hence, we can say that each particle searches the value based on a line-search with a stochastic step size ($r_1$ and $r_2$ are random numbers) and search direction (again there are $r_1$ and $r_2$ components)."
   ]
  },
  {
   "cell_type": "markdown",
   "metadata": {},
   "source": [
    "# Day 7 - 8"
   ]
  },
  {
   "cell_type": "markdown",
   "metadata": {},
   "source": [
    "## Case Study"
   ]
  },
  {
   "cell_type": "code",
   "execution_count": 3,
   "metadata": {},
   "outputs": [],
   "source": [
    "import numpy as np\n",
    "import matplotlib.pyplot as plt\n",
    "import scipy as sc\n",
    "import pandas as pd\n",
    "import random\n",
    "import math\n",
    "from numba import njit, jit, prange\n",
    "%matplotlib inline"
   ]
  },
  {
   "cell_type": "code",
   "execution_count": 15,
   "metadata": {},
   "outputs": [
    {
     "data": {
      "image/png": "[encoded data removed]",
      "text/plain": [
       "<Figure size 432x288 with 1 Axes>"
      ]
     },
     "metadata": {
      "needs_background": "light"
     },
     "output_type": "display_data"
    }
   ],
   "source": [
    "df = pd.read_csv(\"../projects/resources/steady_state_velocity.csv\")\n",
    "v0 = np.array(df.speed[1:])\n",
    "u0 = np.array(df.throttle[1:])\n",
    "\n",
    "plt.title('Steady State Velocity')\n",
    "plt.xlabel('Speed')\n",
    "plt.ylabel('Throttle')\n",
    "plt.scatter(v0, u0)\n",
    "plt.show()"
   ]
  },
  {
   "cell_type": "markdown",
   "metadata": {},
   "source": [
    "Based on the graph above, the PSO algorithm will use a cost function based on the equation below\n",
    "\n",
    "$$\n",
    "\\hat{u}_{s} = \\beta_{1}(1-e^{-\\beta_{2}v_{s}})\n",
    "$$"
   ]
  },
  {
   "cell_type": "code",
   "execution_count": 73,
   "metadata": {},
   "outputs": [],
   "source": [
    "def ev_func(beta):\n",
    "    u = beta[0]*(1.0 - np.exp(-beta[1]*v0))\n",
    "    return u"
   ]
  },
  {
   "cell_type": "code",
   "execution_count": 74,
   "metadata": {},
   "outputs": [],
   "source": [
    "def cost(c_func, beta):\n",
    "    err = u0 - c_func(beta)\n",
    "    return np.mean(err**2)"
   ]
  },
  {
   "cell_type": "code",
   "execution_count": 97,
   "metadata": {},
   "outputs": [],
   "source": [
    "def PSO(func, n_param, particles, rng, iterate_max):\n",
    "    # Define the constants\n",
    "    w = 0.5\n",
    "    c1 = 0.8\n",
    "    c2 = 0.7\n",
    "    iterate = 0\n",
    "    \n",
    "    # Setup the initial conditions for position and velocity arrays\n",
    "    ppos_vector = np.random.uniform(0, rng, (particles, n_param))\n",
    "    pbest_pos = ppos_vector\n",
    "    pfit_value = np.ones(particles) * 1e100\n",
    "    gbest_pos = np.zeros(n_param)\n",
    "    gfit_value = 1e100\n",
    "    pvel_vector = np.zeros((particles, n_param))\n",
    "    \n",
    "    # First loop for assigning the fitness value using the cost function\n",
    "    for i in range(particles):\n",
    "        # Check the position of individual and group value using the evaluation function\n",
    "        cost_func = cost(func, ppos_vector[i])\n",
    "        \n",
    "        # Update each values using the cost functions\n",
    "        if(pfit_value[i] > cost_func):\n",
    "            pfit_value[i] = cost_func\n",
    "            pbest_pos[i] = np.copy(ppos_vector[i])\n",
    "                \n",
    "        if(gfit_value > cost_func):\n",
    "            gfit_value = cost_func\n",
    "            gbest_pos = np.copy(ppos_vector[i])\n",
    "                \n",
    "        \n",
    "        \n",
    "    # Second loop for implementing the PSO Algorithm\n",
    "    while (iterate < iterate_max):\n",
    "        for i in range(particles):\n",
    "            # Update the velocity and position vector\n",
    "            pvel_vector[i] = w*pvel_vector[i] + c1*random.random()*(pbest_pos[i]-ppos_vector[i]) + c2*random.random()*(gbest_pos-ppos_vector[i])\n",
    "            ppos_vector[i] = pvel_vector[i] + ppos_vector[i]\n",
    "            \n",
    "            cost_func = cost(func, ppos_vector[i])\n",
    "            \n",
    "            # Update each values using the cost functions\n",
    "            if(pfit_value[i] > cost_func):\n",
    "                pfit_value[i] = cost_func\n",
    "                pbest_pos[i] = np.copy(ppos_vector[i])\n",
    "                \n",
    "            if(gfit_value > cost_func):\n",
    "                gfit_value = cost_func\n",
    "                gbest_pos = np.copy(ppos_vector[i])\n",
    "                \n",
    "        iterate = iterate+1\n",
    "    \n",
    "    print(cost(func, gbest_pos))\n",
    "    print(\"The best position for each parameter: \", gbest_pos, \" with \", iterate, \" iteration.\")\n",
    "    return ppos_vector, gbest_pos"
   ]
  },
  {
   "cell_type": "code",
   "execution_count": 178,
   "metadata": {},
   "outputs": [
    {
     "name": "stdout",
     "output_type": "stream",
     "text": [
      "0.0009430649341495219\n",
      "The best position for each parameter:  [0.91346753 0.18324299]  with  2000  iteration.\n"
     ]
    }
   ],
   "source": [
    "pv, gp = PSO(ev_func, 2, 25, 2, 2000)"
   ]
  },
  {
   "cell_type": "code",
   "execution_count": 161,
   "metadata": {},
   "outputs": [
    {
     "data": {
      "image/png": "[encoded data removed]",
      "text/plain": [
       "<Figure size 432x288 with 1 Axes>"
      ]
     },
     "metadata": {
      "needs_background": "light"
     },
     "output_type": "display_data"
    }
   ],
   "source": [
    "plt.title(\"Particle Position\")\n",
    "plt.xlabel(\"Beta-1\")\n",
    "plt.xlim(-2,2)\n",
    "plt.ylabel(\"Beta-2\")\n",
    "plt.ylim(-2,2)\n",
    "plt.scatter(pv[:,0], pv[:,1])\n",
    "plt.show()"
   ]
  },
  {
   "cell_type": "code",
   "execution_count": 162,
   "metadata": {},
   "outputs": [
    {
     "data": {
      "image/png": "[encoded data removed]",
      "text/plain": [
       "<Figure size 432x288 with 1 Axes>"
      ]
     },
     "metadata": {
      "needs_background": "light"
     },
     "output_type": "display_data"
    }
   ],
   "source": [
    "plt.title('PSO vs Original Dataset')\n",
    "plt.xlabel('Speed')\n",
    "plt.ylabel('Throttle')\n",
    "plt.plot(v0, ev_func(gp), label='PSO', color='k')\n",
    "plt.scatter(v0, u0, label='Dataset')\n",
    "plt.legend(loc='center left', bbox_to_anchor=(1, 0.5))\n",
    "plt.show()"
   ]
  },
  {
   "cell_type": "markdown",
   "metadata": {},
   "source": [
    "Based on the graph above it can be seen that by using the PSO algorithm, we can determine the values of $\\beta_{1}$ and $\\beta_{2}$ to find the function that can represent the dataset. Next, the PSO will be used to find the values based on the equation below\n",
    "\n",
    "$$\n",
    "\\hat{u}_{s} = \\beta_{1}(1-e^{-\\beta_{2}v_{s}^{\\beta_3}-\\beta_{4}v_{s}^{\\beta_5}})\n",
    "$$"
   ]
  },
  {
   "cell_type": "code",
   "execution_count": 149,
   "metadata": {},
   "outputs": [],
   "source": [
    "def ev_func_5(beta):\n",
    "    u = beta[0]*(1.0 - np.exp(-beta[1]*v0**(beta[2])-beta[3]*v0**beta[4]))\n",
    "    return u"
   ]
  },
  {
   "cell_type": "code",
   "execution_count": 207,
   "metadata": {},
   "outputs": [
    {
     "name": "stdout",
     "output_type": "stream",
     "text": [
      "0.00022433278656880317\n",
      "The best position for each parameter:  [ 1.03506859 -0.55894933  0.92404573  0.78311663  0.88035065]  with  5000  iteration.\n"
     ]
    }
   ],
   "source": [
    "pv4, gp4 = PSO(ev_func_5, 5, 30, 2, 5000)"
   ]
  },
  {
   "cell_type": "code",
   "execution_count": 241,
   "metadata": {},
   "outputs": [],
   "source": [
    "def ev_func_5_test(beta, v0):\n",
    "    u = beta[0]*(1.0 - np.exp(-beta[1]*v0**(beta[2])-beta[3]*v0**beta[4]))\n",
    "    return u"
   ]
  },
  {
   "cell_type": "code",
   "execution_count": 242,
   "metadata": {},
   "outputs": [
    {
     "data": {
      "text/plain": [
       "0.0"
      ]
     },
     "execution_count": 242,
     "metadata": {},
     "output_type": "execute_result"
    }
   ],
   "source": [
    "ev_func_5_test(gp4, 0.0)"
   ]
  },
  {
   "cell_type": "code",
   "execution_count": 208,
   "metadata": {},
   "outputs": [
    {
     "data": {
      "image/png": "[encoded data removed]",
      "text/plain": [
       "<Figure size 432x288 with 1 Axes>"
      ]
     },
     "metadata": {
      "needs_background": "light"
     },
     "output_type": "display_data"
    }
   ],
   "source": [
    "plt.title('PSO 2 Var vs PSO 5 Var')\n",
    "plt.xlabel('Speed')\n",
    "plt.ylabel('Throttle')\n",
    "plt.plot(v0, ev_func_5(gp4), label='PSO 5 Var', color='k')\n",
    "plt.plot(v0, ev_func(gp), label='PSO 2 Var', color='r')\n",
    "plt.scatter(v0, u0, label='Dataset')\n",
    "plt.legend(loc='center left', bbox_to_anchor=(1, 0.5))\n",
    "plt.show()"
   ]
  },
  {
   "cell_type": "markdown",
   "metadata": {},
   "source": [
    "# Day 9 - 10"
   ]
  },
  {
   "cell_type": "markdown",
   "metadata": {},
   "source": [
    "The PSO algorithm will now be modified so that the function runs faster."
   ]
  },
  {
   "cell_type": "code",
   "execution_count": 215,
   "metadata": {},
   "outputs": [],
   "source": [
    "ev_func_jitted = njit(ev_func)\n",
    "ev_func_5_jitted = njit(ev_func_5)\n",
    "cost_jitted = njit(cost)"
   ]
  },
  {
   "cell_type": "code",
   "execution_count": 130,
   "metadata": {},
   "outputs": [],
   "source": [
    "def PSO_nprint(func, n_param, particles, rng, iterate_max):\n",
    "    # Define the constants\n",
    "    w = 0.5\n",
    "    c1 = 0.8\n",
    "    c2 = 0.7\n",
    "    iterate = 0\n",
    "    \n",
    "    # Setup the initial conditions for position and velocity arrays\n",
    "    ppos_vector = np.random.uniform(0, rng, (particles, n_param))\n",
    "    pbest_pos = ppos_vector\n",
    "    pfit_value = np.ones(particles) * 1e100\n",
    "    gbest_pos = np.zeros(n_param)\n",
    "    gfit_value = 1e100\n",
    "    pvel_vector = np.zeros((particles, n_param))\n",
    "    \n",
    "    # First loop for assigning the fitness value using the cost function\n",
    "    for i in range(particles):\n",
    "        # Check the position of individual and group value using the evaluation function\n",
    "        cost_func = cost(func, ppos_vector[i])\n",
    "        \n",
    "        # Update each values using the cost functions\n",
    "        if(pfit_value[i] > cost_func):\n",
    "            pfit_value[i] = cost_func\n",
    "            pbest_pos[i] = np.copy(ppos_vector[i])\n",
    "                \n",
    "        if(gfit_value > cost_func):\n",
    "            gfit_value = cost_func\n",
    "            gbest_pos = np.copy(ppos_vector[i])\n",
    "                \n",
    "        \n",
    "        \n",
    "    # Second loop for implementing the PSO Algorithm\n",
    "    while (iterate < iterate_max):\n",
    "        for i in range(particles):\n",
    "            # Update the velocity and position vector\n",
    "            pvel_vector[i] = w*pvel_vector[i] + c1*random.random()*(pbest_pos[i]-ppos_vector[i]) + c2*random.random()*(gbest_pos-ppos_vector[i])\n",
    "            ppos_vector[i] = pvel_vector[i] + ppos_vector[i]\n",
    "            \n",
    "            cost_func = cost(func, ppos_vector[i])\n",
    "            \n",
    "            # Update each values using the cost functions\n",
    "            if(pfit_value[i] > cost_func):\n",
    "                pfit_value[i] = cost_func\n",
    "                pbest_pos[i] = np.copy(ppos_vector[i])\n",
    "                \n",
    "            if(gfit_value > cost_func):\n",
    "                gfit_value = cost_func\n",
    "                gbest_pos = np.copy(ppos_vector[i])\n",
    "                \n",
    "        iterate = iterate+1\n",
    "    \n",
    "    return ppos_vector, gbest_pos"
   ]
  },
  {
   "cell_type": "code",
   "execution_count": 235,
   "metadata": {},
   "outputs": [],
   "source": [
    "def PSO_jit(func, n_param, particles, rng, iterate_max):\n",
    "    # Define the constants\n",
    "    w = 0.5\n",
    "    c1 = 0.8\n",
    "    c2 = 0.7\n",
    "    iterate = 0\n",
    "    \n",
    "    # Setup the initial conditions for position and velocity arrays\n",
    "    ppos_vector = np.random.uniform(0, rng, (particles, n_param))\n",
    "    pbest_pos = ppos_vector\n",
    "    pfit_value = np.ones(particles) * 1e100\n",
    "    gbest_pos = np.zeros(n_param)\n",
    "    gfit_value = 1e100\n",
    "    pvel_vector = np.zeros((particles, n_param))\n",
    "    \n",
    "    # First loop for assigning the fitness value using the cost function\n",
    "    for i in range(particles):\n",
    "        # Check the position of individual and group value using the evaluation function\n",
    "        cost_func = cost_jitted(func, ppos_vector[i])\n",
    "        \n",
    "        # Update each values using the cost functions\n",
    "        if(pfit_value[i] > cost_func):\n",
    "            pfit_value[i] = cost_func\n",
    "            pbest_pos[i] = np.copy(ppos_vector[i])\n",
    "                \n",
    "        if(gfit_value > cost_func):\n",
    "            gfit_value = cost_func\n",
    "            gbest_pos = np.copy(ppos_vector[i])\n",
    "                \n",
    "        \n",
    "        \n",
    "    # Second loop for implementing the PSO Algorithm\n",
    "    while (iterate < iterate_max):\n",
    "        for i in prange(particles):\n",
    "            # Update the velocity and position vector\n",
    "            pvel_vector[i] = w*pvel_vector[i] + c1*random.random()*(pbest_pos[i]-ppos_vector[i]) + c2*random.random()*(gbest_pos-ppos_vector[i])\n",
    "            ppos_vector[i] = pvel_vector[i] + ppos_vector[i]\n",
    "            \n",
    "            cost_func = cost_jitted(func, ppos_vector[i])\n",
    "            \n",
    "            # Update each values using the cost functions\n",
    "            if(pfit_value[i] > cost_func):\n",
    "                pfit_value[i] = cost_func\n",
    "                pbest_pos[i] = np.copy(ppos_vector[i])\n",
    "        \n",
    "        for i in range(particles):\n",
    "            if(gfit_value > cost_func):\n",
    "                gfit_value = cost_func\n",
    "                gbest_pos = np.copy(ppos_vector[i])\n",
    "                \n",
    "        iterate = iterate+1\n",
    "    \n",
    "    return ppos_vector, gbest_pos"
   ]
  },
  {
   "cell_type": "code",
   "execution_count": 236,
   "metadata": {},
   "outputs": [],
   "source": [
    "PSO_jitted = njit(PSO_jit)\n",
    "# PSO_jitted_parallelized = njit(PSO_jit, parallel=True)"
   ]
  },
  {
   "cell_type": "code",
   "execution_count": 237,
   "metadata": {},
   "outputs": [],
   "source": [
    "# Compile the function\n",
    "_, _s = PSO_jitted(ev_func_jitted, 2, 2, 2, 2)\n",
    "#_, _s = PSO_jitted_parallelized(ev_func_jitted, 2, 2, 2, 2)"
   ]
  },
  {
   "cell_type": "code",
   "execution_count": 238,
   "metadata": {},
   "outputs": [
    {
     "name": "stdout",
     "output_type": "stream",
     "text": [
      "169 ms ± 5.41 ms per loop (mean ± std. dev. of 7 runs, 10 loops each)\n",
      "4.56 s ± 440 ms per loop (mean ± std. dev. of 7 runs, 1 loop each)\n"
     ]
    }
   ],
   "source": [
    "%timeit pvj, gpj = PSO_jitted(ev_func_jitted, 2, 25, 2, 5000)\n",
    "%timeit pv, gp = PSO_nprint(ev_func, 2, 25, 2, 5000)\n",
    "#%timeit pvjp, gpjp = PSO_jitted_parallelized(ev_func_jitted, 2, 25, 2, 5000)"
   ]
  },
  {
   "cell_type": "code",
   "execution_count": 224,
   "metadata": {},
   "outputs": [
    {
     "data": {
      "text/plain": [
       "(array([[ 1.00697726, -0.13399449,  1.98327896,  0.40013246, -0.03174372],\n",
       "        [ 1.00697726, -0.13399449,  1.98327896,  0.40013246, -0.03174372],\n",
       "        [ 1.00697726, -0.13399449,  1.98327896,  0.40013246, -0.03174372],\n",
       "        ...,\n",
       "        [ 1.00697726, -0.13399449,  1.98327896,  0.40013246, -0.03174372],\n",
       "        [ 1.00697726, -0.13399449,  1.98327896,  0.40013246, -0.03174372],\n",
       "        [ 1.00697726, -0.13399449,  1.98327896,  0.40013246, -0.03174372]]),\n",
       " array([ 1.00697726, -0.13399449,  1.98327896,  0.40013246, -0.03174372]))"
      ]
     },
     "execution_count": 224,
     "metadata": {},
     "output_type": "execute_result"
    }
   ],
   "source": [
    "PSO_jitted(ev_func_5_jitted, 5, 1000, 2, 1000)"
   ]
  },
  {
   "cell_type": "code",
   "execution_count": 147,
   "metadata": {},
   "outputs": [
    {
     "data": {
      "image/png": "[encoded data removed]",
      "text/plain": [
       "<Figure size 432x288 with 1 Axes>"
      ]
     },
     "metadata": {
      "needs_background": "light"
     },
     "output_type": "display_data"
    }
   ],
   "source": [
    "plt.title('PSO vs PSO jitted')\n",
    "plt.xlabel('Speed')\n",
    "plt.ylabel('Throttle')\n",
    "plt.plot(v0, ev_func(gp), label='PSO', color='k')\n",
    "plt.plot(v0, ev_func(gpj), label='PSO jitted', color='r')\n",
    "plt.scatter(v0, u0, label='Dataset')\n",
    "plt.legend(loc='center left', bbox_to_anchor=(1, 0.5))\n",
    "plt.show()"
   ]
  },
  {
   "cell_type": "markdown",
   "metadata": {},
   "source": [
    "# Day 11 - 12"
   ]
  },
  {
   "cell_type": "markdown",
   "metadata": {},
   "source": [
    "## APSO Algorithm"
   ]
  },
  {
   "cell_type": "markdown",
   "metadata": {},
   "source": [
    "APSO or Accelerated Particle Swarm Optimization is a method to accelerate the computation time of a normal PSO by only using the global value to update the postion and velocity vectors. By doing so, the time it takes to update the value would decrease because there's only one parameter that is always updated. The position vector update function is changed to\n",
    "\n",
    "$$\n",
    "x_{i} = (1 - \\beta)x_{i} + \\alpha\\gamma^{iter}\\varepsilon + \\beta p_{g}\n",
    "$$\n",
    "\n",
    "The value of $\\beta$, $\\alpha$, and $\\gamma$ are predetermined before the algorithm loop. The value of those three parameters changes how the function searches for a global best position for each particle. Whereas $\\varepsilon$ is a random number distributed normally between 0 and 1."
   ]
  },
  {
   "cell_type": "code",
   "execution_count": 2,
   "metadata": {},
   "outputs": [],
   "source": [
    "import numpy as np\n",
    "import matplotlib.pyplot as plt\n",
    "import scipy as sc\n",
    "import pandas as pd\n",
    "import random\n",
    "import math\n",
    "from numba import njit, jit, prange\n",
    "%matplotlib inline"
   ]
  },
  {
   "cell_type": "markdown",
   "metadata": {},
   "source": [
    "Using the data that was used on testing the PSO, it will be used again to test the APSO"
   ]
  },
  {
   "cell_type": "code",
   "execution_count": 14,
   "metadata": {},
   "outputs": [
    {
     "data": {
      "image/png": "[encoded data removed]",
      "text/plain": [
       "<Figure size 432x288 with 1 Axes>"
      ]
     },
     "metadata": {
      "needs_background": "light"
     },
     "output_type": "display_data"
    }
   ],
   "source": [
    "df = pd.read_csv(\"../projects/resources/steady_state_velocity.csv\")\n",
    "v0 = np.array(df.speed[1:])\n",
    "u0 = np.array(df.throttle[1:])\n",
    "\n",
    "plt.title('Steady State Velocity')\n",
    "plt.xlabel('Speed')\n",
    "plt.ylabel('Throttle')\n",
    "plt.scatter(v0, u0)\n",
    "plt.show()"
   ]
  },
  {
   "cell_type": "code",
   "execution_count": 75,
   "metadata": {},
   "outputs": [],
   "source": [
    "def ev_func(beta):\n",
    "    u = beta[0]*(1.0 - np.exp(beta[1]*v0))\n",
    "    return u"
   ]
  },
  {
   "cell_type": "code",
   "execution_count": 21,
   "metadata": {},
   "outputs": [],
   "source": [
    "def cost(c_func, beta):\n",
    "    err = u0 - c_func(beta)\n",
    "    if(beta[0] < 0):\n",
    "        return np.inf\n",
    "    if(beta[1] > 0):\n",
    "        return np.inf\n",
    "    else:\n",
    "        return np.mean(err**2)"
   ]
  },
  {
   "cell_type": "code",
   "execution_count": 98,
   "metadata": {},
   "outputs": [],
   "source": [
    "def APSO(func, costf, n_param, particles, rng, iterate_max):\n",
    "    # Define the constants\n",
    "    alpha0 = 0.5\n",
    "    beta = 0.3\n",
    "    gamma = 0.9\n",
    "    iterate = 0\n",
    "    \n",
    "    # Setup the initial conditions for position and velocity arrays\n",
    "    ppos_vector = np.random.uniform(-rng, rng, (particles, n_param))\n",
    "    gbest_pos = np.zeros(n_param)\n",
    "    gfit_value = 1e100\n",
    "    \n",
    "    # First loop for assigning the fitness value using the cost function\n",
    "    for i in range(particles):\n",
    "        # Check the position of individual and group value using the evaluation function\n",
    "        cost_func = costf(func, ppos_vector[i])\n",
    "        \n",
    "        # Update the global value using the cost functions\n",
    "        if(gfit_value > cost_func):\n",
    "            gfit_value = np.copy(cost_func)\n",
    "            gbest_pos = np.copy(ppos_vector[i])\n",
    "            \n",
    "    # Second loop for implementing the APSO Algorithm\n",
    "    while (iterate < iterate_max):\n",
    "        for i in range(particles):\n",
    "            # Update the alpha value\n",
    "            alpha = alpha0*gamma**iterate\n",
    "            \n",
    "            # Update the velocity and position vector\n",
    "            ppos_vector[i] = (1-beta)*ppos_vector[i] + alpha*np.random.normal(0,1) + beta*gbest_pos\n",
    "            \n",
    "            cost_func = costf(func, ppos_vector[i])\n",
    "            \n",
    "            # Update the global value using the cost functions\n",
    "            if(gfit_value > cost_func):\n",
    "                gfit_value = np.copy(cost_func)\n",
    "                gbest_pos = np.copy(ppos_vector[i])\n",
    "                \n",
    "        iterate = iterate+1\n",
    "    \n",
    "    return ppos_vector, gbest_pos"
   ]
  },
  {
   "cell_type": "code",
   "execution_count": 99,
   "metadata": {},
   "outputs": [
    {
     "name": "stdout",
     "output_type": "stream",
     "text": [
      "0.0013150255547149294\n",
      "[ 0.88160215 -0.18916875]\n",
      "0.000943070451844596\n",
      "[ 0.91333368 -0.18327483]\n",
      "0.0010398707172422645\n",
      "[ 0.89656096 -0.18679837]\n",
      "0.0009614531435612974\n",
      "[ 0.90590445 -0.1849499 ]\n",
      "0.0009430675638610931\n",
      "[ 0.91337512 -0.18326498]\n"
     ]
    }
   ],
   "source": [
    "for i in range(5):\n",
    "    pva, gpa = APSO(ev_func, cost, 2, 100, 1, 2000)\n",
    "    print(cost(ev_func, gpa))\n",
    "    print(gpa)"
   ]
  },
  {
   "cell_type": "code",
   "execution_count": 100,
   "metadata": {},
   "outputs": [
    {
     "name": "stdout",
     "output_type": "stream",
     "text": [
      "0.0009430675638610931\n",
      "[ 0.91337512 -0.18326498]\n"
     ]
    }
   ],
   "source": [
    "print(cost(ev_func, gpa))\n",
    "print(gpa)"
   ]
  },
  {
   "cell_type": "code",
   "execution_count": 101,
   "metadata": {},
   "outputs": [
    {
     "data": {
      "image/png": "[encoded data removed]",
      "text/plain": [
       "<Figure size 432x288 with 1 Axes>"
      ]
     },
     "metadata": {
      "needs_background": "light"
     },
     "output_type": "display_data"
    }
   ],
   "source": [
    "plt.title(\"Particle Position\")\n",
    "plt.xlabel(\"Beta-1\")\n",
    "plt.xlim(-1,1)\n",
    "plt.ylabel(\"Beta-2\")\n",
    "plt.ylim(-1,1)\n",
    "plt.scatter(pva[:,0], pva[:,1])\n",
    "plt.show()"
   ]
  },
  {
   "cell_type": "code",
   "execution_count": 102,
   "metadata": {},
   "outputs": [
    {
     "data": {
      "image/png": "[encoded data removed]",
      "text/plain": [
       "<Figure size 432x288 with 1 Axes>"
      ]
     },
     "metadata": {
      "needs_background": "light"
     },
     "output_type": "display_data"
    }
   ],
   "source": [
    "plt.title('APSO vs Original Dataset')\n",
    "plt.xlabel('Speed')\n",
    "plt.ylabel('Throttle')\n",
    "plt.plot(v0, ev_func(gpa), label='APSO', color='k')\n",
    "plt.scatter(v0, u0, label='Dataset')\n",
    "plt.legend(loc='center left', bbox_to_anchor=(1, 0.5))\n",
    "plt.show()"
   ]
  },
  {
   "cell_type": "code",
   "execution_count": 103,
   "metadata": {},
   "outputs": [],
   "source": [
    "def ev_func_5(beta):\n",
    "    u = beta[0]*(1.0 - np.exp(beta[1]*v0**(beta[2])+beta[3]*v0**beta[4]))\n",
    "    return u"
   ]
  },
  {
   "cell_type": "code",
   "execution_count": 104,
   "metadata": {},
   "outputs": [],
   "source": [
    "def cost5(c_func, beta):\n",
    "    err = u0 - c_func(beta)\n",
    "    if(beta[0] < 0):\n",
    "        return np.inf\n",
    "    if(beta[1] > 0):\n",
    "        return np.inf\n",
    "    if(beta[2] < 0):\n",
    "        return np.inf\n",
    "    if(beta[3] > 0):\n",
    "        return np.inf\n",
    "    if(beta[4] < 0):\n",
    "        return np.inf\n",
    "    return np.mean(err**2)"
   ]
  },
  {
   "cell_type": "code",
   "execution_count": 111,
   "metadata": {},
   "outputs": [
    {
     "name": "stderr",
     "output_type": "stream",
     "text": [
      "D:\\Miniconda3\\lib\\site-packages\\ipykernel_launcher.py:2: RuntimeWarning: overflow encountered in exp\n",
      "  \n"
     ]
    },
    {
     "name": "stdout",
     "output_type": "stream",
     "text": [
      "0.0002782384694801155\n"
     ]
    }
   ],
   "source": [
    "pva5, gpa5 = APSO(ev_func_5, cost5, 5, 50, 2, 1000)\n",
    "print(cost(ev_func_5, gpa5))"
   ]
  },
  {
   "cell_type": "code",
   "execution_count": 112,
   "metadata": {},
   "outputs": [
    {
     "data": {
      "image/png": "[encoded data removed]",
      "text/plain": [
       "<Figure size 432x288 with 1 Axes>"
      ]
     },
     "metadata": {
      "needs_background": "light"
     },
     "output_type": "display_data"
    }
   ],
   "source": [
    "for i in range (5) :\n",
    "    plt.hist(pva5[:,i], label=('Beta '+str(i+1)))\n",
    "\n",
    "plt.ylabel(\"N-Particles\")\n",
    "plt.ylim(0,1)\n",
    "plt.xlabel(\"Beta Value\")\n",
    "plt.legend(loc='center left', bbox_to_anchor=(1, 0.5))\n",
    "plt.show()"
   ]
  },
  {
   "cell_type": "code",
   "execution_count": 113,
   "metadata": {},
   "outputs": [
    {
     "data": {
      "image/png": "[encoded data removed]",
      "text/plain": [
       "<Figure size 432x288 with 1 Axes>"
      ]
     },
     "metadata": {
      "needs_background": "light"
     },
     "output_type": "display_data"
    }
   ],
   "source": [
    "plt.title('APSO vs Original Dataset')\n",
    "plt.xlabel('Speed')\n",
    "plt.ylabel('Throttle')\n",
    "plt.plot(v0, ev_func_5(gpa5), label='APSO', color='k')\n",
    "plt.scatter(v0, u0, label='Dataset')\n",
    "plt.legend(loc='center left', bbox_to_anchor=(1, 0.5))\n",
    "plt.show()"
   ]
  },
  {
   "cell_type": "markdown",
   "metadata": {},
   "source": [
    "# Day 13 - 14"
   ]
  },
  {
   "cell_type": "markdown",
   "metadata": {},
   "source": [
    "## Stochastic Fractal Search\n",
    "\n",
    "The Stochastic Fractal Search (SFS) finds values similarly to PSO by using multiple particles. The difference is that the SFS has two primary parts which are the diffusion part and the update part. The diffusion part finds the best particle value by using a gaussian distribution. Whereas the update part, updates the values two times by giving a probability value to each particle based on the fitness value of the particle to the cost function. The particles are created based on an upper and lower boundary ($UB$ and $LB$).\n",
    "\n",
    "$$\n",
    "P_{i} = LB + \\varepsilon\\space\\times\\space(UB - LB)\n",
    "$$\n",
    "\n",
    "The value of $\\varepsilon$ is a random number that is normally distributed between 0 and 1."
   ]
  },
  {
   "cell_type": "markdown",
   "metadata": {},
   "source": [
    "### Diffusion"
   ]
  },
  {
   "cell_type": "markdown",
   "metadata": {},
   "source": [
    "It can be seen in the function below that the particles that will be diffused are updated through either Gaussian Walks 1 (GW1) or GW2. The function for both type of Gaussian Walks are\n",
    "\n",
    "$$\n",
    "GW1 = Gaussian(\\mu_{BP}, \\sigma) + \\varepsilon\\space\\times\\space BP - \\varepsilon'\\space\\times\\space P_{i}\n",
    "$$"
   ]
  },
  {
   "cell_type": "markdown",
   "metadata": {},
   "source": [
    "$$\n",
    "GW2 = Gaussian(\\mu_{P}, \\sigma)\n",
    "$$"
   ]
  },
  {
   "cell_type": "markdown",
   "metadata": {},
   "source": [
    "Again, the value of $\\varepsilon$ and $\\varepsilon'$ is a random number that is distributed normally between 0 and 1. The values for each variables in GW1 and GW2 are\n",
    "\n",
    "$$\n",
    "\\mu_{BP} = \\left|BP\\right| \\space\\space\\space\\space\\space \\mu_{P} = \\left|P_{i}\\right|\n",
    "$$"
   ]
  },
  {
   "cell_type": "markdown",
   "metadata": {},
   "source": [
    "$$\n",
    "\\sigma = \\left|\\frac{log(g)}{g}\\space\\times\\space(P_{i} - BP)\\right|\n",
    "$$"
   ]
  },
  {
   "cell_type": "markdown",
   "metadata": {},
   "source": [
    "To be noted here from the equation above that the value of $BP$ is the best value from the particles $P_{i}$ that is chosen by applying a cost function. The value of $g$ is the number of iteration that was done during the diffusion."
   ]
  },
  {
   "cell_type": "code",
   "execution_count": 79,
   "metadata": {},
   "outputs": [],
   "source": [
    "def diffuse(part, n_diffuse, n_iter, p_walk):\n",
    "    best_part = part[0]\n",
    "    \n",
    "    for i in range(n_diffuse):\n",
    "        if(np.random.rand() < p_walk):\n",
    "            # Set the values for GW1\n",
    "            mu = abs(part[0])\n",
    "            sigma = abs((np.log10(n_iter+1)/(n_iter+1))*(part-best_part))\n",
    "            \n",
    "            # Set the new particles\n",
    "            part = np.random.normal(mu,sigma) + np.random.uniform()*best_part - np.random.uniform()*part\n",
    "        else:\n",
    "            # Set the values for GW2\n",
    "            mu = abs(part[i])\n",
    "            sigma = abs((np.log10(n_iter+1)/(n_iter+1))*(part-best_part))\n",
    "                    \n",
    "            # Set the new particles\n",
    "            part = np.random.normal(mu,sigma)\n",
    "            \n",
    "    return part"
   ]
  },
  {
   "cell_type": "markdown",
   "metadata": {},
   "source": [
    "## Sort\n",
    "\n",
    "The function below is used to sort the particles based on the cost function."
   ]
  },
  {
   "cell_type": "code",
   "execution_count": 74,
   "metadata": {},
   "outputs": [],
   "source": [
    "def cost(beta):\n",
    "    u = beta[0]*(1.0 - np.exp(beta[1]*v0))\n",
    "    err = abs(u - u0)\n",
    "    return np.mean(err)    "
   ]
  },
  {
   "cell_type": "code",
   "execution_count": 75,
   "metadata": {},
   "outputs": [],
   "source": [
    "def sort_by_cost(part, c_func):\n",
    "    sort_part = np.zeros([part.shape[0], part.shape[1] + 1])\n",
    "    \n",
    "    for i in range(part.shape[0]):\n",
    "        if(part[i][0] < 0.0):\n",
    "            sort_part[i] = part[i][0], part[i][1], np.inf\n",
    "        if(part[i][1] > 0.0):\n",
    "            sort_part[i] = part[i][0], part[i][1], np.inf\n",
    "        else:\n",
    "            sort_part[i] = part[i][0], part[i][1], c_func(part[i])\n",
    "    \n",
    "    sort_part = np.delete(sort_part[sort_part[:,-1].argsort()], -1, axis=1)\n",
    "    \n",
    "    return sort_part"
   ]
  },
  {
   "cell_type": "markdown",
   "metadata": {},
   "source": [
    "## SFS Algorithm\n",
    "\n",
    "Below is the main algorithm that is used to run the SFS algorithm. First the particles are diffused based on the diffusion function. Next, the function will be iterated until the max number of iterations. There are two value update that is done during the iteration. The sorted particles are given a probability value based on the position, where the best particle (first position) is given the highest probability. The probability that is given to each particles are\n",
    "\n",
    "$$\n",
    "Pa_{i} = \\frac{i}{N}\n",
    "$$\n",
    "\n",
    "Where $i$ is the position of the particle and $N$ is the number of particles. The first value update is done to the particles that has a probability below $\\varepsilon$ and it is done based on the equation below\n",
    "\n",
    "$$\n",
    "P'_{i} = P_{r} - \\varepsilon\\space\\times\\space(P_{t} - P_{i})\n",
    "$$\n",
    "\n",
    "From the equation, $P'_{i}$ is the particle $P_{i}$ after the first value update, $P_{r}$ and $P_{t}$ are randomly chosen particles from $P$. After the first update, the particles will be sorted again and given a corresponding probability value. The second update is done based on the equation below\n",
    "\n",
    "* If the value of $\\hat{\\varepsilon} \\leqslant 0.5$, the equation is\n",
    "\n",
    "$$\n",
    "P''_{t} = P'_{i} - \\hat{\\varepsilon} \\space\\times\\space (P'_{t} - BP)\n",
    "$$\n",
    "\n",
    "* If the value of $\\hat{\\varepsilon} > 0.5$, the equation is \n",
    "\n",
    "$$\n",
    "P''_{t} = P'_{i} + \\hat{\\varepsilon} \\space\\times\\space (P'_{t} - P'_{r})\n",
    "$$\n",
    "\n",
    "Same as before $P'_{t}$ and $P'_{r}$ are randomly chosen particles from $P$. Whereas the value of $\\hat{\\varepsilon}$ is a random number that is distributed using the gaussian standard distribution."
   ]
  },
  {
   "cell_type": "code",
   "execution_count": 80,
   "metadata": {},
   "outputs": [],
   "source": [
    "def SFS(particles, param, ub, lb, iter_max, cost_func):\n",
    "    # Initialize the variables\n",
    "    part = np.zeros([particles, param])\n",
    "    for i in range(part.shape[0]):\n",
    "        for j in range(part.shape[1]):\n",
    "            part[i][j] = lb + np.random.uniform()*(ub-lb)\n",
    "            \n",
    "    n_diffuse = 20\n",
    "    p_walk = 0.5\n",
    "    \n",
    "    # Sort the particles before entering the loop\n",
    "    part = sort_by_cost(part, cost_func)\n",
    "    best_part = part[0]\n",
    "    \n",
    "    for g in range(iter_max):\n",
    "        # Diffuse the particles\n",
    "        part = diffuse(part, n_diffuse, g, p_walk)\n",
    "        \n",
    "        # Sort and find new best\n",
    "        part = sort_by_cost(part, cost_func)\n",
    "        best_part = part[0]\n",
    "        \n",
    "        # Create the probability for each particles\n",
    "        size = part.shape[0]\n",
    "        pa = np.array([(size - i)/size for i in range(size)])\n",
    "        \n",
    "        # First value update\n",
    "        eps = np.random.uniform()\n",
    "        for i in range(part.shape[0]):\n",
    "            if(eps > pa[i]):\n",
    "                for j in range(part.shape[1]):\n",
    "                    # Update the position based on the equation\n",
    "                    part[i][j] = np.random.choice(part[:,j]) - eps*(np.random.choice(part[:,j]) - np.copy(part[i][j]))\n",
    "            else:\n",
    "                part[i] = np.copy(part[i])\n",
    "                    \n",
    "        # Sort and find new best\n",
    "        part = sort_by_cost(part, cost_func)\n",
    "        best_part = part[0]\n",
    "        \n",
    "        # Second value update\n",
    "        eps_ = np.random.normal()\n",
    "        partt, partr = np.random.choice(part[:,j], 2)\n",
    "        for i in range(part.shape[0]):\n",
    "            if(eps_ > pa[i]):\n",
    "                if(eps_ <= 0.5):\n",
    "                    for j in range(part.shape[1]):\n",
    "                        part[i][j] = np.copy(part[i][j]) - eps_*(partt - best_part[j])\n",
    "                else:\n",
    "                    for j in range(part.shape[1]):\n",
    "                        part[i][j] = np.copy(part[i][j]) + eps_*(partt - partr)\n",
    "            else:\n",
    "                part[i][j] = np.copy(part[i][j])\n",
    "        \n",
    "        # Sort and find new best\n",
    "        part = sort_by_cost(part, cost_func)\n",
    "        best_part = part[0]\n",
    "        print(cost(best_part), best_part)\n",
    "    \n",
    "    return part, best_part"
   ]
  },
  {
   "cell_type": "code",
   "execution_count": 84,
   "metadata": {},
   "outputs": [
    {
     "name": "stdout",
     "output_type": "stream",
     "text": [
      "407.49368867514323 [0.74441277 0.33830352]\n",
      "43145.163956974124 [1.11710973 0.51848632]\n",
      "420897702.02446264 [1.82042851 0.87619734]\n",
      "1348983039.6903143 [2.85697737 0.90533261]\n",
      "37243.05761931791 [1.41128481 0.50260564]\n",
      "668110.8557472482 [1.85294997 0.61110425]\n",
      "2063.0294454608124 [0.67088175 0.41223642]\n",
      "2133127727.435145 [0.91680477 0.97034133]\n",
      "19749.9306137277 [0.38869638 0.52990344]\n",
      "475.3594138926741 [0.26261514 0.38966544]\n",
      "137.67417044752625 [0.23572889 0.34096676]\n",
      "2.6908947772088654 [0.12263184 0.18099451]\n",
      "17.55784842070449 [0.16614219 0.26435192]\n",
      "399.6685007084095 [0.23278319 0.38740068]\n",
      "149164.55248946865 [0.39971675 0.61252352]\n",
      "1167897118.9519305 [0.57830647 0.96457328]\n",
      "94885.90318635396 [0.37761    0.59618354]\n",
      "5284.042539301917 [0.30839409 0.48455255]\n",
      "1469.619634233634 [0.26509417 0.43714732]\n",
      "1117548897.7783983 [0.56381514 0.96381189]\n",
      "618175424.1689041 [0.56146324 0.93985377]\n",
      "4102053035037.572 [0.74879584 1.28586418]\n",
      "297513954.59287745 [0.56111877 0.91006163]\n",
      "254398448084749.34 [0.87508849 1.44685319]\n",
      "4.6046955269901003e+21 [1.22114223 2.1090841 ]\n",
      "1.731696244116289e+24 [1.43712737 2.34181695]\n",
      "247113900210622.97 [0.8647225  1.44615901]\n",
      "1.904557651002233e+19 [1.15810618 1.88956251]\n",
      "444184726.5614119 [0.63104266 0.92161627]\n",
      "1.1773413794822323 [0.09260025 0.12911578]\n",
      "0.785124316387826 [0.05691576 0.08386551]\n",
      "1.198782083146185 [0.08329541 0.13603674]\n",
      "1.7757764402902805 [0.10240007 0.16110998]\n",
      "1.1212728404198606 [0.08238734 0.12910008]\n",
      "1.1554995766090317 [0.08487985 0.13113406]\n",
      "1.3028366491216854 [0.09988682 0.13594718]\n",
      "1.3534744625754187 [0.10465639 0.13737687]\n",
      "1.5600634081763485 [0.11214335 0.14657638]\n",
      "0.7625505293139399 [0.05903602 0.0732116 ]\n",
      "0.728013819619969 [0.053609   0.05880049]\n",
      "0.6840885383528615 [0.02921395 0.03307446]\n",
      "0.6778313556223526 [0.02211231 0.02550267]\n",
      "0.6706107061964034 [0.00464051 0.00524508]\n",
      "0.6706318146652764 [0.00479935 0.00545539]\n",
      "0.6704127835951943 [0.00259786 0.00261261]\n",
      "0.670375431435771 [0.00178592 0.00190121]\n",
      "0.6703483413309238 [0.0009332 0.0009795]\n",
      "0.6703442841090058 [0.00070817 0.00076201]\n",
      "0.6703392711208843 [0.00023943 0.00031449]\n",
      "0.6703389701404086 [0.00018908 0.00025031]\n"
     ]
    }
   ],
   "source": [
    "part, best_part = SFS(30, 2, 1, -1, 50, cost)"
   ]
  },
  {
   "cell_type": "code",
   "execution_count": 85,
   "metadata": {},
   "outputs": [
    {
     "data": {
      "image/png": "[encoded data removed]",
      "text/plain": [
       "<Figure size 432x288 with 1 Axes>"
      ]
     },
     "metadata": {
      "needs_background": "light"
     },
     "output_type": "display_data"
    }
   ],
   "source": [
    "plt.title('APSO vs Original Dataset')\n",
    "plt.xlabel('Speed')\n",
    "plt.ylabel('Throttle')\n",
    "plt.plot(v0, ev_func(best_part), label='APSO', color='k')\n",
    "plt.scatter(v0, u0, label='Dataset')\n",
    "plt.legend(loc='center left', bbox_to_anchor=(1, 0.5))\n",
    "plt.show()"
   ]
  },
  {
   "cell_type": "markdown",
   "metadata": {},
   "source": [
    "# Day 15"
   ]
  },
  {
   "cell_type": "markdown",
   "metadata": {},
   "source": [
    "## PID Controller"
   ]
  },
  {
   "cell_type": "markdown",
   "metadata": {},
   "source": [
    "PID Controller is a way to control a system automatically using three parameters. The three parameters are stated in the name itself, P for Proportional, I for Integral, and D for Derivative. Each of those parameters affects the system in a different way.\n",
    "\n",
    "* The proportional part affects the output that the system gives when there are changes\n",
    "* The integral part affects the steady state error of the system response\n",
    "* The derivative part affects the speed of the system response due to changes"
   ]
  },
  {
   "cell_type": "code",
   "execution_count": 1,
   "metadata": {},
   "outputs": [],
   "source": [
    "import numpy as np\n",
    "import matplotlib.pyplot as plt\n",
    "import scipy as sc\n",
    "import pandas as pd\n",
    "import random\n",
    "import math\n",
    "from numba import njit, jit, prange\n",
    "%matplotlib inline\n",
    "import control as co\n",
    "import ipywidgets as wg\n",
    "from IPython.display import display"
   ]
  },
  {
   "cell_type": "markdown",
   "metadata": {},
   "source": [
    "Consider the following transfer function.\n",
    "\n",
    "$$\n",
    "\\displaystyle{G(s) = \\frac{2}{s^3+3s^2+2s+1}}\n",
    "$$"
   ]
  },
  {
   "cell_type": "code",
   "execution_count": 2,
   "metadata": {},
   "outputs": [],
   "source": [
    "# Create the transfer function\n",
    "sys = co.tf([2],[1, 3, 2, 1])"
   ]
  },
  {
   "cell_type": "code",
   "execution_count": 3,
   "metadata": {},
   "outputs": [
    {
     "data": {
      "text/plain": [
       "A = [[-3.  2. -1.]\n",
       " [-1.  0.  0.]\n",
       " [ 0. -1.  0.]]\n",
       "\n",
       "B = [[-1.]\n",
       " [ 0.]\n",
       " [ 0.]]\n",
       "\n",
       "C = [[ 0.  0. -2.]]\n",
       "\n",
       "D = [[0.]]"
      ]
     },
     "execution_count": 3,
     "metadata": {},
     "output_type": "execute_result"
    }
   ],
   "source": [
    "# Change from s-domain to state space\n",
    "sys_ss = co.tf2ss(sys)\n",
    "sys_ss"
   ]
  },
  {
   "cell_type": "code",
   "execution_count": 4,
   "metadata": {},
   "outputs": [],
   "source": [
    "A = np.array(sys_ss.A)\n",
    "B = np.array(sys_ss.B)\n",
    "C = np.array(sys_ss.C)\n",
    "D = np.array(sys_ss.D)\n",
    "\n",
    "def dynamics(x, u):\n",
    "    # Apply the state space equation for x dot\n",
    "    x_dot = np.ravel(np.dot(A, x))+ np.ravel(np.dot(B, u))\n",
    "    \n",
    "    return x_dot"
   ]
  },
  {
   "cell_type": "code",
   "execution_count": 5,
   "metadata": {},
   "outputs": [],
   "source": [
    "def PID_Control(f, ti, tf, u, kp, ki, kd):\n",
    "    # Initialize the constants\n",
    "    n = 1 + (tf-ti)*f\n",
    "    t = np.linspace(ti, tf, n)\n",
    "    u = np.ones((t.shape[0], 1))*u\n",
    "    PID = np.copy(u)\n",
    "    x0 = np.zeros((3, 1))\n",
    "    P_ = np.zeros(n)\n",
    "    I_ = np.zeros(n)\n",
    "    D_ = np.zeros(n)\n",
    "    err = np.zeros(n)\n",
    "    \n",
    "    x = np.empty((t.shape[0], x0.shape[0]))\n",
    "    y = np.empty((t.shape[0], C.shape[0]))\n",
    "    \n",
    "    x[0] = np.ravel(x0)\n",
    "    y[0] = np.ravel(np.dot(C, x[0])) + np.ravel(np.dot(D, u[0]))\n",
    "    \n",
    "    err[0] = abs(u[0] - y[0])\n",
    "    \n",
    "    # PID Loop\n",
    "    for i in range(1, t.shape[0]):\n",
    "         # Euler method to find the output of the function\n",
    "        dt = t[i] - t[i-1]\n",
    "        x[i] = x[i-1] + dt*dynamics(x[i-1], PID[i-1])\n",
    "        y[i] = np.ravel(np.dot(C, x[i])) + np.ravel(np.dot(D, PID[i]))\n",
    "        \n",
    "        # Count the mean square error\n",
    "        err[i] = abs(u[i] - y[i])\n",
    "        \n",
    "        # PID value set\n",
    "        P_[i] = kp*err[i]\n",
    "        I_[i] = I_[i] + ki*err[i]*dt\n",
    "        D_[i] = kd*(err[i] - err[i-1])/dt\n",
    "        PID[i] = P_[i] + I_[i] + D_[i]\n",
    "        \n",
    "        # Range for control output\n",
    "        if(PID[i] >= 10):\n",
    "            PID[i] = 10.0\n",
    "        if(PID[i] < 0):\n",
    "            PID[i] = 0.0\n",
    "    \n",
    "    return t, y, PID, err, u"
   ]
  },
  {
   "cell_type": "code",
   "execution_count": 6,
   "metadata": {},
   "outputs": [
    {
     "data": {
      "image/png": "[encoded data removed]",
      "text/plain": [
       "<Figure size 432x288 with 1 Axes>"
      ]
     },
     "metadata": {
      "needs_background": "light"
     },
     "output_type": "display_data"
    }
   ],
   "source": [
    "kp = 35.0\n",
    "ki = 30.0\n",
    "kd = 50.0\n",
    "\n",
    "t_, y_, PID_, err_, u_ = PID_Control(100, 0, 20, 6, kp, ki, kd)\n",
    "\n",
    "plt.title(\"PID Control\")\n",
    "plt.xlabel(\"time (s)\")\n",
    "plt.ylabel(\"Output\")\n",
    "plt.plot(t_, y_, label='Output')\n",
    "plt.plot(t_, PID_, label='PID Value', color='gray', linestyle='-.')\n",
    "plt.plot(t_, u_, label='Setpoint', color='orange')\n",
    "plt.legend(loc='center left', bbox_to_anchor=(1, 0.5))\n",
    "plt.show()"
   ]
  },
  {
   "cell_type": "markdown",
   "metadata": {},
   "source": [
    "# Day 16 - 18"
   ]
  },
  {
   "cell_type": "markdown",
   "metadata": {},
   "source": [
    "## Brain Storm Optimization Algorithm"
   ]
  },
  {
   "cell_type": "markdown",
   "metadata": {},
   "source": [
    "Brain Storm Optimization or the BSO is an optimization algorithm much like the PSO but the general concept here is to mimic the brainstorming process that humans do. The algorithm creates n-ideas as a potential output to choose as the best cost value. The multiple ideas will be clusterized using K Means to create brainstorming groups. Each group will then be evaluated to find the best potential idea as the cluster center. Next, the clusters and ideas will be updated by generating new ideas using multiple functions as the main BSO loop.\n",
    "\n",
    "Steps:\n",
    "\n",
    "* Generate n-ideas\n",
    "* Clusterize the ideas to m clusters\n",
    "* Check the probability of evaluating one cluster or two cluster centers by giving a probability (p_one)\n",
    "* If one cluster was chosen then:\n",
    "    * Give another probability (p_one_center) to use the cluster center or a random idea to update the value\n",
    "        * If the cluster center was chosen:\n",
    "        $$\n",
    "        X_{new}^{i} = X_{center}\n",
    "        $$\n",
    "        \n",
    "        * If a random idea was chosen:\n",
    "        $$\n",
    "        X_{new}^{i} = X_{random}\n",
    "        $$\n",
    "        \n",
    "* If two clusters were chosen then:\n",
    "    * Give another probability (p_two_center) to use the cluster center or a random idea from both clusters to update the value\n",
    "        * If the cluster centers were chosen:\n",
    "        $$\n",
    "        X_{new}^{i} = (randint) \\space\\times\\space X_{center}^{1} + (1-randint) \\space\\times\\space X_{center}^{2} \n",
    "        $$\n",
    "        \n",
    "        * If random ideas were chosen:\n",
    "        $$\n",
    "        X_{new}^{i} = (randint) \\space\\times\\space X_{random}^{1} + (1-randint) \\space\\times\\space X_{random}^{2} \n",
    "        $$\n",
    "        \n",
    "* After n-ideas are generated then the new ideas will be updated using the function below\n",
    "$$\n",
    "X_{updated} = X_{new} + \\xi \\space\\times\\space (randnorm)\n",
    "$$\n",
    "\n",
    "* The value of $\\xi$ is\n",
    "$$\n",
    "\\xi = logsig(\\frac{0.5 \\space\\times\\space max_iterate - iterate}{}\n",
    "$$\n",
    "\n",
    "* The updated ideas will be evaluated, if the updated idea has better cost value then the updated ideas will be used\n",
    "* Ideas will be generated for a number of times until max_iterate is reached\n",
    "* Three cluster centers will be chosen from the last idea generated and will be evaluated to choose as the output of the algorithm"
   ]
  },
  {
   "cell_type": "code",
   "execution_count": 1,
   "metadata": {},
   "outputs": [],
   "source": [
    "import numpy as np\n",
    "import matplotlib.pyplot as plt\n",
    "import scipy as sc\n",
    "import pandas as pd\n",
    "import random\n",
    "import math\n",
    "from numba import njit, jit, prange\n",
    "%matplotlib inline\n",
    "import control as co\n",
    "import ipywidgets as wg\n",
    "from IPython.display import display\n",
    "from sklearn.cluster import KMeans"
   ]
  },
  {
   "cell_type": "code",
   "execution_count": 2,
   "metadata": {},
   "outputs": [
    {
     "data": {
      "image/png": "[encoded data removed]",
      "text/plain": [
       "<Figure size 432x288 with 1 Axes>"
      ]
     },
     "metadata": {
      "needs_background": "light"
     },
     "output_type": "display_data"
    }
   ],
   "source": [
    "df = pd.read_csv(\"../projects/resources/steady_state_velocity.csv\")\n",
    "v0 = np.array(df.speed[1:])\n",
    "u0 = np.array(df.throttle[1:])\n",
    "\n",
    "plt.title('Steady State Velocity')\n",
    "plt.xlabel('Speed')\n",
    "plt.ylabel('Throttle')\n",
    "plt.scatter(v0, u0)\n",
    "plt.show()"
   ]
  },
  {
   "cell_type": "code",
   "execution_count": 3,
   "metadata": {},
   "outputs": [],
   "source": [
    "def cost(beta):\n",
    "    u = beta[0]*(1.0 - np.exp(beta[1]*v0))\n",
    "    err = abs(u - u0)\n",
    "    return np.mean(err**2)"
   ]
  },
  {
   "cell_type": "code",
   "execution_count": 4,
   "metadata": {},
   "outputs": [],
   "source": [
    "def ev_func(beta):\n",
    "    u = beta[0]*(1.0 - np.exp(beta[1]*v0))\n",
    "    return u"
   ]
  },
  {
   "cell_type": "code",
   "execution_count": 5,
   "metadata": {},
   "outputs": [],
   "source": [
    "def cluster_center(clust, c_func):\n",
    "    ranked = np.zeros([clust.shape[0], clust.shape[1] + 1])\n",
    "    \n",
    "    for i in range(clust.shape[0]):\n",
    "        ranked[i] = clust[i][0], clust[i][1], c_func(clust[i])\n",
    "    \n",
    "    ranked = np.delete(ranked[ranked[:,-1].argsort()], -1, axis=1)\n",
    "    \n",
    "    return ranked[0]"
   ]
  },
  {
   "cell_type": "code",
   "execution_count": 6,
   "metadata": {},
   "outputs": [],
   "source": [
    "def logsig(x):\n",
    "    return 1 / (1 + math.exp(-x))"
   ]
  },
  {
   "cell_type": "markdown",
   "metadata": {},
   "source": [
    "The full BSO algorithm"
   ]
  },
  {
   "cell_type": "code",
   "execution_count": 36,
   "metadata": {},
   "outputs": [],
   "source": [
    "def BSO(n_ideas, n_param, rng, max_iterate):\n",
    "    # Define initial parameters\n",
    "    ideas = np.random.uniform(-rng, rng, (n_ideas, n_param))\n",
    "    Km = KMeans(n_clusters=3, max_iter=100)\n",
    "    iterate = 0\n",
    "    k = 20\n",
    "    new_ideas = np.zeros([n_ideas, n_param])\n",
    "    \n",
    "    # Define the probabilities\n",
    "    p_one = 0.8\n",
    "    p_one_center = 0.4\n",
    "    p_two_center = 0.5\n",
    "    \n",
    "    # Main BSO Loop\n",
    "    while(iterate < max_iterate):\n",
    "        # Clusterize the ideas\n",
    "        cluster = Km.fit_predict(ideas)\n",
    "        cl1 = ideas[cluster == 0]\n",
    "        cl2 = ideas[cluster == 1]\n",
    "        cl3 = ideas[cluster == 2]\n",
    "        clusters = [cl1, cl2, cl3]\n",
    "        \n",
    "        # Generate n new ideas\n",
    "        for i in range(ideas.shape[0]):\n",
    "            # New idea based on one cluster\n",
    "            if np.random.random() < p_one:\n",
    "                cl_selected = random.choice(clusters)\n",
    "                cl_selected_center = cluster_center(cl_selected, cost)\n",
    "                \n",
    "                # Use the previous cluster center\n",
    "                if np.random.random() < p_one_center:\n",
    "                    new_ideas[i] = cl_selected_center\n",
    "                \n",
    "                # Use random idea in a cluster\n",
    "                else:\n",
    "                    new_ideas[i] = random.choice(cl_selected)\n",
    "            \n",
    "            # New idea based on two cluster\n",
    "            else:\n",
    "                cl_selected1, cl_selected2 = random.sample(clusters, 2)\n",
    "                cl_selected_center1 = cluster_center(cl_selected1, cost)\n",
    "                cl_selected_center2 = cluster_center(cl_selected2, cost)\n",
    "                rand = np.random.random()\n",
    "                \n",
    "                # Use the combination of two previous cluster centers\n",
    "                if np.random.random() < p_two_center:\n",
    "                    new_ideas[i] = rand*cl_selected_center1 + (1-rand)*cl_selected_center2\n",
    "                    \n",
    "                # Use two random ideas in a cluster\n",
    "                else:\n",
    "                    new_ideas[i] = rand*random.choice(cl_selected1) + (1-rand)*random.choice(cl_selected2)\n",
    "    \n",
    "            eps = logsig((0.5*max_iterate - iterate)/k)\n",
    "            upd_new_ideas = np.copy(new_ideas[i]) + eps*np.random.normal(0, 1)\n",
    "            \n",
    "            if(cost(upd_new_ideas) < cost(new_ideas[i])):\n",
    "                new_ideas[i] = upd_new_ideas\n",
    "        \n",
    "        ideas = new_ideas\n",
    "        iterate = iterate + 1\n",
    "    \n",
    "    # Reclusterize ideas\n",
    "    cluster = Km.fit_predict(ideas)\n",
    "    cl1 = ideas[cluster == 0]\n",
    "    cl2 = ideas[cluster == 1]\n",
    "    cl3 = ideas[cluster == 2]\n",
    "    clusters = np.array([cl1, cl2, cl3])\n",
    "    \n",
    "    # Choose the best cluster center for the output\n",
    "    for i in range(clusters.shape[0]):\n",
    "        cl1_center = cluster_center(cl1, cost)\n",
    "        cl2_center = cluster_center(cl2, cost)\n",
    "        cl3_center = cluster_center(cl3, cost)\n",
    "    \n",
    "    possible_ideas = np.array([cl1_center, cl2_center, cl3_center])\n",
    "    \n",
    "    return cluster_center(possible_ideas, cost)"
   ]
  },
  {
   "cell_type": "code",
   "execution_count": 40,
   "metadata": {},
   "outputs": [
    {
     "name": "stdout",
     "output_type": "stream",
     "text": [
      "[ 0.91348449 -0.18263813]\n",
      "0.0009436454733655905\n"
     ]
    }
   ],
   "source": [
    "idea = BSO(25, 2, 1.5, 70)\n",
    "print(idea)\n",
    "print(cost(idea))"
   ]
  },
  {
   "cell_type": "code",
   "execution_count": 41,
   "metadata": {},
   "outputs": [
    {
     "data": {
      "image/png": "[encoded data removed]",
      "text/plain": [
       "<Figure size 432x288 with 1 Axes>"
      ]
     },
     "metadata": {
      "needs_background": "light"
     },
     "output_type": "display_data"
    }
   ],
   "source": [
    "plt.scatter(v0, u0, color=\"gray\")\n",
    "plt.plot(v0, ev_func(idea))\n",
    "plt.show()"
   ]
  },
  {
   "cell_type": "code",
   "execution_count": null,
   "metadata": {},
   "outputs": [],
   "source": []
  }
 ],
 "metadata": {
  "kernelspec": {
   "display_name": "Python 3",
   "language": "python",
   "name": "python3"
  },
  "language_info": {
   "codemirror_mode": {
    "name": "ipython",
    "version": 3
   },
   "file_extension": ".py",
   "mimetype": "text/x-python",
   "name": "python",
   "nbconvert_exporter": "python",
   "pygments_lexer": "ipython3",
   "version": "3.7.7"
  }
 },
 "nbformat": 4,
 "nbformat_minor": 4
}
