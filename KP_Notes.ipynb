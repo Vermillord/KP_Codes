{
 "cells": [
  {
   "cell_type": "markdown",
   "metadata": {},
   "source": [
    "# Day 1"
   ]
  },
  {
   "cell_type": "markdown",
   "metadata": {},
   "source": [
    "## Numpy Vectorization\n",
    "\n",
    "Most operations are done element-wise i.e. using for loops such as"
   ]
  },
  {
   "cell_type": "code",
   "execution_count": 3,
   "metadata": {},
   "outputs": [
    {
     "data": {
      "text/plain": [
       "[5, 7, 9]"
      ]
     },
     "execution_count": 3,
     "metadata": {},
     "output_type": "execute_result"
    }
   ],
   "source": [
    "import numpy as np\n",
    "\n",
    "a = np.array([1, 2, 3])\n",
    "b = np.array([4, 5, 6])\n",
    "\n",
    "out = []\n",
    "\n",
    "for i in range(len(a)):\n",
    "    out.append(a[i] + b[i])\n",
    "out"
   ]
  },
  {
   "cell_type": "markdown",
   "metadata": {},
   "source": [
    "The sum product of array a and b are calculated by summing each 'element' of each array, hence the term element-wise. Whereas, a vectorized operation would operate every element in the array simultaneously."
   ]
  },
  {
   "cell_type": "code",
   "execution_count": 4,
   "metadata": {},
   "outputs": [
    {
     "data": {
      "text/plain": [
       "array([5, 7, 9])"
      ]
     },
     "execution_count": 4,
     "metadata": {},
     "output_type": "execute_result"
    }
   ],
   "source": [
    "a + b"
   ]
  },
  {
   "cell_type": "markdown",
   "metadata": {},
   "source": [
    "By using vectorization, more complex arrays or other datas can be operated more effieciently thanks to **The Broadcasting Rule**. The rule states that an array can be broadcasted to another array for each missing length the first array has, but the other length of the two arrays must have the same size. An example of this is"
   ]
  },
  {
   "cell_type": "code",
   "execution_count": 5,
   "metadata": {},
   "outputs": [
    {
     "data": {
      "text/plain": [
       "array([[4, 5, 6],\n",
       "       [5, 6, 7],\n",
       "       [6, 7, 8],\n",
       "       [7, 8, 9]])"
      ]
     },
     "execution_count": 5,
     "metadata": {},
     "output_type": "execute_result"
    }
   ],
   "source": [
    "A = np.array([[0, 0, 0],\n",
    "             [1, 1, 1],\n",
    "             [2, 2, 2],\n",
    "             [3, 3, 3]])\n",
    "\n",
    "A + b"
   ]
  },
  {
   "cell_type": "markdown",
   "metadata": {},
   "source": [
    "It can be seen that array b is broadcasted to each row of array A. A vectorized operation can also be done by using a boolean opearot that can result in a boolean array. An example of this is shown as"
   ]
  },
  {
   "cell_type": "code",
   "execution_count": 6,
   "metadata": {},
   "outputs": [
    {
     "data": {
      "text/plain": [
       "array([False,  True,  True])"
      ]
     },
     "execution_count": 6,
     "metadata": {},
     "output_type": "execute_result"
    }
   ],
   "source": [
    "a > 1"
   ]
  },
  {
   "cell_type": "code",
   "execution_count": 7,
   "metadata": {},
   "outputs": [
    {
     "data": {
      "text/plain": [
       "array([[False, False, False],\n",
       "       [False, False,  True],\n",
       "       [False,  True,  True],\n",
       "       [ True,  True,  True]])"
      ]
     },
     "execution_count": 7,
     "metadata": {},
     "output_type": "execute_result"
    }
   ],
   "source": [
    "A+b > 6"
   ]
  },
  {
   "cell_type": "markdown",
   "metadata": {},
   "source": [
    "Sometimes the data used needs to be standardized first. It can be done by using the equation\n",
    "\n",
    "$$\n",
    "x' = \\frac{x-\\bar{x}}{\\sigma}\n",
    "$$"
   ]
  },
  {
   "cell_type": "code",
   "execution_count": 8,
   "metadata": {},
   "outputs": [
    {
     "data": {
      "text/plain": [
       "array([-1.46385011, -0.87831007, -0.29277002,  0.29277002,  0.87831007,\n",
       "        1.46385011])"
      ]
     },
     "execution_count": 8,
     "metadata": {},
     "output_type": "execute_result"
    }
   ],
   "source": [
    "c = np.array([1, 2, 3, 4, 5, 6])\n",
    "\n",
    "(c - c.mean())/c.std()"
   ]
  },
  {
   "cell_type": "markdown",
   "metadata": {},
   "source": [
    "## Functions"
   ]
  },
  {
   "cell_type": "markdown",
   "metadata": {},
   "source": [
    "Functions can be made in python by using the 'def' command. For each functions made there must be corresponding arguments for the function to connect a value inserted and the operation done"
   ]
  },
  {
   "cell_type": "code",
   "execution_count": 9,
   "metadata": {},
   "outputs": [
    {
     "data": {
      "text/plain": [
       "['This', 'is', 'a', 'python', 'list']"
      ]
     },
     "execution_count": 9,
     "metadata": {},
     "output_type": "execute_result"
    }
   ],
   "source": [
    "def append_list(lst, lst_val):\n",
    "    for i in range(len(lst_val)):\n",
    "        lst.append(lst_val[i])\n",
    "    return lst\n",
    "\n",
    "lst = [\"This\", \"is\"]\n",
    "add_list = [\"a\", \"python\", \"list\"]\n",
    "\n",
    "\n",
    "append_list(lst, add_list)\n",
    "lst"
   ]
  },
  {
   "cell_type": "markdown",
   "metadata": {},
   "source": [
    "There are positional arguments that can be used for functions, which are args and kwargs. args are used for taking elements from lists and kwargs are used for taking elements from a dictionary. The difference between the two of these are the operator * and ** are used for taking elements from a list and dictionary, respectively."
   ]
  },
  {
   "cell_type": "markdown",
   "metadata": {},
   "source": [
    "## Decorators"
   ]
  },
  {
   "cell_type": "markdown",
   "metadata": {},
   "source": [
    "Decorators are used to add functionality to a function that is created in python. By using decorators, it won't the function that has been created. Take this decorator function as an example."
   ]
  },
  {
   "cell_type": "code",
   "execution_count": 10,
   "metadata": {},
   "outputs": [],
   "source": [
    "def decorator_func(func):\n",
    "    def wrapper_func():\n",
    "        print('This wrapper goes before the function below')\n",
    "        return func()\n",
    "    return wrapper_func"
   ]
  },
  {
   "cell_type": "markdown",
   "metadata": {},
   "source": [
    "Next, we create a function to use the decorator with."
   ]
  },
  {
   "cell_type": "code",
   "execution_count": 11,
   "metadata": {},
   "outputs": [
    {
     "name": "stdout",
     "output_type": "stream",
     "text": [
      "This is the function\n"
     ]
    }
   ],
   "source": [
    "def some_func():\n",
    "    print('This is the function')\n",
    "\n",
    "some_func()"
   ]
  },
  {
   "cell_type": "markdown",
   "metadata": {},
   "source": [
    "By adding the decorator before the function is used, the results will be."
   ]
  },
  {
   "cell_type": "code",
   "execution_count": 12,
   "metadata": {},
   "outputs": [
    {
     "name": "stdout",
     "output_type": "stream",
     "text": [
      "This wrapper goes before the function below\n",
      "This is the function with decorator\n"
     ]
    }
   ],
   "source": [
    "@decorator_func\n",
    "def deco_func():\n",
    "    print('This is the function with decorator')\n",
    "\n",
    "deco_func()"
   ]
  },
  {
   "cell_type": "markdown",
   "metadata": {},
   "source": [
    "It is shown here that the function that we created has another functionality that can be added through the wrapper function."
   ]
  },
  {
   "cell_type": "markdown",
   "metadata": {},
   "source": [
    "## Differential Equation Analysis"
   ]
  },
  {
   "cell_type": "markdown",
   "metadata": {},
   "source": [
    "### Euler Method"
   ]
  },
  {
   "cell_type": "markdown",
   "metadata": {},
   "source": [
    "Euler's method for differential equation analysis is to approximate the value ODEs by iterating the differential function to its initial value. Consider the following equation.\n",
    "\n",
    "$$\n",
    "\\frac{dx(t)}{dt} = f(x(t),t)\n",
    "$$\n",
    "\n",
    "Assume that the function has an initial value of $x$ = $x_0$. The euler method to find the value from the equation will be iterated with the function itself multiplied by a step size of h. The function of the approximation x* is\n",
    "\n",
    "$$\n",
    "x^*(t) = x_0 + h.f(x(t),t)\n",
    "$$\n",
    "\n",
    "The smaller the value of $h$ the more accurate it gets, but there needs to be a consideration in choosing a small $h$ because the calculation time will increase as the smaller h gets."
   ]
  },
  {
   "cell_type": "markdown",
   "metadata": {},
   "source": [
    "### Runge Kutta 4th Order"
   ]
  },
  {
   "cell_type": "markdown",
   "metadata": {},
   "source": [
    "Runge Kutta approximates the value of an ODE by iterating the initial value with four values which are $k_1$, $k_2$, $k_3$, $k_4$.\n",
    "\n",
    "$$k_1 = f(x^*(t_0), t_0) \\\\\n",
    "k_2 = f(x^*(t_0) + k_1\\frac{h}{2}, t_0 + \\frac{h}{2}) \\\\\n",
    "k_3 = f(x^*(t_0) + k_2\\frac{h}{2}, t_0 + \\frac{h}{2}) \\\\\n",
    "k_4 = f(x^*(t_0) + k_3h, t_0 + h)$$\n",
    "\n",
    "The estimation value of the ODE based on the four values of k is determined by the function below.\n",
    "\n",
    "$$\n",
    "x^*(t_0 + h) = x^*(t_0) + h.\\frac{k_1 + 2k_2 + 2k_3 + k_4}{6}\n",
    "$$\n",
    "\n",
    "The method works similarly to a weighted function shown by the value that are multiplied to each $k$. "
   ]
  },
  {
   "cell_type": "code",
   "execution_count": 13,
   "metadata": {},
   "outputs": [],
   "source": [
    "# Python class for both method\n",
    "class diff_eq:\n",
    "    def __init__ (self, t0, x0, target, step):\n",
    "        self.t0 = t0\n",
    "        self.x0 = x0\n",
    "        self.target = target\n",
    "        self.h = step\n",
    "        self.xval = 0\n",
    "        print(\"Values received\")\n",
    "        \n",
    "    # Euler Method\n",
    "    def euler(self, function):\n",
    "        # Initiate the value of x\n",
    "        self.xval = self.x0\n",
    "        \n",
    "        # Iterate until the value of t reaches the target t\n",
    "        while self.t0 < self.target:\n",
    "            self.xval = self.xval + self.h*function(self.t0, self.x0)\n",
    "            self.t0 = self.t0 + self.h\n",
    "        # Returns the value of x\n",
    "        return self.xval\n",
    "        \n",
    "    # Runge Kutta 4th Order Method\n",
    "    def rk4(self, function):\n",
    "        # Number of iterations based on step size\n",
    "        self.n = int((self.target - self.t0)/self.h)\n",
    "        # Initiate the value of x\n",
    "        self.xval = self.x0\n",
    "            \n",
    "        # Iterate until the value of t reaches the target t\n",
    "        for i in range(1, self.n+1):\n",
    "            # Runge Kutta formulas for each k\n",
    "            k1 = self.h * function(self.t0, self.xval) \n",
    "            k2 = self.h * function(self.t0+0.5*self.h, self.xval+0.5*k1) \n",
    "            k3 = self.h * function(self.t0+0.5*self.h, self.xval+0.5*k2) \n",
    "            k4 = self.h * function(self.t0+self.h, self.xval+k3)\n",
    "            \n",
    "            # Update values\n",
    "            self.xval = self.xval + 1.0*(k1 + 2 * k2 + 2 * k3 + k4)/6.0\n",
    "            self.t0 = self.t0 + self.h\n",
    "        return self.xval"
   ]
  },
  {
   "cell_type": "code",
   "execution_count": 14,
   "metadata": {},
   "outputs": [
    {
     "name": "stdout",
     "output_type": "stream",
     "text": [
      "Values received\n",
      "The value by using euler method: 0.9999999999999999\n",
      "Values received\n",
      "The value by using runge kutta method: 1.1036393232374955\n"
     ]
    }
   ],
   "source": [
    "def dxdy(t, x):\n",
    "    return ((t - x)/2)\n",
    "\n",
    "# Euler method test\n",
    "euval = diff_eq(0, 1, 2, 0.2)\n",
    "print(\"The value by using euler method: \" + str(euval.euler(dxdy)))\n",
    "\n",
    "# Runge kutta method test\n",
    "rkval = diff_eq(0, 1, 2, 0.2)\n",
    "print(\"The value by using runge kutta method: \" + str(rkval.rk4(dxdy)))"
   ]
  },
  {
   "cell_type": "markdown",
   "metadata": {},
   "source": [
    "# Day 2"
   ]
  },
  {
   "cell_type": "markdown",
   "metadata": {},
   "source": [
    "## Truncation Error"
   ]
  },
  {
   "cell_type": "markdown",
   "metadata": {},
   "source": [
    "Assume that there exists an equation of x which is stated as\n",
    "\n",
    "$$\n",
    "x' = \\frac{dx}{dt} = f(x,t)\n",
    "$$\n",
    "\n",
    "When using the euler method for calculating the approximation value of x, there will be an error generated because of the approximation. The error generated is called as the **Truncation Error**. For the equation above, the truncation error by using the euler method for approximation for each step of iteration is stated as\n",
    "\n",
    "$$\n",
    "O(h^2) = \\frac{h^2}{2}x''(\\tilde{t_i})\n",
    "$$\n",
    "\n",
    "Where the value of x'' is the second order derivation of x by t, or in other form it is stated as\n",
    "\n",
    "$$\n",
    "x''(t_i) = f_t(t,x(t)) + f_x(t,x(t))f(t,x(t))\n",
    "$$\n",
    "\n",
    "$f_t$ and $f_x$ are both the partial derivation of the equation by t and x respectively. The value of $\\tilde{t_i}$ is the number between $x_i$ and $x_{i+1}$, hence\n",
    "\n",
    "$$\n",
    "\\tilde{x_i} = \\frac{x_{i+1}-x_i}{2}\n",
    "$$\n",
    "\n",
    "Seeing that $x'$ is equal to $f(x,t)$, hence the formula of $O(h^2)$ can also be written as\n",
    "\n",
    "$$\n",
    "O(h^2) = \\frac{h^2}{2}f'(x_i,t_i)\n",
    "$$"
   ]
  },
  {
   "cell_type": "markdown",
   "metadata": {},
   "source": [
    "The truncation error of the euler method is defined by $O(h^2)$. Whereas for a higher order the truncation error, say an order of $n$, it would change the truncation error equation to $O(h^{n+1})$. The formula of $O(h^n)$ is stated as\n",
    "\n",
    "$$\n",
    "O(h^n) = \\frac{h^n}{n!}f^{(n-1)}(x_i,t_i)\n",
    "$$\n",
    "\n",
    "Referring back to the RK4 method, based on its name, we can determine that it would have a truncation error of $n+1$ based on its order. Hence, the truncation error of the RK4 method would be $O(h^5)$."
   ]
  },
  {
   "cell_type": "markdown",
   "metadata": {},
   "source": [
    "## Numba Test"
   ]
  },
  {
   "cell_type": "code",
   "execution_count": 15,
   "metadata": {},
   "outputs": [
    {
     "data": {
      "text/plain": [
       "1.125"
      ]
     },
     "execution_count": 15,
     "metadata": {},
     "output_type": "execute_result"
    }
   ],
   "source": [
    "import numpy as np\n",
    "from numba import njit, jit\n",
    "\n",
    "# Euler Method\n",
    "def euler(t0, x0, target, h, function):\n",
    "    # Initiate the value of x\n",
    "    xval = x0\n",
    "    \n",
    "    # Iterate until the value of t reaches the target t\n",
    "    while t0 < target:\n",
    "        xval = xval + h*function(t0, x0)\n",
    "        t0 = t0 + h\n",
    "    # Returns the value of x\n",
    "    return xval\n",
    "\n",
    "@njit\n",
    "def eu_dec(t0, x0, target, h, function):\n",
    "    # Initiate the value of y\n",
    "    xval = x0\n",
    "        \n",
    "    # Iterate until the value of x reaches the target x\n",
    "    while t0 < target:\n",
    "        xval = xval + h*function(t0, x0)\n",
    "        t0 = t0 + h\n",
    "    # Returns the value of y\n",
    "    return xval\n",
    "\n",
    "@njit\n",
    "def func(t, x):\n",
    "    return((t-x)/2)\n",
    "\n",
    "# First compile with random inputs\n",
    "eu_dec(1, 1, 2, 0.5, func)"
   ]
  },
  {
   "cell_type": "code",
   "execution_count": 16,
   "metadata": {},
   "outputs": [
    {
     "name": "stdout",
     "output_type": "stream",
     "text": [
      "42.1 µs ± 2.87 µs per loop (mean ± std. dev. of 7 runs, 10000 loops each)\n"
     ]
    }
   ],
   "source": [
    "%timeit euler(0, 1, 7, 0.05, func)"
   ]
  },
  {
   "cell_type": "code",
   "execution_count": 17,
   "metadata": {},
   "outputs": [
    {
     "name": "stdout",
     "output_type": "stream",
     "text": [
      "10.6 µs ± 509 ns per loop (mean ± std. dev. of 7 runs, 100000 loops each)\n"
     ]
    }
   ],
   "source": [
    "%timeit eu_dec(0, 1, 7, 0.05, func)"
   ]
  },
  {
   "cell_type": "markdown",
   "metadata": {},
   "source": [
    "# Day 3"
   ]
  },
  {
   "cell_type": "markdown",
   "metadata": {},
   "source": [
    "## Transfer Function"
   ]
  },
  {
   "cell_type": "markdown",
   "metadata": {},
   "source": [
    "Consider the following transfer function.\n",
    "\n",
    "$$\n",
    "\\displaystyle{G(s) = \\frac{1}{s^3+3s^2+2s+1}}\n",
    "$$\n",
    "\n",
    "By using the control library, the transfer function will now be simulated to check the step response."
   ]
  },
  {
   "cell_type": "code",
   "execution_count": 18,
   "metadata": {},
   "outputs": [],
   "source": [
    "import numpy as np\n",
    "import matplotlib.pyplot as plt\n",
    "import scipy as sc\n",
    "import control as co\n",
    "from numba import njit, jit, prange\n",
    "%matplotlib inline"
   ]
  },
  {
   "cell_type": "code",
   "execution_count": 19,
   "metadata": {},
   "outputs": [
    {
     "data": {
      "image/png": "[encoded data removed]",
      "text/plain": [
       "<Figure size 432x288 with 1 Axes>"
      ]
     },
     "metadata": {
      "needs_background": "light"
     },
     "output_type": "display_data"
    }
   ],
   "source": [
    "# Create the transfer function\n",
    "sys = co.tf([1],[1, 3, 2, 1])\n",
    "\n",
    "# Define the time interval 0.01 s time step\n",
    "t = np.arange(int(30/0.01))*0.01\n",
    "\n",
    "# Plot the step response of the system\n",
    "T, yout = co.step_response(sys, t)\n",
    "plt.title(\"Step response of G(s)\")\n",
    "plt.plot(T, yout)\n",
    "plt.show()"
   ]
  },
  {
   "cell_type": "markdown",
   "metadata": {},
   "source": [
    "## Dynamics"
   ]
  },
  {
   "cell_type": "markdown",
   "metadata": {},
   "source": [
    "Next, the dynamics of the system will be simulated by creating a function based on the state space equation of G(s). Consider that the state space equation of the system is written as\n",
    "$$\n",
    "\\dot{\\mathbf{x}} = \\mathbf{A}\\mathbf{x} + \\mathbf{B}\\mathbf{u}\n",
    "$$\n",
    "$$\n",
    "\\mathbf{y} = \\mathbf{C}\\mathbf{x} + \\mathbf{D}\\mathbf{u}\n",
    "$$"
   ]
  },
  {
   "cell_type": "code",
   "execution_count": 20,
   "metadata": {},
   "outputs": [
    {
     "data": {
      "text/plain": [
       "A = [[-3. -2. -1.]\n",
       " [ 1.  0.  0.]\n",
       " [ 0.  1.  0.]]\n",
       "\n",
       "B = [[1.]\n",
       " [0.]\n",
       " [0.]]\n",
       "\n",
       "C = [[0. 0. 1.]]\n",
       "\n",
       "D = [[0.]]"
      ]
     },
     "execution_count": 20,
     "metadata": {},
     "output_type": "execute_result"
    }
   ],
   "source": [
    "# Change from s-domain to state space\n",
    "sys_ss = co.tf2ss(sys)\n",
    "sys_ss"
   ]
  },
  {
   "cell_type": "markdown",
   "metadata": {},
   "source": [
    "Based on the values of A, B, C, and D, the dynamics of the system can now be determined."
   ]
  },
  {
   "cell_type": "code",
   "execution_count": 21,
   "metadata": {},
   "outputs": [],
   "source": [
    "A = np.array(sys_ss.A)\n",
    "B = np.array(sys_ss.B)\n",
    "C = np.array(sys_ss.C)\n",
    "D = np.array(sys_ss.D)\n",
    "\n",
    "def dynamics(x, u):\n",
    "    # Apply the state space equation for x dot\n",
    "    x_dot = np.ravel(np.dot(A, x))+ np.ravel(np.dot(B, u))\n",
    "    \n",
    "    return x_dot\n",
    "\n",
    "# Create a jitted function of the original dynamics function\n",
    "dynamics_jitted = njit(dynamics)"
   ]
  },
  {
   "cell_type": "code",
   "execution_count": 22,
   "metadata": {},
   "outputs": [],
   "source": [
    "# Compile the jitted function\n",
    "# Use float to ensure the function will accept float as inputs\n",
    "_ = dynamics_jitted(np.arange(3)*1.0, np.array([2.0]))"
   ]
  },
  {
   "cell_type": "code",
   "execution_count": 23,
   "metadata": {},
   "outputs": [
    {
     "name": "stdout",
     "output_type": "stream",
     "text": [
      "10.2 µs ± 291 ns per loop (mean ± std. dev. of 7 runs, 100000 loops each)\n",
      "5.18 µs ± 186 ns per loop (mean ± std. dev. of 7 runs, 100000 loops each)\n"
     ]
    }
   ],
   "source": [
    "# Time test for both method\n",
    "%timeit dynamics(np.arange(3)*1.0, np.array([3.0]))\n",
    "%timeit dynamics_jitted(np.arange(3)*1.0, np.array([3.0]))"
   ]
  },
  {
   "cell_type": "markdown",
   "metadata": {},
   "source": [
    "## Euler Method"
   ]
  },
  {
   "cell_type": "markdown",
   "metadata": {},
   "source": [
    "Based on the dynamics function, now the value of $\\dot{x}$ can be approximated by using the euler method."
   ]
  },
  {
   "cell_type": "code",
   "execution_count": 24,
   "metadata": {},
   "outputs": [
    {
     "name": "stdout",
     "output_type": "stream",
     "text": [
      "(10, 3)\n",
      "(10, 1)\n"
     ]
    }
   ],
   "source": [
    "def sim_euler(t, u, x0):\n",
    "    # Initialize the output\n",
    "    x = np.empty((t.shape[0], x0.shape[0]))\n",
    "    y = np.empty((t.shape[0], C.shape[0]))\n",
    "    \n",
    "    x[0] = np.ravel(x0)\n",
    "    y[0] = np.ravel(np.dot(C, x[0])) + np.ravel(np.dot(D, u[0]))\n",
    "    \n",
    "    for i in range(t.shape[0] - 1):\n",
    "        x[i+1] = x[i] + (t[i+1]-t[i])*dynamics(x[i], u[i])\n",
    "        y[i+1] = np.ravel(np.dot(C, x[i+1])) + np.ravel(np.dot(D, u[i]))\n",
    "\n",
    "    return x, y\n",
    "\n",
    "# Test the output of the function\n",
    "a = 1.0*np.arange(10)\n",
    "b = 2.0*np.ones((10,1))\n",
    "c = 0.0*np.zeros((3,1))\n",
    "out1, out2 = sim_euler(a, b, c)\n",
    "print(out1.shape)\n",
    "print(out2.shape)"
   ]
  },
  {
   "cell_type": "code",
   "execution_count": 25,
   "metadata": {},
   "outputs": [],
   "source": [
    "# Create a jitted function based on the euler method function\n",
    "@njit\n",
    "def sim_euler_jitted(t, u, x0):\n",
    "    # Don't forget to initialize the output\n",
    "    x = np.empty((t.shape[0], x0.shape[0]))\n",
    "    y = np.empty((t.shape[0], C.shape[0]))\n",
    "\n",
    "    x[0] = np.ravel(x0)\n",
    "    y[0] = np.ravel(np.dot(C, x[0])) + np.ravel(np.dot(D, u[0]))\n",
    "\n",
    "    for i in range(t.shape[0] - 1):\n",
    "        x[i+1] = x[i] + (t[i+1]-t[i])*dynamics_jitted(x[i], u[i])\n",
    "        y[i+1] = np.ravel(np.dot(C, x[i+1])) + np.ravel(np.dot(D, u[i]))\n",
    "\n",
    "    return x, y\n",
    "\n",
    "# Compile the jitted function and use float as inputs\n",
    "_ = sim_euler_jitted(a, b, c)"
   ]
  },
  {
   "cell_type": "code",
   "execution_count": 26,
   "metadata": {},
   "outputs": [
    {
     "name": "stdout",
     "output_type": "stream",
     "text": [
      "53.2 ms ± 1.51 ms per loop (mean ± std. dev. of 7 runs, 10 loops each)\n",
      "4.77 ms ± 210 µs per loop (mean ± std. dev. of 7 runs, 100 loops each)\n"
     ]
    }
   ],
   "source": [
    "# Time test for both methods\n",
    "t = np.arange(int(30/0.01))*0.01 # 30 seconds with 0.01 s time-step\n",
    "u = np.ones((t.shape[0], 1)) # Step Input\n",
    "x0 = np.zeros((3, 1))\n",
    "\n",
    "%timeit _ = sim_euler(t, u, x0)\n",
    "%timeit _ = sim_euler_jitted(t, u, x0)"
   ]
  },
  {
   "cell_type": "code",
   "execution_count": 27,
   "metadata": {},
   "outputs": [],
   "source": [
    "_, result_euler = sim_euler(t, u, x0)\n",
    "_, result_euler_jitted = sim_euler_jitted(t, u, x0)"
   ]
  },
  {
   "cell_type": "code",
   "execution_count": 28,
   "metadata": {},
   "outputs": [
    {
     "data": {
      "image/png": "[encoded data removed]",
      "text/plain": [
       "<Figure size 432x288 with 1 Axes>"
      ]
     },
     "metadata": {
      "needs_background": "light"
     },
     "output_type": "display_data"
    }
   ],
   "source": [
    "plt.plot(t, result_euler)\n",
    "plt.title(\"Euler Method\")\n",
    "plt.show()"
   ]
  },
  {
   "cell_type": "code",
   "execution_count": 29,
   "metadata": {},
   "outputs": [
    {
     "data": {
      "image/png": "[encoded data removed]",
      "text/plain": [
       "<Figure size 432x288 with 1 Axes>"
      ]
     },
     "metadata": {
      "needs_background": "light"
     },
     "output_type": "display_data"
    }
   ],
   "source": [
    "plt.plot(t, result_euler_jitted)\n",
    "plt.title(\"Jitted Euler Method\")\n",
    "plt.show()"
   ]
  },
  {
   "cell_type": "markdown",
   "metadata": {},
   "source": [
    "## Runge Kutta 4th Order Method"
   ]
  },
  {
   "cell_type": "markdown",
   "metadata": {},
   "source": [
    "To approximate using the runge kutta method first the function will be defined below."
   ]
  },
  {
   "cell_type": "code",
   "execution_count": 30,
   "metadata": {},
   "outputs": [
    {
     "name": "stdout",
     "output_type": "stream",
     "text": [
      "(10, 3)\n",
      "(10, 1)\n"
     ]
    }
   ],
   "source": [
    "def sim_rk4(t, u, x0):\n",
    "    # Initialize the output\n",
    "    x = np.empty((t.shape[0], x0.shape[0]))\n",
    "    y = np.empty((t.shape[0], C.shape[0]))\n",
    "    \n",
    "    x[0] = np.ravel(x0)\n",
    "    y[0] = np.ravel(np.dot(C, x[0])) + np.ravel(np.dot(D, u[0]))\n",
    "    \n",
    "    for i in range(t.shape[0] - 1):\n",
    "        h = t[i+1]-t[i]\n",
    "        k1 = h*dynamics(x[i], u[i])\n",
    "        k2 = h*dynamics(x[i]+k1*h/2, u[i])\n",
    "        k3 = h*dynamics(x[i]+k2*h/2, u[i])\n",
    "        k4 = h*dynamics(x[i]+k3*h, u[i])\n",
    "        \n",
    "        x[i+1] = x[i] + 1.0*(k1 + 2*k2 + 2*k3 + k4)/6.0\n",
    "        y[i+1] = np.ravel(np.dot(C, x[i+1])) + np.ravel(np.dot(D, u[i]))\n",
    "\n",
    "    return x, y\n",
    "\n",
    "# Test the output of the function\n",
    "a = 1.0*np.arange(10)\n",
    "b = 2.0*np.ones((10,1))\n",
    "c = 0.0*np.zeros((3,1))\n",
    "out1, out2 = sim_rk4(a, b, c)\n",
    "print(out1.shape)\n",
    "print(out2.shape)"
   ]
  },
  {
   "cell_type": "code",
   "execution_count": 31,
   "metadata": {},
   "outputs": [],
   "source": [
    "@njit\n",
    "def sim_rk4_jitted(t, u, x0):\n",
    "    # Initialize the output\n",
    "    x = np.empty((t.shape[0], x0.shape[0]))\n",
    "    y = np.empty((t.shape[0], C.shape[0]))\n",
    "    \n",
    "    x[0] = np.ravel(x0)\n",
    "    y[0] = np.ravel(np.dot(C, x[0])) + np.ravel(np.dot(D, u[0]))\n",
    "    \n",
    "    for i in range(t.shape[0] - 1):\n",
    "        h = t[i+1]-t[i]\n",
    "        k1 = h*dynamics_jitted(x[i], u[i])\n",
    "        k2 = h*dynamics_jitted(x[i]+k1*h/2, u[i])\n",
    "        k3 = h*dynamics_jitted(x[i]+k2*h/2, u[i])\n",
    "        k4 = h*dynamics_jitted(x[i]+k3*h, u[i])\n",
    "        \n",
    "        x[i+1] = x[i] + 1.0*(k1 + 2*k2 + 2*k3 + k4)/6.0\n",
    "        y[i+1] = np.ravel(np.dot(C, x[i+1])) + np.ravel(np.dot(D, u[i]))\n",
    "\n",
    "    return x, y"
   ]
  },
  {
   "cell_type": "code",
   "execution_count": 32,
   "metadata": {},
   "outputs": [
    {
     "name": "stdout",
     "output_type": "stream",
     "text": [
      "196 ms ± 24 ms per loop (mean ± std. dev. of 7 runs, 1 loop each)\n",
      "12.8 ms ± 211 µs per loop (mean ± std. dev. of 7 runs, 1 loop each)\n"
     ]
    }
   ],
   "source": [
    "# Time test for both methods\n",
    "t = np.arange(int(30/0.01))*0.01 # 30 seconds with 0.01 s time-step\n",
    "u = np.ones((t.shape[0], 1)) # Step Input\n",
    "x0 = np.zeros((3, 1))\n",
    "\n",
    "%timeit _ = sim_rk4(t, u, x0)\n",
    "%timeit _ = sim_rk4_jitted(t, u, x0)"
   ]
  },
  {
   "cell_type": "code",
   "execution_count": 33,
   "metadata": {},
   "outputs": [
    {
     "name": "stdout",
     "output_type": "stream",
     "text": [
      "58.7 ms ± 6.27 ms per loop (mean ± std. dev. of 7 runs, 10 loops each)\n",
      "4.71 ms ± 156 µs per loop (mean ± std. dev. of 7 runs, 100 loops each)\n"
     ]
    }
   ],
   "source": [
    "%timeit _ = sim_euler(t, u, x0)\n",
    "%timeit _ = sim_euler_jitted(t, u, x0)"
   ]
  },
  {
   "cell_type": "markdown",
   "metadata": {},
   "source": [
    "It can be seen here that the RK4 method has a bit of disadvantage on the total running time, but the overall time difference between using a jitted function and the original function, the RK4 method is more efficient than the euler method."
   ]
  },
  {
   "cell_type": "code",
   "execution_count": 34,
   "metadata": {},
   "outputs": [],
   "source": [
    "_, result_rk4 = sim_euler(t, u, x0)\n",
    "_, result_rk4_jitted = sim_euler_jitted(t, u, x0)"
   ]
  },
  {
   "cell_type": "code",
   "execution_count": 35,
   "metadata": {},
   "outputs": [
    {
     "data": {
      "image/png": "[encoded data removed]",
      "text/plain": [
       "<Figure size 432x288 with 1 Axes>"
      ]
     },
     "metadata": {
      "needs_background": "light"
     },
     "output_type": "display_data"
    }
   ],
   "source": [
    "plt.plot(t, result_rk4)\n",
    "plt.title(\"RK4 Method\")\n",
    "plt.show()"
   ]
  },
  {
   "cell_type": "code",
   "execution_count": 36,
   "metadata": {},
   "outputs": [
    {
     "data": {
      "image/png": "[encoded data removed]",
      "text/plain": [
       "<Figure size 432x288 with 1 Axes>"
      ]
     },
     "metadata": {
      "needs_background": "light"
     },
     "output_type": "display_data"
    }
   ],
   "source": [
    "plt.plot(t, result_rk4_jitted)\n",
    "plt.title(\"Jitted RK4 Method\")\n",
    "plt.show()"
   ]
  },
  {
   "cell_type": "markdown",
   "metadata": {},
   "source": [
    "# Day 4"
   ]
  },
  {
   "cell_type": "markdown",
   "metadata": {},
   "source": [
    "## Multi-Sim Euler Method"
   ]
  },
  {
   "cell_type": "markdown",
   "metadata": {},
   "source": [
    "By creating a new function, the euler method can be done multiple times to simulate a change of input size. The function that will be used to iterate the euler method for a number of times is defined below. Another addition to the function is that the 'for' uses prange as a parameter to ensure that the jitted function can be run parallelly. By setting the jitted function to parallel, each iteration in the 'for' range will be run parallel to each other."
   ]
  },
  {
   "cell_type": "code",
   "execution_count": 37,
   "metadata": {},
   "outputs": [
    {
     "name": "stdout",
     "output_type": "stream",
     "text": [
      "(10, 3000)\n",
      "(10, 3, 1)\n",
      "(10, 3000, 1)\n"
     ]
    }
   ],
   "source": [
    "def multi_sim_euler(t, u, x0):\n",
    "    # Define the output with one extra dimension as the iteration of multiple simulation\n",
    "    x = np.empty((t.shape[0], t.shape[1], x0.shape[1]))\n",
    "    y = np.empty((t.shape[0], t.shape[1], 1))\n",
    "    \n",
    "    for i in prange(t.shape[0]):\n",
    "        x[i], y[i] = sim_euler_jitted(t[i], u[i], x0[i])\n",
    "        \n",
    "    return x, y\n",
    "\n",
    "# Define a random input for compiling\n",
    "t = np.tile(np.arange(int(30/0.01))*0.01,(10, 1))\n",
    "print(t.shape)\n",
    "x0 = np.tile(np.zeros((1, 1)), (10, 3, 1))\n",
    "print(x0.shape)\n",
    "u = np.tile(np.ones((t.shape[1], 1)),(10, 1, 1)) # Step Input\n",
    "print(u.shape)\n",
    "\n",
    "multi_sim_euler_jitted = njit(multi_sim_euler)\n",
    "multi_sim_euler_jitted_parallelized = njit(multi_sim_euler, parallel = True)\n",
    "\n",
    "_ = multi_sim_euler_jitted(t, u, x0) \n",
    "_ = multi_sim_euler_jitted_parallelized(t, u, x0) "
   ]
  },
  {
   "cell_type": "code",
   "execution_count": 38,
   "metadata": {},
   "outputs": [
    {
     "name": "stdout",
     "output_type": "stream",
     "text": [
      "(10, 30000)\n",
      "(10, 3, 1)\n",
      "(10, 30000, 1)\n",
      "472 ms ± 5.57 ms per loop (mean ± std. dev. of 7 runs, 1 loop each)\n",
      "329 ms ± 18.5 ms per loop (mean ± std. dev. of 7 runs, 1 loop each)\n"
     ]
    }
   ],
   "source": [
    "t = np.tile(np.arange(int(300/0.01))*0.01,(10, 1))\n",
    "print(t.shape)\n",
    "x0 = np.tile(np.zeros((1, 1)), (10, 3, 1))\n",
    "print(x0.shape)\n",
    "u = np.tile(np.ones((t.shape[1], 1)),(10, 1, 1)) # Step Input\n",
    "print(u.shape)\n",
    "\n",
    "# Create a step input u with values that ranges from 1 to 10\n",
    "for i in range(u.shape[0]):\n",
    "    u[i] = u[i]*i+1\n",
    "\n",
    "%timeit multi_sim_euler_jitted(t, u, x0)\n",
    "%timeit multi_sim_euler_jitted_parallelized(t, u, x0)"
   ]
  },
  {
   "cell_type": "code",
   "execution_count": 39,
   "metadata": {},
   "outputs": [],
   "source": [
    "x, y = multi_sim_euler_jitted_parallelized(t, u, x0) "
   ]
  },
  {
   "cell_type": "markdown",
   "metadata": {},
   "source": [
    "After obtaining the data by using the multi sim euler function, next the data will be plotted on one chart for comparison"
   ]
  },
  {
   "cell_type": "code",
   "execution_count": 40,
   "metadata": {},
   "outputs": [
    {
     "data": {
      "image/png": "[encoded data removed]",
      "text/plain": [
       "<Figure size 432x288 with 1 Axes>"
      ]
     },
     "metadata": {
      "needs_background": "light"
     },
     "output_type": "display_data"
    }
   ],
   "source": [
    "label = [\"1.0\", \"2.0\", \"3.0\", \"4.0\", \"5.0\", \"6.0\",\n",
    "        \"7.0\", \"8.0\", \"9.0\", \"10.0\"]\n",
    "\n",
    "plt.figure()\n",
    "plt.title(\"Multi-Sim Euler\")\n",
    "for i in range(t.shape[0]):\n",
    "    plt.plot(t[i], y[i], label = str(\"u = \") + label[i])\n",
    "plt.legend(loc='center left', bbox_to_anchor=(1, 0.5))\n",
    "plt.show()"
   ]
  },
  {
   "cell_type": "markdown",
   "metadata": {},
   "source": [
    "# Day 5"
   ]
  },
  {
   "cell_type": "code",
   "execution_count": 41,
   "metadata": {},
   "outputs": [
    {
     "data": {
      "image/png": "[encoded data removed]",
      "text/plain": [
       "<Figure size 432x288 with 1 Axes>"
      ]
     },
     "metadata": {
      "needs_background": "light"
     },
     "output_type": "display_data"
    }
   ],
   "source": [
    "plt.title('Output to Input Comparison')\n",
    "plt.plot(u[:,-1,0], y[:,-1,0])\n",
    "plt.xlabel('Input')\n",
    "plt.ylabel('Output')\n",
    "plt.show()"
   ]
  },
  {
   "cell_type": "markdown",
   "metadata": {},
   "source": [
    "Based on the plot above, the last data from the output array is plotted in comparison to the input size. It can be seen that when the input is increased linearly so does the output."
   ]
  },
  {
   "cell_type": "markdown",
   "metadata": {},
   "source": [
    "# Day 6"
   ]
  },
  {
   "cell_type": "markdown",
   "metadata": {},
   "source": [
    "## Particle Swarm Optimization"
   ]
  },
  {
   "cell_type": "markdown",
   "metadata": {},
   "source": [
    "To understand Particle Swarm Optimization (PSO), we must first understand about gradient optimization. Every function has a global minima and we can find the value of it by using a gradient descent, but when there's a local minima that are located randomly around the global minima, gradient descent would fail at obtaining the global minima. To ensure that there would be no failure in identifying the global minima, we need to create a gradient-free optimizer. Gradient-Free Optimization uses methods that mimic certain mechanisms in nature, one of which is swarming. The implementation of optimization using a swarming method is called as the PSO. PSO doesn't use gradient descent and it can solve both linear and non-linear problems. PSO uses particles as a source of information, precisely their position and velocity. Both information are used for updating the value that is searched. The formulation for the position update is"
   ]
  },
  {
   "cell_type": "markdown",
   "metadata": {},
   "source": [
    "$$\n",
    "x^{i}_{k+1} = x^{i}_{k} + v^{i}_{k+1}\\Delta t\n",
    "$$"
   ]
  },
  {
   "cell_type": "markdown",
   "metadata": {},
   "source": [
    "Whereas for the velocity the formulation for updating its value is"
   ]
  },
  {
   "cell_type": "markdown",
   "metadata": {},
   "source": [
    "$$\n",
    "v^{i}_{k+1} = wv^{i}_{k} + c_{1}r_{1}\\frac{p^{i}_{k} - x^{i}_{k}}{\\Delta t} + c_{2}r_{2}\\frac{p^{g}_{k} - x^{i}_{k}}{\\Delta t}\n",
    "$$"
   ]
  },
  {
   "cell_type": "markdown",
   "metadata": {},
   "source": [
    "* $r_1$ and $r_2$ are both random number between [0,1]\n",
    "* $p^{i}_{k}$ is the particle's best position at interval $k$ and $p^{g}_{k}$ is the swarm's best position at interval $k$\n",
    "* $c_1$ is the confidence for the particle and $c_2$ is the confidence for the swarm\n",
    "* $w$ is the inertia"
   ]
  },
  {
   "cell_type": "markdown",
   "metadata": {},
   "source": [
    "Another fact that we can observe through the equation is by subtituting the velocity update function to the position update function. By doing so, we can obtain "
   ]
  },
  {
   "cell_type": "markdown",
   "metadata": {},
   "source": [
    "$$\n",
    "x^{i}_{k+1} = x^{i}_{k} + wv^{i}_{k}\\Delta t + c_{1}r_{1}(p^{i}_{k} - x^{i}_{k}) + c_{2}r_{2}(p^{g}_{k} - x^{i}_{k})\n",
    "$$"
   ]
  },
  {
   "cell_type": "markdown",
   "metadata": {},
   "source": [
    "$$\n",
    "x^{i}_{k+1} = x^{i}_{k} + wv^{i}_{k}\\Delta t + (c_{1}r_{1} + c_{2}r_{2}) \\left(\\frac{c_{1}r_{1}p^{i}_{k} + c_{2}r_{2}p^{g}_{k}}{c_{1}r_{1} + c_{2}r_{2}} - x^{i}_{k}\\right)\n",
    "$$"
   ]
  },
  {
   "cell_type": "markdown",
   "metadata": {},
   "source": [
    "Comparing the equation above with the line-search function which is defined as\n",
    "\n",
    "$$\n",
    "x_{k+1} = x_{k} + \\alpha_{k}p_{k}\n",
    "$$\n",
    "\n",
    "We can see that the three different parts of the equation represents a part of the line-search function\n",
    "\n",
    "* $x^{i}_{k} + wv^{i}_{k}\\Delta t$ equals to $x_{k+1}$\n",
    "\n",
    "* $(c_{1}r_{1} + c_{2}r_{2})$ equals to $\\alpha_{k}$\n",
    "\n",
    "* $\\left(\\frac{c_{1}r_{1}p^{i}_{k} + c_{2}r_{2}p^{g}_{k}}{c_{1}r_{1} + c_{2}r_{2}} - x^{i}_{k}\\right)$ equals to $p_{k}$"
   ]
  },
  {
   "cell_type": "markdown",
   "metadata": {},
   "source": [
    "Hence, we can say that each particle searches the value based on a line-search with a stochastic step size ($r_1$ and $r_2$ are random numbers) and search direction (again there are $r_1$ and $r_2$ components)."
   ]
  },
  {
   "cell_type": "markdown",
   "metadata": {},
   "source": [
    "# Day 7 - 8"
   ]
  },
  {
   "cell_type": "markdown",
   "metadata": {},
   "source": [
    "## Case Study"
   ]
  },
  {
   "cell_type": "code",
   "execution_count": 3,
   "metadata": {},
   "outputs": [],
   "source": [
    "import numpy as np\n",
    "import matplotlib.pyplot as plt\n",
    "import scipy as sc\n",
    "import pandas as pd\n",
    "import random\n",
    "import math\n",
    "from numba import njit, jit, prange\n",
    "%matplotlib inline"
   ]
  },
  {
   "cell_type": "code",
   "execution_count": 4,
   "metadata": {},
   "outputs": [
    {
     "data": {
      "image/png": "[encoded data removed]",
      "text/plain": [
       "<Figure size 432x288 with 1 Axes>"
      ]
     },
     "metadata": {
      "needs_background": "light"
     },
     "output_type": "display_data"
    }
   ],
   "source": [
    "df = pd.read_csv('D:\\ITB\\FT\\KP\\steady_state_velocity.csv')\n",
    "v0 = np.array(df.speed[1:])\n",
    "u0 = np.array(df.throttle[1:])\n",
    "\n",
    "plt.title('Steady State Velocity')\n",
    "plt.xlabel('Speed')\n",
    "plt.ylabel('Throttle')\n",
    "plt.scatter(v0, u0)\n",
    "plt.show()"
   ]
  },
  {
   "cell_type": "markdown",
   "metadata": {},
   "source": [
    "Based on the graph above, the PSO algorithm will use a cost function based on the equation below\n",
    "\n",
    "$$\n",
    "\\hat{u}_{s} = \\beta_{1}(1-e^{-\\beta_{2}v_{s}})\n",
    "$$"
   ]
  },
  {
   "cell_type": "code",
   "execution_count": 73,
   "metadata": {},
   "outputs": [],
   "source": [
    "def ev_func(beta):\n",
    "    u = beta[0]*(1.0 - np.exp(-beta[1]*v0))\n",
    "    return u"
   ]
  },
  {
   "cell_type": "code",
   "execution_count": 74,
   "metadata": {},
   "outputs": [],
   "source": [
    "def cost(c_func, beta):\n",
    "    err = u0 - c_func(beta)\n",
    "    return np.mean(err**2)"
   ]
  },
  {
   "cell_type": "code",
   "execution_count": 97,
   "metadata": {},
   "outputs": [],
   "source": [
    "def PSO(func, n_param, particles, rng, iterate_max):\n",
    "    # Define the constants\n",
    "    w = 0.5\n",
    "    c1 = 0.8\n",
    "    c2 = 0.7\n",
    "    iterate = 0\n",
    "    \n",
    "    # Setup the initial conditions for position and velocity arrays\n",
    "    ppos_vector = np.random.uniform(0, rng, (particles, n_param))\n",
    "    pbest_pos = ppos_vector\n",
    "    pfit_value = np.ones(particles) * 1e100\n",
    "    gbest_pos = np.zeros(n_param)\n",
    "    gfit_value = 1e100\n",
    "    pvel_vector = np.zeros((particles, n_param))\n",
    "    \n",
    "    # First loop for assigning the fitness value using the cost function\n",
    "    for i in range(particles):\n",
    "        # Check the position of individual and group value using the evaluation function\n",
    "        cost_func = cost(func, ppos_vector[i])\n",
    "        \n",
    "        # Update each values using the cost functions\n",
    "        if(pfit_value[i] > cost_func):\n",
    "            pfit_value[i] = cost_func\n",
    "            pbest_pos[i] = np.copy(ppos_vector[i])\n",
    "                \n",
    "        if(gfit_value > cost_func):\n",
    "            gfit_value = cost_func\n",
    "            gbest_pos = np.copy(ppos_vector[i])\n",
    "                \n",
    "        \n",
    "        \n",
    "    # Second loop for implementing the PSO Algorithm\n",
    "    while (iterate < iterate_max):\n",
    "        for i in range(particles):\n",
    "            # Update the velocity and position vector\n",
    "            pvel_vector[i] = w*pvel_vector[i] + c1*random.random()*(pbest_pos[i]-ppos_vector[i]) + c2*random.random()*(gbest_pos-ppos_vector[i])\n",
    "            ppos_vector[i] = pvel_vector[i] + ppos_vector[i]\n",
    "            \n",
    "            cost_func = cost(func, ppos_vector[i])\n",
    "            \n",
    "            # Update each values using the cost functions\n",
    "            if(pfit_value[i] > cost_func):\n",
    "                pfit_value[i] = cost_func\n",
    "                pbest_pos[i] = np.copy(ppos_vector[i])\n",
    "                \n",
    "            if(gfit_value > cost_func):\n",
    "                gfit_value = cost_func\n",
    "                gbest_pos = np.copy(ppos_vector[i])\n",
    "                \n",
    "        iterate = iterate+1\n",
    "    \n",
    "    print(cost(func, gbest_pos))\n",
    "    print(\"The best position for each parameter: \", gbest_pos, \" with \", iterate, \" iteration.\")\n",
    "    return ppos_vector, gbest_pos"
   ]
  },
  {
   "cell_type": "code",
   "execution_count": 178,
   "metadata": {},
   "outputs": [
    {
     "name": "stdout",
     "output_type": "stream",
     "text": [
      "0.0009430649341495219\n",
      "The best position for each parameter:  [0.91346753 0.18324299]  with  2000  iteration.\n"
     ]
    }
   ],
   "source": [
    "pv, gp = PSO(ev_func, 2, 25, 2, 2000)"
   ]
  },
  {
   "cell_type": "code",
   "execution_count": 161,
   "metadata": {},
   "outputs": [
    {
     "data": {
      "image/png": "[encoded data removed]",
      "text/plain": [
       "<Figure size 432x288 with 1 Axes>"
      ]
     },
     "metadata": {
      "needs_background": "light"
     },
     "output_type": "display_data"
    }
   ],
   "source": [
    "plt.title(\"Particle Position\")\n",
    "plt.xlabel(\"Beta-1\")\n",
    "plt.xlim(-2,2)\n",
    "plt.ylabel(\"Beta-2\")\n",
    "plt.ylim(-2,2)\n",
    "plt.scatter(pv[:,0], pv[:,1])\n",
    "plt.show()"
   ]
  },
  {
   "cell_type": "code",
   "execution_count": 162,
   "metadata": {},
   "outputs": [
    {
     "data": {
      "image/png": "[encoded data removed]",
      "text/plain": [
       "<Figure size 432x288 with 1 Axes>"
      ]
     },
     "metadata": {
      "needs_background": "light"
     },
     "output_type": "display_data"
    }
   ],
   "source": [
    "plt.title('PSO vs Original Dataset')\n",
    "plt.xlabel('Speed')\n",
    "plt.ylabel('Throttle')\n",
    "plt.plot(v0, ev_func(gp), label='PSO', color='k')\n",
    "plt.scatter(v0, u0, label='Dataset')\n",
    "plt.legend(loc='center left', bbox_to_anchor=(1, 0.5))\n",
    "plt.show()"
   ]
  },
  {
   "cell_type": "markdown",
   "metadata": {},
   "source": [
    "Based on the graph above it can be seen that by using the PSO algorithm, we can determine the values of $\\beta_{1}$ and $\\beta_{2}$ to find the function that can represent the dataset. Next, the PSO will be used to find the values based on the equation below\n",
    "\n",
    "$$\n",
    "\\hat{u}_{s} = \\beta_{1}(1-e^{-\\beta_{2}v_{s}^{\\beta_3}-\\beta_{4}v_{s}^{\\beta_5}})\n",
    "$$"
   ]
  },
  {
   "cell_type": "code",
   "execution_count": 149,
   "metadata": {},
   "outputs": [],
   "source": [
    "def ev_func_5(beta):\n",
    "    u = beta[0]*(1.0 - np.exp(-beta[1]*v0**(beta[2])-beta[3]*v0**beta[4]))\n",
    "    return u"
   ]
  },
  {
   "cell_type": "code",
   "execution_count": 207,
   "metadata": {},
   "outputs": [
    {
     "name": "stdout",
     "output_type": "stream",
     "text": [
      "0.00022433278656880317\n",
      "The best position for each parameter:  [ 1.03506859 -0.55894933  0.92404573  0.78311663  0.88035065]  with  5000  iteration.\n"
     ]
    }
   ],
   "source": [
    "pv4, gp4 = PSO(ev_func_5, 5, 30, 2, 5000)"
   ]
  },
  {
   "cell_type": "code",
   "execution_count": 241,
   "metadata": {},
   "outputs": [],
   "source": [
    "def ev_func_5_test(beta, v0):\n",
    "    u = beta[0]*(1.0 - np.exp(-beta[1]*v0**(beta[2])-beta[3]*v0**beta[4]))\n",
    "    return u"
   ]
  },
  {
   "cell_type": "code",
   "execution_count": 242,
   "metadata": {},
   "outputs": [
    {
     "data": {
      "text/plain": [
       "0.0"
      ]
     },
     "execution_count": 242,
     "metadata": {},
     "output_type": "execute_result"
    }
   ],
   "source": [
    "ev_func_5_test(gp4, 0.0)"
   ]
  },
  {
   "cell_type": "code",
   "execution_count": 208,
   "metadata": {},
   "outputs": [
    {
     "data": {
      "image/png": "[encoded data removed]",
      "text/plain": [
       "<Figure size 432x288 with 1 Axes>"
      ]
     },
     "metadata": {
      "needs_background": "light"
     },
     "output_type": "display_data"
    }
   ],
   "source": [
    "plt.title('PSO 2 Var vs PSO 5 Var')\n",
    "plt.xlabel('Speed')\n",
    "plt.ylabel('Throttle')\n",
    "plt.plot(v0, ev_func_5(gp4), label='PSO 5 Var', color='k')\n",
    "plt.plot(v0, ev_func(gp), label='PSO 2 Var', color='r')\n",
    "plt.scatter(v0, u0, label='Dataset')\n",
    "plt.legend(loc='center left', bbox_to_anchor=(1, 0.5))\n",
    "plt.show()"
   ]
  },
  {
   "cell_type": "markdown",
   "metadata": {},
   "source": [
    "# Day 9 - 10"
   ]
  },
  {
   "cell_type": "markdown",
   "metadata": {},
   "source": [
    "The PSO algorithm will now be modified so that the function runs faster."
   ]
  },
  {
   "cell_type": "code",
   "execution_count": 215,
   "metadata": {},
   "outputs": [],
   "source": [
    "ev_func_jitted = njit(ev_func)\n",
    "ev_func_5_jitted = njit(ev_func_5)\n",
    "cost_jitted = njit(cost)"
   ]
  },
  {
   "cell_type": "code",
   "execution_count": 130,
   "metadata": {},
   "outputs": [],
   "source": [
    "def PSO_nprint(func, n_param, particles, rng, iterate_max):\n",
    "    # Define the constants\n",
    "    w = 0.5\n",
    "    c1 = 0.8\n",
    "    c2 = 0.7\n",
    "    iterate = 0\n",
    "    \n",
    "    # Setup the initial conditions for position and velocity arrays\n",
    "    ppos_vector = np.random.uniform(0, rng, (particles, n_param))\n",
    "    pbest_pos = ppos_vector\n",
    "    pfit_value = np.ones(particles) * 1e100\n",
    "    gbest_pos = np.zeros(n_param)\n",
    "    gfit_value = 1e100\n",
    "    pvel_vector = np.zeros((particles, n_param))\n",
    "    \n",
    "    # First loop for assigning the fitness value using the cost function\n",
    "    for i in range(particles):\n",
    "        # Check the position of individual and group value using the evaluation function\n",
    "        cost_func = cost(func, ppos_vector[i])\n",
    "        \n",
    "        # Update each values using the cost functions\n",
    "        if(pfit_value[i] > cost_func):\n",
    "            pfit_value[i] = cost_func\n",
    "            pbest_pos[i] = np.copy(ppos_vector[i])\n",
    "                \n",
    "        if(gfit_value > cost_func):\n",
    "            gfit_value = cost_func\n",
    "            gbest_pos = np.copy(ppos_vector[i])\n",
    "                \n",
    "        \n",
    "        \n",
    "    # Second loop for implementing the PSO Algorithm\n",
    "    while (iterate < iterate_max):\n",
    "        for i in range(particles):\n",
    "            # Update the velocity and position vector\n",
    "            pvel_vector[i] = w*pvel_vector[i] + c1*random.random()*(pbest_pos[i]-ppos_vector[i]) + c2*random.random()*(gbest_pos-ppos_vector[i])\n",
    "            ppos_vector[i] = pvel_vector[i] + ppos_vector[i]\n",
    "            \n",
    "            cost_func = cost(func, ppos_vector[i])\n",
    "            \n",
    "            # Update each values using the cost functions\n",
    "            if(pfit_value[i] > cost_func):\n",
    "                pfit_value[i] = cost_func\n",
    "                pbest_pos[i] = np.copy(ppos_vector[i])\n",
    "                \n",
    "            if(gfit_value > cost_func):\n",
    "                gfit_value = cost_func\n",
    "                gbest_pos = np.copy(ppos_vector[i])\n",
    "                \n",
    "        iterate = iterate+1\n",
    "    \n",
    "    return ppos_vector, gbest_pos"
   ]
  },
  {
   "cell_type": "code",
   "execution_count": 235,
   "metadata": {},
   "outputs": [],
   "source": [
    "def PSO_jit(func, n_param, particles, rng, iterate_max):\n",
    "    # Define the constants\n",
    "    w = 0.5\n",
    "    c1 = 0.8\n",
    "    c2 = 0.7\n",
    "    iterate = 0\n",
    "    \n",
    "    # Setup the initial conditions for position and velocity arrays\n",
    "    ppos_vector = np.random.uniform(0, rng, (particles, n_param))\n",
    "    pbest_pos = ppos_vector\n",
    "    pfit_value = np.ones(particles) * 1e100\n",
    "    gbest_pos = np.zeros(n_param)\n",
    "    gfit_value = 1e100\n",
    "    pvel_vector = np.zeros((particles, n_param))\n",
    "    \n",
    "    # First loop for assigning the fitness value using the cost function\n",
    "    for i in range(particles):\n",
    "        # Check the position of individual and group value using the evaluation function\n",
    "        cost_func = cost_jitted(func, ppos_vector[i])\n",
    "        \n",
    "        # Update each values using the cost functions\n",
    "        if(pfit_value[i] > cost_func):\n",
    "            pfit_value[i] = cost_func\n",
    "            pbest_pos[i] = np.copy(ppos_vector[i])\n",
    "                \n",
    "        if(gfit_value > cost_func):\n",
    "            gfit_value = cost_func\n",
    "            gbest_pos = np.copy(ppos_vector[i])\n",
    "                \n",
    "        \n",
    "        \n",
    "    # Second loop for implementing the PSO Algorithm\n",
    "    while (iterate < iterate_max):\n",
    "        for i in prange(particles):\n",
    "            # Update the velocity and position vector\n",
    "            pvel_vector[i] = w*pvel_vector[i] + c1*random.random()*(pbest_pos[i]-ppos_vector[i]) + c2*random.random()*(gbest_pos-ppos_vector[i])\n",
    "            ppos_vector[i] = pvel_vector[i] + ppos_vector[i]\n",
    "            \n",
    "            cost_func = cost_jitted(func, ppos_vector[i])\n",
    "            \n",
    "            # Update each values using the cost functions\n",
    "            if(pfit_value[i] > cost_func):\n",
    "                pfit_value[i] = cost_func\n",
    "                pbest_pos[i] = np.copy(ppos_vector[i])\n",
    "        \n",
    "        for i in range(particles):\n",
    "            if(gfit_value > cost_func):\n",
    "                gfit_value = cost_func\n",
    "                gbest_pos = np.copy(ppos_vector[i])\n",
    "                \n",
    "        iterate = iterate+1\n",
    "    \n",
    "    return ppos_vector, gbest_pos"
   ]
  },
  {
   "cell_type": "code",
   "execution_count": 236,
   "metadata": {},
   "outputs": [],
   "source": [
    "PSO_jitted = njit(PSO_jit)\n",
    "# PSO_jitted_parallelized = njit(PSO_jit, parallel=True)"
   ]
  },
  {
   "cell_type": "code",
   "execution_count": 237,
   "metadata": {},
   "outputs": [],
   "source": [
    "# Compile the function\n",
    "_, _s = PSO_jitted(ev_func_jitted, 2, 2, 2, 2)\n",
    "#_, _s = PSO_jitted_parallelized(ev_func_jitted, 2, 2, 2, 2)"
   ]
  },
  {
   "cell_type": "code",
   "execution_count": 238,
   "metadata": {},
   "outputs": [
    {
     "name": "stdout",
     "output_type": "stream",
     "text": [
      "169 ms ± 5.41 ms per loop (mean ± std. dev. of 7 runs, 10 loops each)\n",
      "4.56 s ± 440 ms per loop (mean ± std. dev. of 7 runs, 1 loop each)\n"
     ]
    }
   ],
   "source": [
    "%timeit pvj, gpj = PSO_jitted(ev_func_jitted, 2, 25, 2, 5000)\n",
    "%timeit pv, gp = PSO_nprint(ev_func, 2, 25, 2, 5000)\n",
    "#%timeit pvjp, gpjp = PSO_jitted_parallelized(ev_func_jitted, 2, 25, 2, 5000)"
   ]
  },
  {
   "cell_type": "code",
   "execution_count": 224,
   "metadata": {},
   "outputs": [
    {
     "data": {
      "text/plain": [
       "(array([[ 1.00697726, -0.13399449,  1.98327896,  0.40013246, -0.03174372],\n",
       "        [ 1.00697726, -0.13399449,  1.98327896,  0.40013246, -0.03174372],\n",
       "        [ 1.00697726, -0.13399449,  1.98327896,  0.40013246, -0.03174372],\n",
       "        ...,\n",
       "        [ 1.00697726, -0.13399449,  1.98327896,  0.40013246, -0.03174372],\n",
       "        [ 1.00697726, -0.13399449,  1.98327896,  0.40013246, -0.03174372],\n",
       "        [ 1.00697726, -0.13399449,  1.98327896,  0.40013246, -0.03174372]]),\n",
       " array([ 1.00697726, -0.13399449,  1.98327896,  0.40013246, -0.03174372]))"
      ]
     },
     "execution_count": 224,
     "metadata": {},
     "output_type": "execute_result"
    }
   ],
   "source": [
    "PSO_jitted(ev_func_5_jitted, 5, 1000, 2, 1000)"
   ]
  },
  {
   "cell_type": "code",
   "execution_count": 147,
   "metadata": {},
   "outputs": [
    {
     "data": {
      "image/png": "[encoded data removed]",
      "text/plain": [
       "<Figure size 432x288 with 1 Axes>"
      ]
     },
     "metadata": {
      "needs_background": "light"
     },
     "output_type": "display_data"
    }
   ],
   "source": [
    "plt.title('PSO vs PSO jitted')\n",
    "plt.xlabel('Speed')\n",
    "plt.ylabel('Throttle')\n",
    "plt.plot(v0, ev_func(gp), label='PSO', color='k')\n",
    "plt.plot(v0, ev_func(gpj), label='PSO jitted', color='r')\n",
    "plt.scatter(v0, u0, label='Dataset')\n",
    "plt.legend(loc='center left', bbox_to_anchor=(1, 0.5))\n",
    "plt.show()"
   ]
  },
  {
   "cell_type": "markdown",
   "metadata": {},
   "source": [
    "# Day 11"
   ]
  },
  {
   "cell_type": "markdown",
   "metadata": {},
   "source": [
    "## APSO Algorithm"
   ]
  },
  {
   "cell_type": "markdown",
   "metadata": {},
   "source": [
    "APSO or Accelerated Particle Swarm Optimization is a method to accelerate the computation time of a normal PSO by only using the global value to update the postion and velocity vectors. By doing so, the time it takes to update the value would decrease because there's only one paramater that is always updated."
   ]
  },
  {
   "cell_type": "code",
   "execution_count": 3,
   "metadata": {},
   "outputs": [],
   "source": [
    "import numpy as np\n",
    "import matplotlib.pyplot as plt\n",
    "import scipy as sc\n",
    "import pandas as pd\n",
    "import random\n",
    "import math\n",
    "from numba import njit, jit, prange\n",
    "%matplotlib inline"
   ]
  },
  {
   "cell_type": "markdown",
   "metadata": {},
   "source": [
    "Using the data that was used on testing the PSO, it will be used again to test the APSO"
   ]
  },
  {
   "cell_type": "code",
   "execution_count": 4,
   "metadata": {},
   "outputs": [
    {
     "data": {
      "image/png": "[encoded data removed]",
      "text/plain": [
       "<Figure size 432x288 with 1 Axes>"
      ]
     },
     "metadata": {
      "needs_background": "light"
     },
     "output_type": "display_data"
    }
   ],
   "source": [
    "df = pd.read_csv('D:\\ITB\\FT\\KP\\steady_state_velocity.csv')\n",
    "v0 = np.array(df.speed[1:])\n",
    "u0 = np.array(df.throttle[1:])\n",
    "\n",
    "plt.title('Steady State Velocity')\n",
    "plt.xlabel('Speed')\n",
    "plt.ylabel('Throttle')\n",
    "plt.scatter(v0, u0)\n",
    "plt.show()"
   ]
  },
  {
   "cell_type": "code",
   "execution_count": 3,
   "metadata": {},
   "outputs": [],
   "source": [
    "def ev_func(beta):\n",
    "    u = beta[0]*(1.0 - np.exp(beta[1]*v0))\n",
    "    return u"
   ]
  },
  {
   "cell_type": "code",
   "execution_count": 4,
   "metadata": {},
   "outputs": [],
   "source": [
    "def cost(c_func, beta):\n",
    "    err = u0 - c_func(beta)\n",
    "    if(beta[0] < 0):\n",
    "        return np.inf\n",
    "    if(beta[1] > 0):\n",
    "        return np.inf\n",
    "    else:\n",
    "        return np.mean(err**2)"
   ]
  },
  {
   "cell_type": "code",
   "execution_count": 225,
   "metadata": {},
   "outputs": [],
   "source": [
    "def APSO(func, costf, n_param, particles, rng, iterate_max):\n",
    "    # Define the constants\n",
    "    alpha0 = 0.5\n",
    "    beta = 0.3\n",
    "    gamma = 0.9\n",
    "    iterate = 0\n",
    "    \n",
    "    # Setup the initial conditions for position and velocity arrays\n",
    "    ppos_vector = np.random.uniform(-rng, rng, (particles, n_param))\n",
    "    gbest_pos = np.zeros(n_param)\n",
    "    gfit_value = 1e100\n",
    "    \n",
    "    # First loop for assigning the fitness value using the cost function\n",
    "    for i in range(particles):\n",
    "        # Check the position of individual and group value using the evaluation function\n",
    "        cost_func = costf(func, ppos_vector[i])\n",
    "        \n",
    "        # Update the global value using the cost functions\n",
    "        if(gfit_value > cost_func):\n",
    "            gfit_value = np.copy(cost_func)\n",
    "            gbest_pos = np.copy(ppos_vector[i])\n",
    "            \n",
    "    # Second loop for implementing the PSO Algorithm\n",
    "    while (iterate < iterate_max):\n",
    "        for i in range(particles):\n",
    "            # Update the alpha value\n",
    "            alpha = alpha0*gamma**iterate\n",
    "            \n",
    "            # Update the velocity and position vector\n",
    "            ppos_vector[i] = (1-beta)*ppos_vector[i] + alpha*np.random.normal(0,1) + beta*gbest_pos\n",
    "            \n",
    "            cost_func = costf(func, ppos_vector[i])\n",
    "            \n",
    "            # Update the global value using the cost functions\n",
    "            if(gfit_value > cost_func):\n",
    "                gfit_value = np.copy(cost_func)\n",
    "                gbest_pos = np.copy(ppos_vector[i])\n",
    "                \n",
    "        iterate = iterate+1\n",
    "    \n",
    "    return ppos_vector, gbest_pos"
   ]
  },
  {
   "cell_type": "code",
   "execution_count": 226,
   "metadata": {},
   "outputs": [
    {
     "name": "stdout",
     "output_type": "stream",
     "text": [
      "0.0009474283161614446\n",
      "[ 0.90974264 -0.18410711]\n",
      "0.0009920982297361052\n",
      "[ 0.90127735 -0.18590128]\n",
      "0.0009497867582532525\n",
      "[ 0.90885608 -0.18430609]\n",
      "0.0011302542476128057\n",
      "[ 0.89034743 -0.1878694 ]\n",
      "0.0009459831667615821\n",
      "[ 0.91041539 -0.1839544 ]\n"
     ]
    }
   ],
   "source": [
    "for i in range(5):\n",
    "    pva, gpa = APSO(ev_func, cost, 2, 100, 1, 2000)\n",
    "    print(cost(ev_func, gpa))\n",
    "    print(gpa)"
   ]
  },
  {
   "cell_type": "code",
   "execution_count": 217,
   "metadata": {},
   "outputs": [
    {
     "name": "stdout",
     "output_type": "stream",
     "text": [
      "0.0009435734132420112\n",
      "[ 0.91218695 -0.18354518]\n"
     ]
    }
   ],
   "source": [
    "print(cost(ev_func, gpa))\n",
    "print(gpa)"
   ]
  },
  {
   "cell_type": "code",
   "execution_count": 227,
   "metadata": {},
   "outputs": [
    {
     "data": {
      "image/png": "[encoded data removed]",
      "text/plain": [
       "<Figure size 432x288 with 1 Axes>"
      ]
     },
     "metadata": {
      "needs_background": "light"
     },
     "output_type": "display_data"
    }
   ],
   "source": [
    "plt.title(\"Particle Position\")\n",
    "plt.xlabel(\"Beta-1\")\n",
    "plt.xlim(-1,1)\n",
    "plt.ylabel(\"Beta-2\")\n",
    "plt.ylim(-1,1)\n",
    "plt.scatter(pva[:,0], pva[:,1])\n",
    "plt.show()"
   ]
  },
  {
   "cell_type": "code",
   "execution_count": 228,
   "metadata": {},
   "outputs": [
    {
     "data": {
      "image/png": "[encoded data removed]",
      "text/plain": [
       "<Figure size 432x288 with 1 Axes>"
      ]
     },
     "metadata": {
      "needs_background": "light"
     },
     "output_type": "display_data"
    }
   ],
   "source": [
    "plt.title('APSO vs Original Dataset')\n",
    "plt.xlabel('Speed')\n",
    "plt.ylabel('Throttle')\n",
    "plt.plot(v0, ev_func(gpa), label='APSO', color='k')\n",
    "plt.scatter(v0, u0, label='Dataset')\n",
    "plt.legend(loc='center left', bbox_to_anchor=(1, 0.5))\n",
    "plt.show()"
   ]
  },
  {
   "cell_type": "code",
   "execution_count": 267,
   "metadata": {},
   "outputs": [],
   "source": [
    "def ev_func_5(beta):\n",
    "    u = beta[0]*(1.0 - np.exp(beta[1]*v0**(beta[2])+beta[3]*v0**beta[4]))\n",
    "    return u"
   ]
  },
  {
   "cell_type": "code",
   "execution_count": 268,
   "metadata": {},
   "outputs": [],
   "source": [
    "def cost5(c_func, beta):\n",
    "    err = u0 - c_func(beta)\n",
    "    if(beta[0] < 0):\n",
    "        return np.inf\n",
    "    if(beta[1] > 0):\n",
    "        return np.inf\n",
    "    if(beta[2] < 0):\n",
    "        return np.inf\n",
    "    if(beta[3] > 0):\n",
    "        return np.inf\n",
    "    if(beta[4] < 0):\n",
    "        return np.inf\n",
    "    return np.mean(err**2)"
   ]
  },
  {
   "cell_type": "code",
   "execution_count": 289,
   "metadata": {},
   "outputs": [
    {
     "name": "stderr",
     "output_type": "stream",
     "text": [
      "D:\\Miniconda3\\lib\\site-packages\\ipykernel_launcher.py:2: RuntimeWarning: overflow encountered in exp\n",
      "  \n"
     ]
    },
    {
     "name": "stdout",
     "output_type": "stream",
     "text": [
      "0.0006826752538943791\n"
     ]
    }
   ],
   "source": [
    "pva5, gpa5 = APSO(ev_func_5, cost5, 5, 50, 2, 2000)\n",
    "print(cost(ev_func_5, gpa5))"
   ]
  },
  {
   "cell_type": "code",
   "execution_count": 297,
   "metadata": {},
   "outputs": [
    {
     "data": {
      "image/png": "[encoded data removed]",
      "text/plain": [
       "<Figure size 432x288 with 1 Axes>"
      ]
     },
     "metadata": {
      "needs_background": "light"
     },
     "output_type": "display_data"
    }
   ],
   "source": [
    "for i in range (5) :\n",
    "    plt.hist(pva5[:,i], label=('Beta '+str(i+1)))\n",
    "\n",
    "plt.ylabel(\"N-Particles\")\n",
    "plt.ylim(0,1)\n",
    "plt.xlabel(\"Beta Value\")\n",
    "plt.legend(loc='center left', bbox_to_anchor=(1, 0.5))\n",
    "plt.show()"
   ]
  },
  {
   "cell_type": "code",
   "execution_count": 291,
   "metadata": {},
   "outputs": [
    {
     "data": {
      "image/png": "[encoded data removed]",
      "text/plain": [
       "<Figure size 432x288 with 1 Axes>"
      ]
     },
     "metadata": {
      "needs_background": "light"
     },
     "output_type": "display_data"
    }
   ],
   "source": [
    "plt.title('APSO vs Original Dataset')\n",
    "plt.xlabel('Speed')\n",
    "plt.ylabel('Throttle')\n",
    "plt.plot(v0, ev_func_5(gpa5), label='APSO', color='k')\n",
    "plt.scatter(v0, u0, label='Dataset')\n",
    "plt.legend(loc='center left', bbox_to_anchor=(1, 0.5))\n",
    "plt.show()"
   ]
  },
  {
   "cell_type": "markdown",
   "metadata": {},
   "source": [
    "## Stochastic Fractal Search"
   ]
  },
  {
   "cell_type": "markdown",
   "metadata": {},
   "source": [
    "The Stochastic Fractal Search (SFS) finds values similarly to PSO by using multiple particles. The difference is that the SFS has two primary parts which are the diffusion part and the update part. The diffusion part finds the best particle value by using a gaussian distribution. Whereas the update part, updates the values two times by giving a probability value to each particle based on the fitness value of the particle to the cost function. The particles are created based on an upper and lower boundary ($UB$ and $LB$).\n",
    "\n",
    "$$\n",
    "P_{i} = LB + \\varepsilon\\space\\times\\space(UB - LB)\n",
    "$$\n",
    "\n",
    "The value of $\\varepsilon$ is a random number that is normally distributed between 0 and 1."
   ]
  },
  {
   "cell_type": "markdown",
   "metadata": {},
   "source": [
    "### Diffusion"
   ]
  },
  {
   "cell_type": "markdown",
   "metadata": {},
   "source": [
    "It can be seen in the function below that the particles that will be diffused are updated through either Gaussian Walks 1 (GW1) or GW2. The function for both type of Gaussian Walks are\n",
    "\n",
    "$$\n",
    "GW1 = Gaussian(\\mu_{BP}, \\sigma) + \\varepsilon\\space\\times\\space BP - \\varepsilon'\\space\\times\\space P_{i}\n",
    "$$"
   ]
  },
  {
   "cell_type": "markdown",
   "metadata": {},
   "source": [
    "$$\n",
    "GW2 = Gaussian(\\mu_{P}, \\sigma)\n",
    "$$"
   ]
  },
  {
   "cell_type": "markdown",
   "metadata": {},
   "source": [
    "Again, the value of $\\varepsilon$ and $\\varepsilon'$ is a random number that is distributed normally between 0 and 1. The values for each variables in GW1 and GW2 are\n",
    "\n",
    "$$\n",
    "\\mu_{BP} = \\left|BP\\right| \\space\\space\\space\\space\\space \\mu_{P} = \\left|P_{i}\\right|\n",
    "$$"
   ]
  },
  {
   "cell_type": "markdown",
   "metadata": {},
   "source": [
    "$$\n",
    "\\sigma = \\left|\\frac{log(g)}{g}\\space\\times\\space(P_{i} - BP)\\right|\n",
    "$$"
   ]
  },
  {
   "cell_type": "markdown",
   "metadata": {},
   "source": [
    "To be noted here from the equation above that the value of $BP$ is the best value from the particles $P_{i}$ that is chosen by applying a cost function. The value of $g$ is the number of iteration that was done during the diffusion."
   ]
  },
  {
   "cell_type": "code",
   "execution_count": 7,
   "metadata": {},
   "outputs": [],
   "source": [
    "def diffuse(part, n_diffuse, n_iter, p_walk):\n",
    "    best_part = part[0]\n",
    "    \n",
    "    for i in range(n_diffuse):\n",
    "        if(np.random.rand() < p_walk):\n",
    "            # Set the values for GW1\n",
    "            mu = abs(part[0])\n",
    "            sigma = abs((np.log10(n_iter+1)/(n_iter+1))*(part-best_part))\n",
    "            \n",
    "            # Set the new particles\n",
    "            part = np.random.normal(mu,sigma) + np.random.uniform()*best_part - np.random.uniform()*part\n",
    "        else:\n",
    "            # Set the values for GW2\n",
    "            mu = abs(part[i])\n",
    "            sigma = abs((np.log10(n_iter+1)/(n_iter+1))*(part-best_part))\n",
    "                    \n",
    "            # Set the new particles\n",
    "            part = np.random.normal(mu,sigma)\n",
    "            \n",
    "    return part"
   ]
  },
  {
   "cell_type": "markdown",
   "metadata": {},
   "source": [
    "## Sort\n",
    "\n",
    "The function below is used to sort the particles based on the cost function."
   ]
  },
  {
   "cell_type": "code",
   "execution_count": 54,
   "metadata": {},
   "outputs": [],
   "source": [
    "def sort_by_cost(part, c_func):\n",
    "    sort_part = np.zeros([part.shape[0], part.shape[1] + 1])\n",
    "    \n",
    "    for i in range(part.shape[0]):\n",
    "        sort_part[i] = part[i][0], part[i][1], c_func(part[i])\n",
    "    \n",
    "    sort_part = np.delete(sort_part[sort_part[:,-1].argsort()], -1, axis=1)\n",
    "    \n",
    "    return sort_part"
   ]
  },
  {
   "cell_type": "markdown",
   "metadata": {},
   "source": [
    "## SFS Algorithm\n",
    "\n",
    "Below is the main algorithm that is used to run the SFS algorithm. First the particles are diffused based on the diffusion function. Next, the function will be iterated until the max number of iterations. There are two value update that is done during the iteration. The sorted particles are given a probability value based on the position, where the best particle (first position) is given the highest probability. The probability that is given to each particles are\n",
    "\n",
    "$$\n",
    "Pa_{i} = \\frac{i}{N}\n",
    "$$\n",
    "\n",
    "Where $i$ is the position of the particle and $N$ is the number of particles. The first value update is done to the particles that has a probability below $\\varepsilon$ and it is done based on the equation below\n",
    "\n",
    "$$\n",
    "P'_{i} = P_{r} - \\varepsilon\\space\\times\\space(P_{t} - P_{i})\n",
    "$$\n",
    "\n",
    "From the equation, $P'_{i}$ is the particle $P_{i}$ after the first value update, $P_{r}$ and $P_{t}$ are randomly chosen particles from $P$. After the first update, the particles will be sorted again and given a corresponding probability value. The second update is done based on the equation below\n",
    "\n",
    "* If the value of $\\hat{\\varepsilon} \\leqslant 0.5$, the equation is\n",
    "\n",
    "$$\n",
    "P''_{t} = P'_{i} - \\hat{\\varepsilon} \\space\\times\\space (P'_{t} - BP)\n",
    "$$\n",
    "\n",
    "* If the value of $\\hat{\\varepsilon} > 0.5$, the equation is \n",
    "\n",
    "$$\n",
    "P''_{t} = P'_{i} - \\hat{\\varepsilon} \\space\\times\\space (P'_{t} - P'_{r})\n",
    "$$\n",
    "\n",
    "Same as before $P'_{t}$ and $P'_{r}$ are randomly chosen particles from $P$."
   ]
  },
  {
   "cell_type": "code",
   "execution_count": 58,
   "metadata": {},
   "outputs": [],
   "source": [
    "def SFS(particles, param, ub, lb, iter_max, cost_func):\n",
    "    # Initialize the variables\n",
    "    part = np.zeros([particles, param])\n",
    "    for i in range(part.shape[0]):\n",
    "        for j in range(part.shape[1]):\n",
    "            part[i][j] = lb + np.random.uniform()*(ub-lb)\n",
    "            \n",
    "    n_diffuse = 1\n",
    "    p_walk = 0.7\n",
    "    \n",
    "    # Sort the particles before entering the loop\n",
    "    part = sort_by_cost(part, cost_func)\n",
    "    best_part = part[0]\n",
    "    \n",
    "    for g in range(iter_max):\n",
    "        # Diffuse the particles\n",
    "        part = diffuse(part, n_diffuse, g, p_walk)\n",
    "        \n",
    "        # Sort and find new best\n",
    "        part = sort_by_cost(part, cost_func)\n",
    "        best_part = part[0]\n",
    "        \n",
    "        # Create the probability for each particles\n",
    "        size = part.shape[0]\n",
    "        pa = np.array([(size - i)/size for i in range(size)])\n",
    "        \n",
    "        # First value update\n",
    "        eps = np.random.uniform()\n",
    "        for i in range(part.shape[0]):\n",
    "            if(eps > pa[i]):\n",
    "                for j in range(part.shape[1]):\n",
    "                    # Update the position based on the equation\n",
    "                    part[i][j] = np.random.choice(part[:,j]) - np.random.uniform()*(np.random.choice(part[:,j]) - np.copy(part[i][j]))\n",
    "            else:\n",
    "                part[i] = np.copy(part[i])\n",
    "                    \n",
    "        # Sort and find new best\n",
    "        part = sort_by_cost(part, cost_func)\n",
    "        best_part = part[0]\n",
    "        \n",
    "        # Second value update\n",
    "        eps_ = np.random.normal()\n",
    "        for i in range(part.shape[0]):\n",
    "            if(eps_ > pa[i]):\n",
    "                if(eps_ <= 0.5):\n",
    "                    for j in range(part.shape[1]):\n",
    "                        part[i][j] = np.copy(part[i][j]) - eps_*(np.random.choice(part[:,j]) - best_part[j])\n",
    "                else:\n",
    "                    for j in range(part.shape[1]):\n",
    "                        part[i][j] = np.copy(part[i][j]) + eps_*(np.random.choice(part[:,j]) - np.random.choice(part[:,j]))\n",
    "            else:\n",
    "                part[i][j] = np.copy(part[i][j])\n",
    "        \n",
    "        # Sort and find new best\n",
    "        part = sort_by_cost(part, cost_func)\n",
    "        best_part = part[0]\n",
    "        print(cost(best_part))\n",
    "    \n",
    "    return part, best_part"
   ]
  },
  {
   "cell_type": "code",
   "execution_count": 60,
   "metadata": {
    "collapsed": true,
    "jupyter": {
     "outputs_hidden": true
    }
   },
   "outputs": [
    {
     "name": "stdout",
     "output_type": "stream",
     "text": [
      "0.019084053952898333\n",
      "0.042941104430810444\n",
      "0.023437858788332242\n",
      "0.05796767671206972\n",
      "0.026697876558301047\n",
      "0.022401061326737158\n",
      "0.043692297453258824\n",
      "0.5243560760857348\n",
      "0.09423676640860693\n",
      "0.8600296933478847\n",
      "0.3947928011641882\n",
      "0.44113533065257887\n",
      "0.45135415657377415\n",
      "0.4530370952671871\n",
      "0.49335370407671336\n",
      "0.4767101987019585\n",
      "0.49427863125014476\n",
      "0.49408189933096186\n",
      "0.49091675311859084\n",
      "0.4959908939886514\n",
      "0.49312673488601494\n",
      "0.49666036337783254\n",
      "0.49663624605213996\n",
      "0.4966289121397488\n",
      "0.4966281400171479\n",
      "0.49662803416442164\n",
      "0.4958324253356856\n",
      "0.4954760555110552\n",
      "0.49519167692612\n",
      "0.4951732793427519\n",
      "0.49509741203556257\n",
      "0.49525961920040984\n",
      "0.4952596190689943\n",
      "0.4952596190541182\n",
      "0.4957585380708096\n",
      "0.49575853806954256\n",
      "0.495250887851284\n",
      "0.4951293893038634\n",
      "0.49513933100953506\n",
      "0.4951484562649415\n",
      "0.4951484562647579\n",
      "0.49514845626474424\n",
      "0.495148456264743\n",
      "0.49516494592650934\n",
      "0.4950822199454591\n",
      "0.49515482248303155\n",
      "0.49515482248303144\n",
      "0.4951475747277103\n",
      "0.4951475747277103\n",
      "0.4951475747277103\n",
      "0.4951475747277103\n",
      "0.4950818595023633\n",
      "0.4951571160903849\n",
      "0.49522865615532596\n",
      "0.49522865615532596\n",
      "0.49507651033846906\n",
      "0.4950818262724706\n",
      "0.4951063420171886\n",
      "0.4951063420171886\n",
      "0.4951421945065539\n",
      "0.4951421945065539\n",
      "0.49531734798855703\n",
      "0.49531734798855703\n",
      "0.49531734798855703\n",
      "0.49531734798855703\n",
      "0.49513316309412075\n",
      "0.49513316309412075\n",
      "0.4950625709797749\n",
      "0.4950625709797749\n",
      "0.49506112103562333\n",
      "0.4951552907855322\n",
      "0.49510695532290067\n",
      "0.4952131433405466\n",
      "0.4957073488416397\n",
      "0.4957861605844612\n",
      "0.49639557874792023\n",
      "0.4960632366337152\n",
      "0.4960632366337152\n",
      "0.4953188054054796\n",
      "0.49551574039907786\n",
      "0.49648152526209843\n",
      "0.49648152526209843\n",
      "0.4959567935641266\n",
      "0.4972408608417709\n",
      "0.4984124661214276\n",
      "0.5017825121006376\n",
      "0.5017825121006376\n",
      "0.49628365299423016\n",
      "0.49628365299423016\n",
      "0.49628365299423016\n",
      "0.49670695989640634\n",
      "0.4965493719289359\n",
      "0.4962905235243759\n",
      "0.4962905235243759\n",
      "0.49897125554328564\n",
      "0.5034842878777653\n",
      "0.5034842878777653\n",
      "0.502000093940026\n",
      "0.4980832198866866\n",
      "0.49981355541854283\n",
      "0.5023783285615073\n",
      "0.49943148458725745\n",
      "0.4982896703410311\n",
      "0.496135382835414\n",
      "0.496135382835414\n",
      "0.4963171543534434\n",
      "0.49721528525583075\n",
      "0.49542305322325914\n",
      "0.4958073508678165\n",
      "0.4958073508678165\n",
      "0.4958073508678165\n",
      "0.495747029639614\n",
      "0.49534747285150244\n",
      "0.49532471582286897\n",
      "0.4956872757310817\n",
      "0.4956872757310817\n",
      "0.4956872757310817\n",
      "0.4960576084911827\n",
      "0.4961782852221369\n",
      "0.4962566755868177\n",
      "0.4962566755868177\n",
      "0.4962566755868177\n",
      "0.4962566755868177\n",
      "0.4958874195088545\n",
      "0.49726551114386575\n",
      "0.49669267102805725\n",
      "0.5001890510839712\n",
      "0.497535673631293\n",
      "0.4983996148410925\n",
      "0.49712131725970893\n",
      "0.49568542867868515\n",
      "0.49568542867868515\n",
      "0.4957489157948628\n",
      "0.4957489157948628\n",
      "0.4951776583153508\n",
      "0.4951808876461765\n",
      "0.4951808876461765\n",
      "0.4952813207578208\n",
      "0.4953640567569955\n",
      "0.4953640567569955\n",
      "0.495983203466012\n",
      "0.4961515270856183\n",
      "0.4961515270856183\n",
      "0.4958069456118692\n",
      "0.4952144066587914\n",
      "0.49506199109703447\n",
      "0.4950947548699282\n",
      "0.495088354725724\n",
      "0.495088354725724\n",
      "0.49511201232362356\n",
      "0.4952200559859905\n",
      "0.4952200559859905\n",
      "0.4951606581381667\n",
      "0.4953528603072694\n",
      "0.49556928962615027\n",
      "0.49556928962615027\n",
      "0.49556928962615027\n",
      "0.49641165090272166\n",
      "0.49686102110235225\n",
      "0.49672390496149965\n",
      "0.498881758281759\n",
      "0.5065914033002904\n",
      "0.5080563308718343\n",
      "0.5182700043745218\n",
      "0.5045638000317102\n",
      "0.5045638000317102\n",
      "0.49589677301143964\n",
      "0.49566171912725554\n",
      "0.4954942732148217\n",
      "0.4955219386632793\n",
      "0.4955911854053585\n",
      "0.49509389081316807\n",
      "0.495196092119776\n",
      "0.4951491625776332\n",
      "0.49533844391682136\n",
      "0.49521932256214024\n",
      "0.4952626348233528\n",
      "0.4955002286476624\n",
      "0.49542959474474824\n",
      "0.49614189796167313\n",
      "0.4950995445504794\n",
      "0.4951081049795869\n",
      "0.49516813285588634\n",
      "0.49515247444061855\n",
      "0.4950414615308208\n",
      "0.495061342614417\n",
      "0.49508215320967036\n",
      "0.49504049817571555\n",
      "0.4950456333764437\n",
      "0.49506042935640115\n",
      "0.49506042935640115\n",
      "0.49506042935640115\n",
      "0.49506042935640115\n",
      "0.49507271976443\n",
      "0.49511608790950606\n",
      "0.495031451956082\n",
      "0.4950654900086854\n",
      "0.4950654900086854\n",
      "0.49511273325292515\n",
      "0.4951636988427491\n",
      "0.4951636988427491\n",
      "0.495202867930032\n",
      "0.49501723503238165\n",
      "0.49501723503238165\n",
      "0.49502055230351755\n",
      "0.49503360125771145\n",
      "0.49503360125771145\n",
      "0.4950502253688418\n",
      "0.495027061346094\n",
      "0.495027061346094\n",
      "0.4950167333941134\n",
      "0.4950167333941134\n",
      "0.49502199356145915\n",
      "0.4950229519713376\n",
      "0.4950229519713376\n",
      "0.4950409348115246\n",
      "0.4950355697988637\n",
      "0.4950355697988637\n",
      "0.4950355697988637\n",
      "0.4950355697988637\n",
      "0.4950355697988637\n",
      "0.4950489041300957\n",
      "0.4950690447177811\n",
      "0.4950690447177811\n",
      "0.4950257157162826\n",
      "0.49501480330444336\n",
      "0.4950193119986662\n",
      "0.49501275433304515\n",
      "0.49501253211343693\n",
      "0.49501311203191134\n",
      "0.49501499014931766\n",
      "0.4950128246283263\n",
      "0.4950128246283263\n",
      "0.49501253667826606\n",
      "0.4950126762254102\n",
      "0.4950128316737181\n",
      "0.4950129340422173\n",
      "0.4950129340422173\n",
      "0.49501241989869926\n",
      "0.4950126248118884\n",
      "0.4950126248118884\n",
      "0.4950129356037124\n",
      "0.4950126564975512\n",
      "0.49501233302862374\n",
      "0.4950124358786682\n",
      "0.4950126354220052\n",
      "0.49501238814837295\n",
      "0.4950123510627657\n",
      "0.4950123510627657\n",
      "0.4950123510627657\n",
      "0.4950123510627657\n",
      "0.49501230342299574\n",
      "0.49501232598159445\n",
      "0.49501229508480776\n",
      "0.49501229508480776\n",
      "0.49501229508480776\n",
      "0.4950123060895307\n",
      "0.4950122767857952\n",
      "0.4950122767857952\n",
      "0.49501228406485803\n",
      "0.49501228406485803\n",
      "0.4950122952475177\n",
      "0.4950123032895435\n",
      "0.4950122819749751\n",
      "0.49501229838800487\n",
      "0.49501227068660936\n",
      "0.49501227068660936\n",
      "0.49501227068660936\n",
      "0.4950122702677019\n",
      "0.4950122702677019\n",
      "0.495012270028998\n",
      "0.4950122713787925\n",
      "0.49501227002153797\n",
      "0.49501227002153797\n",
      "0.49501227002153797\n",
      "0.49501227002153797\n",
      "0.49501227002153797\n",
      "0.4950122704070741\n",
      "0.4950122704070741\n",
      "0.4950122704070741\n",
      "0.49501226924782576\n",
      "0.49501226926664554\n",
      "0.4950122692648752\n",
      "0.4950122692656497\n",
      "0.4950122692738684\n",
      "0.49501226927445124\n",
      "0.49501226927445124\n",
      "0.4950122692831531\n",
      "0.4950122692904968\n",
      "0.495012269274308\n",
      "0.495012269274308\n",
      "0.495012269274308\n",
      "0.495012269274308\n",
      "0.49501226926821607\n",
      "0.4950122692803471\n",
      "0.49501226927044245\n",
      "0.4950122692568368\n",
      "0.4950122692448155\n",
      "0.4950122692448155\n",
      "0.49501226924021785\n",
      "0.4950122692365227\n",
      "0.49501226924122166\n",
      "0.4950122692370451\n",
      "0.4950122692370451\n",
      "0.49501226924120634\n",
      "0.49501226923425146\n",
      "0.49501226923425146\n",
      "0.49501226923105895\n",
      "0.4950122692314903\n",
      "0.4950122692313259\n",
      "0.49501226923130237\n",
      "0.49501226923086467\n",
      "0.49501226923086467\n",
      "0.495012269230838\n",
      "0.49501226923083924\n",
      "0.4950122692307918\n",
      "0.4950122692307724\n",
      "0.4950122692307724\n",
      "0.4950122692307754\n",
      "0.495012269230771\n",
      "0.49501226923077135\n",
      "0.49501226923076913\n",
      "0.49501226923076924\n",
      "0.49501226923076924\n",
      "0.49501226923076913\n",
      "0.49501226923076913\n",
      "0.49501226923076913\n",
      "0.49501226923076913\n",
      "0.49501226923076935\n",
      "0.49501226923076935\n",
      "0.49501226923076913\n",
      "0.49501226923076913\n",
      "0.49501226923076913\n",
      "0.49501226923076913\n",
      "0.49501226923076913\n",
      "0.49501226923076913\n",
      "0.49501226923076913\n",
      "0.49501226923076913\n",
      "0.49501226923076913\n",
      "0.49501226923076913\n",
      "0.49501226923076913\n",
      "0.49501226923076913\n",
      "0.49501226923076913\n",
      "0.49501226923076913\n",
      "0.49501226923076913\n",
      "0.49501226923076913\n",
      "0.49501226923076913\n",
      "0.49501226923076913\n",
      "0.49501226923076913\n",
      "0.49501226923076913\n",
      "0.49501226923076913\n",
      "0.49501226923076913\n",
      "0.49501226923076913\n",
      "0.49501226923076913\n",
      "0.49501226923076913\n",
      "0.49501226923076913\n",
      "0.49501226923076913\n",
      "0.49501226923076913\n",
      "0.49501226923076913\n",
      "0.49501226923076913\n",
      "0.49501226923076913\n",
      "0.49501226923076913\n",
      "0.49501226923076913\n",
      "0.49501226923076913\n",
      "0.49501226923076913\n",
      "0.49501226923076913\n",
      "0.49501226923076913\n",
      "0.49501226923076913\n",
      "0.49501226923076913\n",
      "0.49501226923076913\n",
      "0.49501226923076913\n",
      "0.49501226923076913\n",
      "0.49501226923076913\n",
      "0.49501226923076913\n",
      "0.49501226923076913\n",
      "0.49501226923076913\n",
      "0.49501226923076913\n",
      "0.49501226923076913\n",
      "0.49501226923076913\n",
      "0.49501226923076913\n",
      "0.49501226923076913\n",
      "0.49501226923076913\n",
      "0.49501226923076913\n",
      "0.49501226923076913\n",
      "0.49501226923076913\n",
      "0.49501226923076913\n",
      "0.49501226923076913\n",
      "0.49501226923076913\n",
      "0.49501226923076913\n",
      "0.49501226923076913\n",
      "0.49501226923076913\n",
      "0.49501226923076913\n",
      "0.49501226923076913\n",
      "0.49501226923076913\n",
      "0.49501226923076913\n",
      "0.49501226923076913\n",
      "0.49501226923076913\n",
      "0.49501226923076913\n",
      "0.49501226923076913\n",
      "0.49501226923076913\n",
      "0.49501226923076913\n",
      "0.49501226923076913\n",
      "0.49501226923076913\n",
      "0.49501226923076913\n",
      "0.49501226923076913\n",
      "0.49501226923076913\n",
      "0.49501226923076913\n",
      "0.49501226923076913\n",
      "0.49501226923076913\n",
      "0.49501226923076913\n",
      "0.49501226923076913\n",
      "0.49501226923076913\n",
      "0.49501226923076913\n",
      "0.49501226923076913\n",
      "0.49501226923076913\n",
      "0.49501226923076913\n",
      "0.49501226923076913\n",
      "0.49501226923076913\n",
      "0.49501226923076913\n",
      "0.49501226923076913\n",
      "0.49501226923076913\n",
      "0.49501226923076913\n",
      "0.49501226923076913\n",
      "0.49501226923076913\n",
      "0.49501226923076913\n",
      "0.49501226923076913\n",
      "0.49501226923076913\n",
      "0.49501226923076913\n",
      "0.49501226923076913\n",
      "0.49501226923076913\n",
      "0.49501226923076913\n",
      "0.49501226923076913\n",
      "0.49501226923076913\n",
      "0.49501226923076913\n",
      "0.49501226923076913\n",
      "0.49501226923076913\n",
      "0.49501226923076913\n",
      "0.49501226923076913\n",
      "0.49501226923076913\n",
      "0.49501226923076913\n",
      "0.49501226923076913\n",
      "0.49501226923076913\n",
      "0.49501226923076913\n",
      "0.49501226923076913\n",
      "0.49501226923076913\n",
      "0.49501226923076913\n",
      "0.49501226923076913\n",
      "0.49501226923076913\n",
      "0.49501226923076913\n",
      "0.49501226923076913\n",
      "0.49501226923076913\n",
      "0.49501226923076913\n",
      "0.49501226923076913\n",
      "0.49501226923076913\n",
      "0.49501226923076913\n",
      "0.49501226923076913\n",
      "0.49501226923076913\n",
      "0.49501226923076913\n",
      "0.49501226923076913\n",
      "0.49501226923076913\n",
      "0.49501226923076913\n",
      "0.49501226923076913\n",
      "0.49501226923076913\n",
      "0.49501226923076913\n",
      "0.49501226923076913\n",
      "0.49501226923076913\n",
      "0.49501226923076913\n",
      "0.49501226923076913\n",
      "0.49501226923076913\n",
      "0.49501226923076913\n",
      "0.49501226923076913\n",
      "0.49501226923076913\n",
      "0.49501226923076913\n",
      "0.49501226923076913\n",
      "0.49501226923076913\n",
      "0.49501226923076913\n",
      "0.49501226923076913\n",
      "0.49501226923076913\n",
      "0.49501226923076913\n",
      "0.49501226923076913\n",
      "0.49501226923076913\n",
      "0.49501226923076913\n",
      "0.49501226923076913\n",
      "0.49501226923076913\n",
      "0.49501226923076913\n",
      "0.49501226923076913\n",
      "0.49501226923076913\n",
      "0.49501226923076913\n",
      "0.49501226923076913\n",
      "0.49501226923076913\n",
      "0.49501226923076913\n",
      "0.49501226923076913\n",
      "0.49501226923076913\n",
      "0.49501226923076913\n",
      "0.49501226923076913\n",
      "0.49501226923076913\n",
      "0.49501226923076913\n",
      "0.49501226923076913\n",
      "0.49501226923076913\n",
      "0.49501226923076913\n"
     ]
    },
    {
     "data": {
      "text/plain": [
       "(array([[3.27207519e-14, 9.11288353e-19],\n",
       "        [3.27207519e-14, 9.11288353e-19],\n",
       "        [3.27207519e-14, 9.11288353e-19],\n",
       "        [3.27207519e-14, 9.11288353e-19],\n",
       "        [3.27207519e-14, 9.11288353e-19],\n",
       "        [3.27207519e-14, 9.11288353e-19],\n",
       "        [3.27207519e-14, 9.11288353e-19],\n",
       "        [3.27207519e-14, 9.11288353e-19],\n",
       "        [3.27207519e-14, 9.11288353e-19],\n",
       "        [3.27207519e-14, 9.11288353e-19],\n",
       "        [3.27207519e-14, 9.11288353e-19],\n",
       "        [3.27207519e-14, 9.11288353e-19],\n",
       "        [3.27207519e-14, 9.11288353e-19],\n",
       "        [3.27207519e-14, 9.11288353e-19],\n",
       "        [3.27207519e-14, 9.11288353e-19],\n",
       "        [3.27207519e-14, 9.11288353e-19],\n",
       "        [3.27207519e-14, 9.11288353e-19],\n",
       "        [3.27207519e-14, 9.11288353e-19],\n",
       "        [3.27207519e-14, 9.11288353e-19],\n",
       "        [3.27207519e-14, 9.11288353e-19],\n",
       "        [3.27207519e-14, 9.11288353e-19],\n",
       "        [3.27207519e-14, 9.11288353e-19],\n",
       "        [3.27207519e-14, 9.11288353e-19],\n",
       "        [3.27207519e-14, 9.11288353e-19],\n",
       "        [3.27207519e-14, 9.11288353e-19]]),\n",
       " array([3.27207519e-14, 9.11288353e-19]))"
      ]
     },
     "execution_count": 60,
     "metadata": {},
     "output_type": "execute_result"
    }
   ],
   "source": [
    "SFS(25, 2, 1, -1, 500, cost)"
   ]
  },
  {
   "cell_type": "code",
   "execution_count": 5,
   "metadata": {},
   "outputs": [
    {
     "name": "stdout",
     "output_type": "stream",
     "text": [
      "[1.  0.9 0.8 0.7 0.6 0.5 0.4 0.3 0.2 0.1]\n"
     ]
    }
   ],
   "source": [
    "size = 10\n",
    "pa = np.array([(size - i)/size for i in range(size)])\n",
    "print(pa)"
   ]
  },
  {
   "cell_type": "code",
   "execution_count": 109,
   "metadata": {},
   "outputs": [
    {
     "data": {
      "text/plain": [
       "array([[0.87591195, 0.74938363],\n",
       "       [0.8546313 , 0.59188256],\n",
       "       [0.90536796, 0.64638229],\n",
       "       [0.88216751, 0.42548164],\n",
       "       [0.86149127, 0.64128916],\n",
       "       [0.87962172, 0.49837984],\n",
       "       [0.84908901, 0.42149738],\n",
       "       [0.85153807, 0.11599085],\n",
       "       [0.8731179 , 0.3459416 ],\n",
       "       [0.86538315, 0.77808026],\n",
       "       [0.85243513, 0.46342686],\n",
       "       [0.86800859, 0.21852714],\n",
       "       [0.86408363, 0.75915045],\n",
       "       [0.87153219, 0.48361717],\n",
       "       [0.82822278, 0.23751951],\n",
       "       [0.86108372, 0.45724127],\n",
       "       [0.84948239, 0.77128444],\n",
       "       [0.88836301, 0.36286466],\n",
       "       [0.89156185, 0.31293887],\n",
       "       [0.85539824, 0.73736953],\n",
       "       [0.86379415, 0.08104787],\n",
       "       [0.86229829, 0.19478109],\n",
       "       [0.85659086, 0.47715421],\n",
       "       [0.85661463, 0.22579484],\n",
       "       [0.87342487, 0.67425256]])"
      ]
     },
     "execution_count": 109,
     "metadata": {},
     "output_type": "execute_result"
    }
   ],
   "source": [
    "diffuse(s, 10, 0.5)"
   ]
  },
  {
   "cell_type": "code",
   "execution_count": 66,
   "metadata": {},
   "outputs": [
    {
     "data": {
      "text/plain": [
       "-0.9701017564078309"
      ]
     },
     "execution_count": 66,
     "metadata": {},
     "output_type": "execute_result"
    }
   ],
   "source": [
    "np.random.choice(y[:,1])"
   ]
  },
  {
   "cell_type": "code",
   "execution_count": 110,
   "metadata": {},
   "outputs": [
    {
     "data": {
      "text/plain": [
       "array([0.6506872 , 0.04752142])"
      ]
     },
     "execution_count": 110,
     "metadata": {},
     "output_type": "execute_result"
    }
   ],
   "source": [
    "abs(y[0])"
   ]
  },
  {
   "cell_type": "code",
   "execution_count": 51,
   "metadata": {},
   "outputs": [
    {
     "name": "stdout",
     "output_type": "stream",
     "text": [
      "[[ 0.88899658 -0.90844423]\n",
      " [-0.76174795  0.07552753]\n",
      " [-0.66911188  0.11386428]\n",
      " [ 0.39922295 -0.32173669]\n",
      " [-0.32072406 -0.31244075]\n",
      " [ 0.18581729 -0.58870998]\n",
      " [-0.55884154 -0.66920732]\n",
      " [-0.17887883 -0.0051989 ]\n",
      " [ 0.53594623  0.03038276]\n",
      " [ 0.4668201  -0.47973137]\n",
      " [-0.72684015 -0.71597853]\n",
      " [-0.95863818 -0.77980425]\n",
      " [-0.48869505  0.24941332]\n",
      " [-0.72499102  0.10428315]\n",
      " [ 0.58937351  0.33664523]\n",
      " [ 0.34484703  0.94087642]\n",
      " [-0.51052814 -0.0286446 ]\n",
      " [ 0.65346975 -0.93894453]\n",
      " [-0.08946785 -0.21621207]\n",
      " [-0.44300485 -0.81258114]\n",
      " [ 0.84462791  0.03077479]\n",
      " [ 0.73983859 -0.16082949]\n",
      " [-0.20252268  0.61899141]\n",
      " [-0.27285986 -0.31726453]\n",
      " [ 0.66889353  0.28727198]]\n",
      "0.8889965826455266 -0.9084442252791749\n",
      "0.18581729423855808\n"
     ]
    }
   ],
   "source": [
    "y = np.random.uniform(-1, 1, (25, 2))\n",
    "print(y)\n",
    "print(y[0][0], y[0][1])\n",
    "print(np.random.choice(y[:,0]))"
   ]
  },
  {
   "cell_type": "code",
   "execution_count": 52,
   "metadata": {},
   "outputs": [
    {
     "data": {
      "text/plain": [
       "array([[ 7.39838591e-01, -1.60829489e-01,  2.49918731e-02],\n",
       "       [ 6.53469750e-01, -9.38944528e-01,  3.26722903e-02],\n",
       "       [ 8.88996583e-01, -9.08444225e-01,  5.98660972e-02],\n",
       "       [ 4.66820102e-01, -4.79731366e-01,  8.55895920e-02],\n",
       "       [ 3.99222953e-01, -3.21736687e-01,  1.31058067e-01],\n",
       "       [ 1.85817294e-01, -5.88709982e-01,  2.85851369e-01],\n",
       "       [-1.78878831e-01, -5.19889506e-03,  5.10548652e-01],\n",
       "       [-8.94678495e-02, -2.16212075e-01,  6.00967064e-01],\n",
       "       [-5.10528138e-01, -2.86445979e-02,  7.18366529e-01],\n",
       "       [-2.72859859e-01, -3.17264532e-01,  8.80589722e-01],\n",
       "       [ 5.35946234e-01,  3.03827550e-02,  9.49903257e-01],\n",
       "       [-3.20724062e-01, -3.12440749e-01,  9.58438311e-01],\n",
       "       [-4.43004849e-01, -8.12581139e-01,  1.25512079e+00],\n",
       "       [ 8.44627910e-01,  3.07747896e-02,  1.30482975e+00],\n",
       "       [-5.58841538e-01, -6.69207318e-01,  1.49861295e+00],\n",
       "       [-7.61747951e-01,  7.55275279e-02,  1.51442873e+00],\n",
       "       [-7.26840154e-01, -7.15978531e-01,  1.91738865e+00],\n",
       "       [-9.58638179e-01, -7.79804246e-01,  2.58614819e+00],\n",
       "       [-7.24991018e-01,  1.04283151e-01,  8.81223649e+00],\n",
       "       [-6.69111882e-01,  1.13864276e-01,  1.26557193e+01],\n",
       "       [-4.88695052e-01,  2.49413320e-01,  5.65811377e+03],\n",
       "       [ 6.68893525e-01,  2.87271985e-01,  6.66980709e+04],\n",
       "       [ 5.89373507e-01,  3.36645227e-01,  5.66602667e+05],\n",
       "       [-2.02522680e-01,  6.18991412e-01,  6.90336272e+10],\n",
       "       [ 3.44847034e-01,  9.40876424e-01,  1.61200291e+18]])"
      ]
     },
     "execution_count": 52,
     "metadata": {},
     "output_type": "execute_result"
    }
   ],
   "source": [
    "s = sort_by_cost(y, cost)\n",
    "s"
   ]
  },
  {
   "cell_type": "code",
   "execution_count": 53,
   "metadata": {},
   "outputs": [
    {
     "data": {
      "text/plain": [
       "array([[ 0.73983859, -0.16082949],\n",
       "       [ 0.65346975, -0.93894453],\n",
       "       [ 0.88899658, -0.90844423],\n",
       "       [ 0.4668201 , -0.47973137],\n",
       "       [ 0.39922295, -0.32173669],\n",
       "       [ 0.18581729, -0.58870998],\n",
       "       [-0.17887883, -0.0051989 ],\n",
       "       [-0.08946785, -0.21621207],\n",
       "       [-0.51052814, -0.0286446 ],\n",
       "       [-0.27285986, -0.31726453],\n",
       "       [ 0.53594623,  0.03038276],\n",
       "       [-0.32072406, -0.31244075],\n",
       "       [-0.44300485, -0.81258114],\n",
       "       [ 0.84462791,  0.03077479],\n",
       "       [-0.55884154, -0.66920732],\n",
       "       [-0.76174795,  0.07552753],\n",
       "       [-0.72684015, -0.71597853],\n",
       "       [-0.95863818, -0.77980425],\n",
       "       [-0.72499102,  0.10428315],\n",
       "       [-0.66911188,  0.11386428],\n",
       "       [-0.48869505,  0.24941332],\n",
       "       [ 0.66889353,  0.28727198],\n",
       "       [ 0.58937351,  0.33664523],\n",
       "       [-0.20252268,  0.61899141],\n",
       "       [ 0.34484703,  0.94087642]])"
      ]
     },
     "execution_count": 53,
     "metadata": {},
     "output_type": "execute_result"
    }
   ],
   "source": [
    "np.delete(s[s[:,-1].argsort()], -1, axis=1)"
   ]
  },
  {
   "cell_type": "code",
   "execution_count": 42,
   "metadata": {},
   "outputs": [
    {
     "data": {
      "text/plain": [
       "array([[-0.84400715, -0.92356415],\n",
       "       [ 0.79500619, -0.89508228],\n",
       "       [-0.67281882, -0.82368449],\n",
       "       [-0.34712976, -0.76591623],\n",
       "       [-0.03279211, -0.55803472],\n",
       "       [-0.39312649, -0.51792102],\n",
       "       [ 0.1049864 , -0.41921952],\n",
       "       [-0.59813341, -0.28866285],\n",
       "       [-0.40632639, -0.11857955],\n",
       "       [ 0.63933594, -0.0707824 ],\n",
       "       [ 0.27182283, -0.02759769],\n",
       "       [ 0.30662055,  0.02815045],\n",
       "       [ 0.76272619,  0.14837756],\n",
       "       [ 0.7228771 ,  0.18183488],\n",
       "       [ 0.33487631,  0.26195958],\n",
       "       [ 0.11556922,  0.26321415],\n",
       "       [ 0.05767852,  0.47192284],\n",
       "       [-0.5596823 ,  0.52108952],\n",
       "       [ 0.87846753,  0.53954025],\n",
       "       [ 0.96437662,  0.55766419],\n",
       "       [ 0.31293704,  0.68682712],\n",
       "       [-0.47951612,  0.78999832],\n",
       "       [-0.06202529,  0.87704514],\n",
       "       [ 0.39452525,  0.90325065],\n",
       "       [-0.67290275,  0.91884183]])"
      ]
     },
     "execution_count": 42,
     "metadata": {},
     "output_type": "execute_result"
    }
   ],
   "source": [
    "s[s[:,-1].argsort()]"
   ]
  },
  {
   "cell_type": "code",
   "execution_count": null,
   "metadata": {},
   "outputs": [],
   "source": []
  }
 ],
 "metadata": {
  "kernelspec": {
   "display_name": "Python 3",
   "language": "python",
   "name": "python3"
  },
  "language_info": {
   "codemirror_mode": {
    "name": "ipython",
    "version": 3
   },
   "file_extension": ".py",
   "mimetype": "text/x-python",
   "name": "python",
   "nbconvert_exporter": "python",
   "pygments_lexer": "ipython3",
   "version": "3.7.1"
  }
 },
 "nbformat": 4,
 "nbformat_minor": 4
}
