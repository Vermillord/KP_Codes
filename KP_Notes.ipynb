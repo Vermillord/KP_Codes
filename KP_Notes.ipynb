{
 "cells": [
  {
   "cell_type": "markdown",
   "metadata": {},
   "source": [
    "# Day 1"
   ]
  },
  {
   "cell_type": "markdown",
   "metadata": {},
   "source": [
    "## Numpy Vectorization\n",
    "\n",
    "Most operations are done element-wise i.e. using for loops such as"
   ]
  },
  {
   "cell_type": "code",
   "execution_count": 6,
   "metadata": {},
   "outputs": [
    {
     "data": {
      "text/plain": [
       "[5, 7, 9]"
      ]
     },
     "execution_count": 6,
     "metadata": {},
     "output_type": "execute_result"
    }
   ],
   "source": [
    "import numpy as np\n",
    "\n",
    "a = np.array([1, 2, 3])\n",
    "b = np.array([4, 5, 6])\n",
    "\n",
    "out = []\n",
    "\n",
    "for i in range(len(a)):\n",
    "    out.append(a[i] + b[i])\n",
    "out"
   ]
  },
  {
   "cell_type": "markdown",
   "metadata": {},
   "source": [
    "The sum product of array a and b are calculated by summing each 'element' of each array, hence the term element-wise. Whereas, a vectorized operation would operate every element in the array simultaneously."
   ]
  },
  {
   "cell_type": "code",
   "execution_count": 7,
   "metadata": {},
   "outputs": [
    {
     "data": {
      "text/plain": [
       "array([5, 7, 9])"
      ]
     },
     "execution_count": 7,
     "metadata": {},
     "output_type": "execute_result"
    }
   ],
   "source": [
    "a + b"
   ]
  },
  {
   "cell_type": "markdown",
   "metadata": {},
   "source": [
    "By using vectorization, more complex arrays or other datas can be operated more effieciently thanks to **The Broadcasting Rule**. The rule states that an array can be broadcasted to another array for each missing length the first array has, but the other length of the two arrays must have the same size. An example of this is"
   ]
  },
  {
   "cell_type": "code",
   "execution_count": 8,
   "metadata": {},
   "outputs": [
    {
     "data": {
      "text/plain": [
       "array([[4, 5, 6],\n",
       "       [5, 6, 7],\n",
       "       [6, 7, 8],\n",
       "       [7, 8, 9]])"
      ]
     },
     "execution_count": 8,
     "metadata": {},
     "output_type": "execute_result"
    }
   ],
   "source": [
    "A = np.array([[0, 0, 0],\n",
    "             [1, 1, 1],\n",
    "             [2, 2, 2],\n",
    "             [3, 3, 3]])\n",
    "\n",
    "A + b"
   ]
  },
  {
   "cell_type": "markdown",
   "metadata": {},
   "source": [
    "It can be seen that array b is broadcasted to each row of array A. A vectorized operation can also be done by using a boolean opearot that can result in a boolean array. An example of this is shown as"
   ]
  },
  {
   "cell_type": "code",
   "execution_count": 11,
   "metadata": {},
   "outputs": [
    {
     "data": {
      "text/plain": [
       "array([False,  True,  True])"
      ]
     },
     "execution_count": 11,
     "metadata": {},
     "output_type": "execute_result"
    }
   ],
   "source": [
    "a > 1"
   ]
  },
  {
   "cell_type": "code",
   "execution_count": 14,
   "metadata": {},
   "outputs": [
    {
     "data": {
      "text/plain": [
       "array([[False, False, False],\n",
       "       [False, False,  True],\n",
       "       [False,  True,  True],\n",
       "       [ True,  True,  True]])"
      ]
     },
     "execution_count": 14,
     "metadata": {},
     "output_type": "execute_result"
    }
   ],
   "source": [
    "A+b > 6"
   ]
  },
  {
   "cell_type": "markdown",
   "metadata": {},
   "source": [
    "Sometimes the data used needs to be standardized first. It can be done by using the equation\n",
    "\n",
    "$$\n",
    "x' = \\frac{x'-x}{\\sigma}\n",
    "$$"
   ]
  },
  {
   "cell_type": "code",
   "execution_count": 20,
   "metadata": {},
   "outputs": [
    {
     "data": {
      "text/plain": [
       "array([-1.46385011, -0.87831007, -0.29277002,  0.29277002,  0.87831007,\n",
       "        1.46385011])"
      ]
     },
     "execution_count": 20,
     "metadata": {},
     "output_type": "execute_result"
    }
   ],
   "source": [
    "c = np.array([1, 2, 3, 4, 5, 6])\n",
    "\n",
    "(c - c.mean())/c.std()"
   ]
  },
  {
   "cell_type": "markdown",
   "metadata": {},
   "source": [
    "## Functions"
   ]
  },
  {
   "cell_type": "markdown",
   "metadata": {},
   "source": [
    "Functions can be made in python by using the 'def' command. For each functions made there must be corresponding arguments for the function to connect a value inserted and the operation done"
   ]
  },
  {
   "cell_type": "code",
   "execution_count": 38,
   "metadata": {},
   "outputs": [
    {
     "data": {
      "text/plain": [
       "['This', 'is', 'a', 'python', 'list']"
      ]
     },
     "execution_count": 38,
     "metadata": {},
     "output_type": "execute_result"
    }
   ],
   "source": [
    "def append_list(lst, lst_val):\n",
    "    for i in range(len(lst_val)):\n",
    "        lst.append(lst_val[i])\n",
    "    return lst\n",
    "\n",
    "lst = [\"This\", \"is\"]\n",
    "add_list = [\"a\", \"python\", \"list\"]\n",
    "\n",
    "\n",
    "append_list(lst, add_list)\n",
    "lst"
   ]
  },
  {
   "cell_type": "markdown",
   "metadata": {},
   "source": [
    "There are positional arguments that can be used for functions, which are args and kwargs. args are used for taking elements from lists and kwargs are used for taking elements from a dictionary. The difference between the two of these are the operator * and ** are used for taking elements from a list and dictionary, respectively."
   ]
  },
  {
   "cell_type": "markdown",
   "metadata": {},
   "source": [
    "## Decorators"
   ]
  },
  {
   "cell_type": "markdown",
   "metadata": {},
   "source": [
    "Decorators are used to add functionality to a function that is created in python. By using decorators, it won't the function that has been created. Take this decorator function as an example."
   ]
  },
  {
   "cell_type": "code",
   "execution_count": 64,
   "metadata": {},
   "outputs": [],
   "source": [
    "def decorator_func(func):\n",
    "    def wrapper_func():\n",
    "        print('This wrapper goes before the function below')\n",
    "        return func()\n",
    "    return wrapper_func"
   ]
  },
  {
   "cell_type": "markdown",
   "metadata": {},
   "source": [
    "Next, we create a function to use the decorator with."
   ]
  },
  {
   "cell_type": "code",
   "execution_count": 65,
   "metadata": {},
   "outputs": [
    {
     "name": "stdout",
     "output_type": "stream",
     "text": [
      "This is the function\n"
     ]
    }
   ],
   "source": [
    "def some_func():\n",
    "    print('This is the function')\n",
    "\n",
    "some_func()"
   ]
  },
  {
   "cell_type": "markdown",
   "metadata": {},
   "source": [
    "By adding the decorator before the function is used, the results will be."
   ]
  },
  {
   "cell_type": "code",
   "execution_count": 66,
   "metadata": {},
   "outputs": [
    {
     "name": "stdout",
     "output_type": "stream",
     "text": [
      "This wrapper goes before the function below\n",
      "This is the function with decorator\n"
     ]
    }
   ],
   "source": [
    "@decorator_func\n",
    "def deco_func():\n",
    "    print('This is the function with decorator')\n",
    "\n",
    "deco_func()"
   ]
  },
  {
   "cell_type": "markdown",
   "metadata": {},
   "source": [
    "It is shown here that the function that we created has another functionality that can be added through the wrapper function."
   ]
  },
  {
   "cell_type": "markdown",
   "metadata": {},
   "source": [
    "## Differential Equation Analysis"
   ]
  },
  {
   "cell_type": "markdown",
   "metadata": {},
   "source": [
    "### Euler Method"
   ]
  },
  {
   "cell_type": "markdown",
   "metadata": {},
   "source": [
    "Euler's method for differential equation analysis is to approximate the value ODEs by iterating the differential function to its initial value. Consider the following equation.\n",
    "\n",
    "$$\n",
    "\\frac{dy(x)}{dx} = f(y(x),x)\n",
    "$$\n",
    "\n",
    "Assume that the function has an initial value of y = y0. The euler method to find the value from the equation will be iterated with the function itself multiplied by a step size of h. The function of the approximation y* is\n",
    "\n",
    "$$\n",
    "y^*(x) = y_0 + h.f(y(x),x)\n",
    "$$\n",
    "\n",
    "The smaller the value of h the more accurate it gets, but there needs to be a consideration in choosing a small h because the calculation time will increase as the smaller h gets."
   ]
  },
  {
   "cell_type": "markdown",
   "metadata": {},
   "source": [
    "### Runge Kutta 4th Order"
   ]
  },
  {
   "cell_type": "markdown",
   "metadata": {},
   "source": [
    "Runge Kutta approximates the value of an ODE by iterating the initial value with four values which are k1, k2, k3, k4.\n",
    "\n",
    "$$\n",
    "k_1 = f(y^*(x_0), x_0)\n",
    "$$\n",
    "\n",
    "$$\n",
    "k_2 = f(y^*(x_0) + k_1\\frac{h}{2}, t_0 + \\frac{h}{2})\n",
    "$$\n",
    "\n",
    "$$\n",
    "k_2 = f(y^*(x_0) + k_2\\frac{h}{2}, t_0 + \\frac{h}{2})\n",
    "$$\n",
    "\n",
    "$$\n",
    "k_4 = f(y^*(x_0) + k_3h, x_0 + h)\n",
    "$$\n",
    "\n",
    "The estimation value of the ODE based on the four values of k is determined by the function below.\n",
    "\n",
    "$$\n",
    "y^*(x_0 + h) = y^*(x_0) + h.\\frac{k_1 + 2k_2 + 2k_3 + k_4}{6}\n",
    "$$\n",
    "\n",
    "The method works similarly to a weighted function shown by the value that are multiplied to each k. "
   ]
  },
  {
   "cell_type": "code",
   "execution_count": 67,
   "metadata": {},
   "outputs": [],
   "source": [
    "# Python class for both method"
   ]
  },
  {
   "cell_type": "code",
   "execution_count": null,
   "metadata": {},
   "outputs": [],
   "source": []
  }
 ],
 "metadata": {
  "kernelspec": {
   "display_name": "Python 3",
   "language": "python",
   "name": "python3"
  },
  "language_info": {
   "codemirror_mode": {
    "name": "ipython",
    "version": 3
   },
   "file_extension": ".py",
   "mimetype": "text/x-python",
   "name": "python",
   "nbconvert_exporter": "python",
   "pygments_lexer": "ipython3",
   "version": "3.7.1"
  }
 },
 "nbformat": 4,
 "nbformat_minor": 4
}
