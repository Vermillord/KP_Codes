{
 "cells": [
  {
   "cell_type": "markdown",
   "metadata": {},
   "source": [
    "# Steady State Response"
   ]
  },
  {
   "cell_type": "markdown",
   "metadata": {},
   "source": [
    "Based on the data that are obtained, they will be fitted to the function below\n",
    "\n",
    "$\\displaystyle{ \\hat{u}_s = \\beta_1 \\left(1 - e^{\\beta_2 v_s + \\beta_3 \\sqrt[10]{v_s}} \\right) }$\n",
    "\n",
    "where $u_s$ is throttle, $v_s$ is steady-state speed for a constant input, and $\\beta_1, \\beta_2, \\beta_3 \\in \\Re$\n",
    "\n",
    "The cost function that will be minimized using PSO, APSO, and BSO is stated below\n",
    "\n",
    "$ \\displaystyle{\n",
    "J = \\frac{1}{M} \\sum_{i=1}^M \\left(u_s - \\hat{u}_s \\right)^2\n",
    "} $\n",
    "\n",
    "The constraints that will be used when minimizing are\n",
    "\n",
    "$ \\displaystyle{\n",
    "    \\beta_1 \\geq 0\n",
    "} $\n",
    "\n",
    "$\\displaystyle{\n",
    "\\beta_2, \\beta_3 \\leq 0\n",
    "}$"
   ]
  },
  {
   "cell_type": "markdown",
   "metadata": {},
   "source": [
    "## Import Libraries and Data"
   ]
  },
  {
   "cell_type": "code",
   "execution_count": 43,
   "metadata": {
    "execution": {
     "iopub.execute_input": "2020-07-17T13:21:36.143270Z",
     "iopub.status.busy": "2020-07-17T13:21:36.142271Z",
     "iopub.status.idle": "2020-07-17T13:21:36.149254Z",
     "shell.execute_reply": "2020-07-17T13:21:36.149254Z",
     "shell.execute_reply.started": "2020-07-17T13:21:36.142271Z"
    }
   },
   "outputs": [],
   "source": [
    "import numpy as np\n",
    "import numba as nb\n",
    "import math\n",
    "import matplotlib.pyplot as plt\n",
    "import pandas as pd\n",
    "import time\n",
    "import random\n",
    "from numba import jit, njit, types, vectorize, prange\n",
    "from numba import jitclass, int32, float32, int64, float64\n",
    "from numba.typed import List\n",
    "from multiprocessing import Pool\n",
    "from os import listdir\n",
    "from os.path import isfile, join"
   ]
  },
  {
   "cell_type": "code",
   "execution_count": 14,
   "metadata": {
    "ExecuteTime": {
     "end_time": "2020-05-14T12:44:13.607919Z",
     "start_time": "2020-05-14T12:44:13.582268Z"
    },
    "execution": {
     "iopub.execute_input": "2020-07-17T13:01:04.261370Z",
     "iopub.status.busy": "2020-07-17T13:01:04.260371Z",
     "iopub.status.idle": "2020-07-17T13:01:04.269349Z",
     "shell.execute_reply": "2020-07-17T13:01:04.268351Z",
     "shell.execute_reply.started": "2020-07-17T13:01:04.261370Z"
    }
   },
   "outputs": [],
   "source": [
    "df = pd.read_csv('data/steady_state_velocity.csv')\n",
    "v0 = np.array(df.speed[1:])\n",
    "u0 = np.array(df.throttle[1:])"
   ]
  },
  {
   "cell_type": "markdown",
   "metadata": {},
   "source": [
    "## Data Plot"
   ]
  },
  {
   "cell_type": "code",
   "execution_count": 15,
   "metadata": {
    "execution": {
     "iopub.execute_input": "2020-07-17T13:01:05.574882Z",
     "iopub.status.busy": "2020-07-17T13:01:05.574882Z",
     "iopub.status.idle": "2020-07-17T13:01:05.727447Z",
     "shell.execute_reply": "2020-07-17T13:01:05.726481Z",
     "shell.execute_reply.started": "2020-07-17T13:01:05.574882Z"
    }
   },
   "outputs": [
    {
     "data": {
      "image/png": "[encoded data removed]",
      "text/plain": [
       "<Figure size 432x288 with 1 Axes>"
      ]
     },
     "metadata": {
      "needs_background": "light"
     },
     "output_type": "display_data"
    }
   ],
   "source": [
    "plt.title('Steady State Velocity')\n",
    "plt.xlabel('Speed')\n",
    "plt.ylabel('Throttle')\n",
    "plt.scatter(v0, u0)\n",
    "plt.show()"
   ]
  },
  {
   "cell_type": "markdown",
   "metadata": {},
   "source": [
    "## Functions"
   ]
  },
  {
   "cell_type": "markdown",
   "metadata": {},
   "source": [
    "Cost Function"
   ]
  },
  {
   "cell_type": "code",
   "execution_count": 41,
   "metadata": {
    "execution": {
     "iopub.execute_input": "2020-07-17T13:18:29.129039Z",
     "iopub.status.busy": "2020-07-17T13:18:29.129039Z",
     "iopub.status.idle": "2020-07-17T13:18:29.720438Z",
     "shell.execute_reply": "2020-07-17T13:18:29.719426Z",
     "shell.execute_reply.started": "2020-07-17T13:18:29.129039Z"
    }
   },
   "outputs": [],
   "source": [
    "@njit\n",
    "def cost(beta):\n",
    "    u = beta[0]*(1.0 - np.exp(beta[1]*v0 + beta[2]*v0**(0.1)))\n",
    "    err = np.absolute(u - u0)\n",
    "    return np.mean(err**2)\n",
    "\n",
    "_ = cost(np.array([0.1,0.1,0.1]))"
   ]
  },
  {
   "cell_type": "markdown",
   "metadata": {},
   "source": [
    "Evaluation Function (for plotting results)"
   ]
  },
  {
   "cell_type": "code",
   "execution_count": 40,
   "metadata": {
    "execution": {
     "iopub.execute_input": "2020-07-17T13:17:42.800275Z",
     "iopub.status.busy": "2020-07-17T13:17:42.799277Z",
     "iopub.status.idle": "2020-07-17T13:17:42.809246Z",
     "shell.execute_reply": "2020-07-17T13:17:42.808249Z",
     "shell.execute_reply.started": "2020-07-17T13:17:42.800275Z"
    }
   },
   "outputs": [],
   "source": [
    "@njit\n",
    "def ev_func(beta):\n",
    "    b1, b2, b3 = param\n",
    "    u = b1*(1.0 - np.exp(b2*v0 + b3*v0**(0.1)))\n",
    "    return u\n",
    "\n",
    "_ = cost([0.1,0.1,0.1])"
   ]
  },
  {
   "cell_type": "markdown",
   "metadata": {},
   "source": [
    "PSO Algorithm"
   ]
  },
  {
   "cell_type": "code",
   "execution_count": 45,
   "metadata": {
    "collapsed": true,
    "execution": {
     "iopub.execute_input": "2020-07-17T13:21:49.444696Z",
     "iopub.status.busy": "2020-07-17T13:21:49.444696Z",
     "iopub.status.idle": "2020-07-17T13:21:50.791094Z",
     "shell.execute_reply": "2020-07-17T13:21:50.790128Z",
     "shell.execute_reply.started": "2020-07-17T13:21:49.444696Z"
    },
    "jupyter": {
     "outputs_hidden": true
    }
   },
   "outputs": [
    {
     "name": "stdout",
     "output_type": "stream",
     "text": [
      "Iteration:  1  | Global best cost:  1010872329417882.9\n",
      "1010872329417882.9\n",
      "The best position for each parameter:  [0.27717281 0.77280671 0.49841267]  with  1  iteration.\n"
     ]
    }
   ],
   "source": [
    "@njit\n",
    "def PSO(c_func, n_param, particles, lb, ub, iterate_max):\n",
    "    # Define the constants\n",
    "    w = 0.5\n",
    "    c1 = 0.8\n",
    "    c2 = 0.7\n",
    "    iterate = 0\n",
    "    \n",
    "    # Setup the initial conditions for position and velocity arrays\n",
    "    ppos_vector = np.random.uniform(lb, ub, (particles, n_param))\n",
    "    pbest_pos = ppos_vector\n",
    "    pfit_value = np.ones(particles) * 1e100\n",
    "    gbest_pos = np.zeros(n_param)\n",
    "    gfit_value = 1e100\n",
    "    pvel_vector = np.zeros((particles, n_param))\n",
    "    \n",
    "    # First loop for assigning the fitness value using the cost function\n",
    "    for i in range(particles):\n",
    "        # Check the position of individual and group value using the evaluation function\n",
    "        cost_func = c_func(ppos_vector[i])\n",
    "        \n",
    "        # Update each values using the cost functions\n",
    "        if(pfit_value[i] > cost_func):\n",
    "            pfit_value[i] = cost_func\n",
    "            pbest_pos[i] = np.copy(ppos_vector[i])\n",
    "                \n",
    "        if(gfit_value > cost_func):\n",
    "            gfit_value = cost_func\n",
    "            gbest_pos = np.copy(ppos_vector[i])\n",
    "        \n",
    "    # Second loop for implementing the PSO Algorithm\n",
    "    while (iterate < iterate_max):\n",
    "        for i in range(particles):\n",
    "            # Update the velocity and position vector\n",
    "            pvel_vector[i] = w*pvel_vector[i] + c1*random.random()*(pbest_pos[i]-ppos_vector[i]) + c2*random.random()*(gbest_pos-ppos_vector[i])\n",
    "            ppos_vector[i] = pvel_vector[i] + ppos_vector[i]\n",
    "            \n",
    "            cost_func = c_func(ppos_vector[i])\n",
    "            \n",
    "            # Update each values using the cost functions\n",
    "            if(pfit_value[i] > cost_func):\n",
    "                pfit_value[i] = cost_func\n",
    "                pbest_pos[i] = np.copy(ppos_vector[i])\n",
    "                \n",
    "            if(gfit_value > cost_func):\n",
    "                gfit_value = cost_func\n",
    "                gbest_pos = np.copy(ppos_vector[i])\n",
    "        \n",
    "        iterate = iterate+1\n",
    "        print(\"Iteration: \", iterate, \" | Global best cost: \", c_func(gbest_pos))\n",
    "    \n",
    "    print(c_func(gbest_pos))\n",
    "    print(\"The best position for each parameter: \", gbest_pos, \" with \", iterate, \" iteration.\")\n",
    "    return ppos_vector, gbest_pos\n",
    "\n",
    "_ = PSO(cost, 3, 1, 0, 1, 1)"
   ]
  },
  {
   "cell_type": "markdown",
   "metadata": {},
   "source": [
    "APSO Algorithm"
   ]
  },
  {
   "cell_type": "code",
   "execution_count": null,
   "metadata": {},
   "outputs": [],
   "source": []
  }
 ],
 "metadata": {
  "kernelspec": {
   "display_name": "Python 3",
   "language": "python",
   "name": "python3"
  },
  "language_info": {
   "codemirror_mode": {
    "name": "ipython",
    "version": 3
   },
   "file_extension": ".py",
   "mimetype": "text/x-python",
   "name": "python",
   "nbconvert_exporter": "python",
   "pygments_lexer": "ipython3",
   "version": "3.7.1"
  }
 },
 "nbformat": 4,
 "nbformat_minor": 4
}
